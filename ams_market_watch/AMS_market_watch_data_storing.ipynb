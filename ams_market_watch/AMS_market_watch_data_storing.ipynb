{
 "cells": [
  {
   "cell_type": "code",
   "execution_count": 2,
   "metadata": {},
   "outputs": [
    {
     "data": {
      "text/html": [
       "<style>.container { width:95% !important; }</style>"
      ],
      "text/plain": [
       "<IPython.core.display.HTML object>"
      ]
     },
     "metadata": {},
     "output_type": "display_data"
    }
   ],
   "source": [
    "from IPython.core.display import display, HTML\n",
    "display(HTML(\"<style>.container { width:95% !important; }</style>\"))"
   ]
  },
  {
   "cell_type": "code",
   "execution_count": 16,
   "metadata": {},
   "outputs": [],
   "source": [
    "#Essentials\n",
    "import numpy as np\n",
    "import pandas as pd\n",
    "import pickle\n",
    "import re\n",
    "import datetime as dt\n",
    "import time\n",
    "\n",
    "#SQL related - NEED TO DECIDE WHICH ONE I'LL BE USING AND DELETE THE REST\n",
    "import psycopg2\n",
    "import sqlite3\n",
    "from sqlalchemy import create_engine\n",
    "import pandas.io.sql as pd_sql\n",
    "\n",
    "pd.set_option('display.max_columns', 100)"
   ]
  },
  {
   "cell_type": "code",
   "execution_count": 47,
   "metadata": {},
   "outputs": [],
   "source": [
    "def trim_energy_label(energy_label):\n",
    "    \"\"\"Takes 'Energy label' column and strips it from the words 'What does this mean?'\n",
    "    Return just the label\"\"\"\n",
    "    no_touch_list = ['Not required', 'Not available', np.NaN]\n",
    "    if energy_label not in no_touch_list:\n",
    "        return energy_label[0]\n",
    "    else: \n",
    "        return np.NaN\n",
    "    "
   ]
  },
  {
   "cell_type": "code",
   "execution_count": 50,
   "metadata": {},
   "outputs": [
    {
     "data": {
      "text/plain": [
       "2462"
      ]
     },
     "execution_count": 50,
     "metadata": {},
     "output_type": "execute_result"
    }
   ],
   "source": [
    "# Load the list of property advertisment dictionaries from a pickle file\n",
    "with open('./Cellar/ads_so_far.pkl', 'rb') as ads_list_pickle:\n",
    "            ads_list = pickle.load(ads_list_pickle)\n",
    "\n",
    "len(ads_list)"
   ]
  },
  {
   "cell_type": "code",
   "execution_count": 66,
   "metadata": {
    "scrolled": true
   },
   "outputs": [],
   "source": [
    "# This is to create a pandas dataframe with the column sorting as in the dictionaries\n",
    "column_list = []\n",
    "\n",
    "for ad in ads_list:\n",
    "    for feat_name in list(ad.keys()):\n",
    "        if feat_name not in column_list:\n",
    "            column_list.append(feat_name)\n",
    "\n",
    "# Initiate the dataframe with the desired columns\n",
    "ads_df = pd.DataFrame(columns=column_list)\n",
    "\n",
    "for ad in ads_list:\n",
    "    ads_df = ads_df.append(ad, ignore_index=True)\n",
    "\n",
    "ads_df.drop(columns=['price'], inplace=True)\n",
    "ads_df['Energy label'] = ads_df['Energy label'].apply(trim_energy_label)\n",
    "\n",
    "# ads_df"
   ]
  },
  {
   "cell_type": "code",
   "execution_count": 67,
   "metadata": {},
   "outputs": [],
   "source": [
    "for col in ads_df.columns:\n",
    "    if col == 'price':\n",
    "        print(col)"
   ]
  },
  {
   "cell_type": "code",
   "execution_count": 72,
   "metadata": {
    "scrolled": false
   },
   "outputs": [],
   "source": [
    "conn = sqlite3.connect('ams_market_watch.db')  # You can create a new database by changing the name within the quotes\n",
    "cursor = conn.cursor() # The database will be saved in the location where your 'py' file is saved"
   ]
  },
  {
   "cell_type": "code",
   "execution_count": 69,
   "metadata": {},
   "outputs": [],
   "source": [
    "current_db_df = pd.read_sql_query(\"SELECT * FROM property_ads\", con=conn)\n"
   ]
  },
  {
   "cell_type": "code",
   "execution_count": 74,
   "metadata": {},
   "outputs": [
    {
     "data": {
      "text/plain": [
       "2462"
      ]
     },
     "execution_count": 74,
     "metadata": {},
     "output_type": "execute_result"
    }
   ],
   "source": [
    "df.count()[0]"
   ]
  },
  {
   "cell_type": "code",
   "execution_count": null,
   "metadata": {},
   "outputs": [],
   "source": []
  }
 ],
 "metadata": {
  "kernelspec": {
   "display_name": "Python 3",
   "language": "python",
   "name": "python3"
  },
  "language_info": {
   "codemirror_mode": {
    "name": "ipython",
    "version": 3
   },
   "file_extension": ".py",
   "mimetype": "text/x-python",
   "name": "python",
   "nbconvert_exporter": "python",
   "pygments_lexer": "ipython3",
   "version": "3.6.5"
  }
 },
 "nbformat": 4,
 "nbformat_minor": 2
}
