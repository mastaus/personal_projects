{
 "cells": [
  {
   "cell_type": "code",
   "execution_count": 2,
   "metadata": {},
   "outputs": [
    {
     "data": {
      "text/html": [
       "<style>.container { width:95% !important; }</style>"
      ],
      "text/plain": [
       "<IPython.core.display.HTML object>"
      ]
     },
     "metadata": {},
     "output_type": "display_data"
    }
   ],
   "source": [
    "from IPython.core.display import display, HTML\n",
    "display(HTML(\"<style>.container { width:95% !important; }</style>\"))"
   ]
  },
  {
   "cell_type": "markdown",
   "metadata": {},
   "source": [
    "### Import necessary packages"
   ]
  },
  {
   "cell_type": "code",
   "execution_count": 3,
   "metadata": {},
   "outputs": [],
   "source": [
    "#Essentials\n",
    "import numpy as np\n",
    "import pandas as pd\n",
    "import pickle\n",
    "import re\n",
    "import datetime as dt\n",
    "import time\n",
    "\n",
    "# For scraping\n",
    "import requests\n",
    "from bs4 import BeautifulSoup\n",
    "from selenium import webdriver\n",
    "from selenium.webdriver.support.ui import Select\n",
    "from selenium.webdriver.common.keys import Keys\n",
    "from selenium.webdriver.support.wait import WebDriverWait\n",
    "from selenium.webdriver.common.by import By\n",
    "from selenium.webdriver.support import expected_conditions as EC\n",
    "import os\n",
    "\n",
    "#SQL related - NEED TO DECIDE WHICH ONE I'LL BE USING AND DELETE THE REST\n",
    "import psycopg2\n",
    "import sqlite3\n",
    "from sqlalchemy import create_engine\n",
    "import pandas.io.sql as pd_sql\n",
    "\n",
    "#Visualization\n",
    "import matplotlib.pyplot as plt\n",
    "import matplotlib\n",
    "import seaborn as sns\n",
    "\n",
    "\n",
    "%matplotlib inline\n",
    "from matplotlib.pylab import rcParams\n",
    "rcParams['figure.figsize'] = 25, 6\n",
    "rcParams.update({'font.size': 14})"
   ]
  },
  {
   "cell_type": "markdown",
   "metadata": {},
   "source": [
    "## Gather data"
   ]
  },
  {
   "cell_type": "markdown",
   "metadata": {},
   "source": [
    "### Helper functions"
   ]
  },
  {
   "cell_type": "code",
   "execution_count": 73,
   "metadata": {},
   "outputs": [],
   "source": [
    "def is_for_sale_active(url):\n",
    "    \"\"\"Checks if 'For Sale' tab is selected, to make sure we're not looking at rentals\n",
    "    Returns a Boolean (True for For Sale is active, False - if it isn't active)\"\"\"\n",
    "    \n",
    "def get_todays_ads():\n",
    "    \"\"\"Retrieves only adverts posted today\"\"\"\n",
    "    \n",
    "#Get urls for all the pages and put them into a list\n",
    "def get_url_list():\n",
    "    \"\"\"Records the current url and goes through the website, clicking Next as many times as there are pages.\n",
    "    Returns a list of urls to be used in the get_htmls function.\"\"\"\n",
    "    #Creates a list of urls for all pages\n",
    "    url_list = []\n",
    "    \n",
    "    #Reads the url of the page the driver is currently in and adds it into the list\n",
    "    current_page_url = driver.current_url\n",
    "    url_list.append(current_page_url)\n",
    "    \n",
    "    curr_page_num = 0\n",
    "    count_exceptions = 0\n",
    "    while True:\n",
    "        try:\n",
    "            curr_page_num += 1\n",
    "            #Find \"Next\" button and click it\n",
    "            find_next = driver.find_element_by_xpath(\"//a[@rel='next']\")\n",
    "            find_next.click()\n",
    "            current_page_url = driver.current_url\n",
    "            url_list.append(current_page_url)\n",
    "            time.sleep(10)\n",
    "        except:\n",
    "            #Count the exceptions\n",
    "            count_exceptions += 1\n",
    "            curr_page_num -= 1 #since we are coming back to the same page\n",
    "            #If the there haven't been 3 exceptions yet, sleep for a bit and then continue\n",
    "            if count_exceptions < 3:\n",
    "                time.sleep(10)\n",
    "            else:\n",
    "                #If \"Next\" button isn't there anymore or an error occurs, return the list\n",
    "                #driver.close()\n",
    "                print(f'Last page number was {curr_page_num}.')\n",
    "                return url_list\n",
    "    print(f'Last page number was {curr_page_num}.')\n",
    "    #driver.close()\n",
    "    return url_list\n",
    "\n",
    "def scrape_data(html):\n",
    "    \"\"\"Reads in the data about each property from a given html file.\n",
    "    Returns a dictionary (WILL HAVE TO CHANGE THIS IN THE FUTURE)\"\"\"\n",
    "    \n",
    "\n",
    "#Get all the html files for each property ad and put it into a list\n",
    "def get_htmls(html_list):\n",
    "    \"\"\"Takes current html list.\n",
    "    Returns updated html list with all the property ad htmls available on the page.\"\"\"\n",
    "    \n",
    "    #Find all property add htmls\n",
    "    elems = driver.find_elements_by_xpath(\"//a[@href]\")\n",
    "    for elem in elems:\n",
    "        html = elem.get_attribute(\"href\")\n",
    "        html_list.append(html)        \n",
    "    return html_list\n",
    "\n",
    "\n",
    "def get_each_feature(highlighted_features):\n",
    "    \"\"\"Takes a string with all highlighted features and puts them into a dictionary.\n",
    "    Returns the dictionary\"\"\"\n",
    "    feature_list = highlighted_features.split('\\n')[1:]\n",
    "    counter = 0\n",
    "    feat_dict = {}\n",
    "    \n",
    "    for feat in feature_list[::2]:\n",
    "        feat_index = feature_list.index(feat)\n",
    "        feat_dict[feat] = feature_list[feat_index+1]\n",
    "    return feat_dict"
   ]
  },
  {
   "cell_type": "code",
   "execution_count": 5,
   "metadata": {},
   "outputs": [],
   "source": [
    "# At the moment only getting the data from Funda, could have a list of websites in the future\n",
    "website = 'https://www.funda.nl/en/'\n",
    "\n",
    "chromedriver = \"/Applications/chromedriver\"           #  path to the chromedriver executable\n",
    "os.environ[\"webdriver.chrome.driver\"] = chromedriver"
   ]
  },
  {
   "cell_type": "code",
   "execution_count": 63,
   "metadata": {},
   "outputs": [],
   "source": [
    "# Go to the website\n",
    "driver = webdriver.Chrome(chromedriver)\n",
    "driver.get(website)"
   ]
  },
  {
   "cell_type": "code",
   "execution_count": 65,
   "metadata": {
    "scrolled": false
   },
   "outputs": [],
   "source": [
    "\n",
    "\n",
    "# Now apply desired filters (e.g. set location to Amsterdam)\n",
    "# try:\n",
    "filter_loc = driver.find_element_by_name('filter_location')\n",
    "filter_loc.send_keys('Amsterdam')\n",
    "\n",
    "# Wait for the first dropdown option to appear and select the first option\n",
    "WebDriverWait(driver, 5).until(EC.visibility_of_element_located((By.CSS_SELECTOR, \".autocomplete-list\")))\n",
    "filter_loc.send_keys(Keys.ARROW_DOWN)\n",
    "filter_loc.send_keys(Keys.ENTER)\n",
    "\n",
    "filter_radius = Select(driver.find_element_by_id('Straal'))\n",
    "filter_radius.select_by_value('0')\n",
    "\n",
    "filter_price_from = Select(driver.find_element_by_name('filter_KoopprijsVan'))\n",
    "filter_price_from.select_by_value('200000')\n",
    "\n",
    "filter_price_upto = Select(driver.find_element_by_name('filter_KoopprijsTot'))\n",
    "filter_price_upto.select_by_value('400000')\n",
    "\n",
    "find_search = driver.find_element_by_xpath(\"//button[contains(text(), 'Search')]\")\n",
    "find_search.click()\n",
    "\n",
    "# Now that we applied basic filters, let's narrow the search down more\n",
    "\n",
    "# except:\n",
    "#     driver.find_element_by_class_name('recaptcha-checkbox-border').click()\n",
    "# except:\n",
    "#     WebElement iFrame_checkbox = driver.findElement(By.xpath(\"xpath_of_reCaptcha_checkbox\"));\n",
    "#     iFrame_checkbox.click();\n",
    "\n",
    "\n",
    "# car_type_form.send_keys(Keys.RETURN)"
   ]
  },
  {
   "cell_type": "code",
   "execution_count": 91,
   "metadata": {
    "scrolled": false
   },
   "outputs": [],
   "source": [
    "# url_list = get_url_list()\n",
    "# with open('./Cellar/pages_url_list.pkl', 'wb') as url_pickle:\n",
    "#     pickle.dump(url_list, url_pickle)"
   ]
  },
  {
   "cell_type": "code",
   "execution_count": 96,
   "metadata": {},
   "outputs": [
    {
     "name": "stdout",
     "output_type": "stream",
     "text": [
      "Imported 77 URLs.\n"
     ]
    }
   ],
   "source": [
    "with open('./Cellar/pages_url_list.pkl', 'rb') as url_pickle:\n",
    "    url_list = pickle.load(url_pickle)\n",
    "\n",
    "print(f'Imported {len(url_list)} URLs.')"
   ]
  },
  {
   "cell_type": "code",
   "execution_count": 32,
   "metadata": {
    "scrolled": false
   },
   "outputs": [],
   "source": [
    "count = 0\n",
    "\n",
    "html_list = []\n",
    "\n",
    "elems = driver.find_elements_by_xpath(\"//a[@href]\")\n",
    "for elem in elems:\n",
    "    html = elem.get_attribute(\"href\")\n",
    "    if (bool(re.search(r'appartement-\\d+', html)) or bool(re.search('huis-\\d+', html))) and html not in html_list: \n",
    "        html_list.append(html)"
   ]
  },
  {
   "cell_type": "code",
   "execution_count": 76,
   "metadata": {},
   "outputs": [],
   "source": [
    "test_case = html_list[0]\n",
    "\n",
    "# To open the property ad\n",
    "driver.get(test_case)\n",
    "\n",
    "title = driver.find_element_by_class_name('object-header__title').text\n",
    "address = driver.find_element_by_class_name('object-header__subtitle').text\n",
    "price = driver.find_element_by_class_name('object-header__price').text\n",
    "highlighted_features = driver.find_element_by_class_name('kenmerken-highlighted').text\n",
    "highlighted_features = get_each_feature(highlighted_features)\n",
    "\n",
    "# Click to see all the features available\n",
    "time.sleep(5)\n",
    "driver.find_element_by_class_name('object-kenmerken-open-button').click()\n",
    "\n",
    "all_features = driver.find_element_by_class_name('object-kenmerken-body').text\n",
    "\n"
   ]
  },
  {
   "cell_type": "code",
   "execution_count": 77,
   "metadata": {},
   "outputs": [
    {
     "data": {
      "text/plain": [
       "'Transfer of ownership\\nAsking price\\n€ 325,000 k.k.\\nAsking price per m²\\n€ 7,927\\nListed since\\n2 weeks\\nStatus\\nAvailable\\nAcceptance\\nAvailable in consultation\\nVVE (Owners Association) contribution\\n€ 70 per month\\nConstruction\\nType apartment\\nUpstairs apartment (apartment)\\nBuilding type\\nResale property\\nYear of construction\\n1925\\nSpecific\\nListed building (national monument)\\nSurface areas and volume\\nAreas\\nLiving area\\n41 m²\\nExterior space attached to the building\\n2 m²\\nExternal storage space\\n7 m²\\nVolume in cubic meters\\n128 m³\\nLayout\\nNumber of rooms\\n2 rooms (1 bedroom)\\nNumber of bath rooms\\n1 bathroom\\nBathroom facilities\\nShower and toilet\\nNumber of residential layers (stories)\\n1 residential layer (story)\\nLocated at\\n3rd level of residential structure\\nFacilities\\nMechanical ventilation and TV via cable\\nEnergy\\nEnergy label\\nA 0.89 What does this mean?\\nInsulation\\nInsulated walls, floor insulation and double glazing\\nHeating\\nCH boiler\\nHot water\\nCH boiler\\nCH boiler\\nGas-fired combination boiler, in ownership\\nCadastral data\\nAMSTERDAM AC 1313\\nCadastral map\\nOwnership situation\\nMunicipal long-term lease (end date of long-term lease: 31-12-2056)\\nFees\\nPaid until 31-12-2056\\nExterior space\\nLocation\\nAlongside busy road and in residential district\\nStorage space\\nShed / storage\\nBuilt-in\\nParking\\nType of parking facilities\\nPaid parking and parking permits\\nVVE (Owners Association) checklist\\nRegistration with KvK\\nYes\\nAnnual meeting\\nYes\\nPeriodic contribution\\nYes (€ 70 per month)\\nReserve fund present\\nYes\\nMaintenance plan\\nYes\\nBuilding insurance\\nYes'"
      ]
     },
     "execution_count": 77,
     "metadata": {},
     "output_type": "execute_result"
    }
   ],
   "source": [
    "driver.find_element_by_class_name('object-kenmerken-body').text\n",
    "\n"
   ]
  },
  {
   "cell_type": "code",
   "execution_count": 78,
   "metadata": {
    "scrolled": true
   },
   "outputs": [],
   "source": [
    "driver.close()"
   ]
  },
  {
   "cell_type": "code",
   "execution_count": null,
   "metadata": {},
   "outputs": [],
   "source": []
  },
  {
   "cell_type": "code",
   "execution_count": null,
   "metadata": {},
   "outputs": [],
   "source": []
  }
 ],
 "metadata": {
  "kernelspec": {
   "display_name": "Python 3",
   "language": "python",
   "name": "python3"
  },
  "language_info": {
   "codemirror_mode": {
    "name": "ipython",
    "version": 3
   },
   "file_extension": ".py",
   "mimetype": "text/x-python",
   "name": "python",
   "nbconvert_exporter": "python",
   "pygments_lexer": "ipython3",
   "version": "3.6.5"
  }
 },
 "nbformat": 4,
 "nbformat_minor": 2
}
