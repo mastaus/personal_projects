{
 "cells": [
  {
   "cell_type": "code",
   "execution_count": 1,
   "metadata": {},
   "outputs": [
    {
     "data": {
      "text/html": [
       "<style>.container { width:95% !important; }</style>"
      ],
      "text/plain": [
       "<IPython.core.display.HTML object>"
      ]
     },
     "metadata": {},
     "output_type": "display_data"
    }
   ],
   "source": [
    "from IPython.core.display import display, HTML\n",
    "display(HTML(\"<style>.container { width:95% !important; }</style>\"))"
   ]
  },
  {
   "cell_type": "markdown",
   "metadata": {},
   "source": [
    "### Import necessary packages"
   ]
  },
  {
   "cell_type": "code",
   "execution_count": 79,
   "metadata": {},
   "outputs": [],
   "source": [
    "#Essentials\n",
    "import numpy as np\n",
    "import pandas as pd\n",
    "import pickle\n",
    "import re\n",
    "import datetime as dt\n",
    "import time\n",
    "\n",
    "# For scraping\n",
    "import requests\n",
    "from bs4 import BeautifulSoup\n",
    "from selenium import webdriver\n",
    "from selenium.webdriver.support.ui import Select\n",
    "from selenium.webdriver.common.keys import Keys\n",
    "from selenium.webdriver.support.wait import WebDriverWait\n",
    "from selenium.webdriver.common.by import By\n",
    "from selenium.webdriver.support import expected_conditions as EC\n",
    "import os\n",
    "\n",
    "#SQL related - NEED TO DECIDE WHICH ONE I'LL BE USING AND DELETE THE REST\n",
    "import psycopg2\n",
    "import sqlite3\n",
    "from sqlalchemy import create_engine\n",
    "import pandas.io.sql as pd_sql\n",
    "\n",
    "#Visualization\n",
    "import matplotlib.pyplot as plt\n",
    "import matplotlib\n",
    "import seaborn as sns\n",
    "\n",
    "\n",
    "%matplotlib inline\n",
    "from matplotlib.pylab import rcParams\n",
    "rcParams['figure.figsize'] = 25, 6\n",
    "rcParams.update({'font.size': 14})"
   ]
  },
  {
   "cell_type": "markdown",
   "metadata": {},
   "source": [
    "## Gather data"
   ]
  },
  {
   "cell_type": "markdown",
   "metadata": {},
   "source": [
    "### Helper functions"
   ]
  },
  {
   "cell_type": "code",
   "execution_count": 85,
   "metadata": {},
   "outputs": [],
   "source": [
    "def is_for_sale_active(url):\n",
    "    \"\"\"Checks if 'For Sale' tab is selected, to make sure we're not looking at rentals\n",
    "    Returns a Boolean (True for For Sale is active, False - if it isn't active)\"\"\"\n",
    "    \n",
    "def get_todays_ads():\n",
    "    \"\"\"Retrieves only adverts posted today\"\"\"\n",
    "    \n",
    "#Get urls for all the pages and put them into a list\n",
    "def get_url_list():\n",
    "    \"\"\"Records the current url and goes through the website, clicking Next as many times as there are pages.\n",
    "    Returns a list of urls to be used in the get_htmls function.\"\"\"\n",
    "    #Creates a list of urls for all pages\n",
    "    url_list = []\n",
    "    \n",
    "    #Reads the url of the page the driver is currently in and adds it into the list\n",
    "    current_page_url = driver.current_url\n",
    "    url_list.append(current_page_url)\n",
    "    \n",
    "    curr_page_num = 0\n",
    "    count_exceptions = 0\n",
    "    while True:\n",
    "        try:\n",
    "            curr_page_num += 1\n",
    "            #Find \"Next\" button and click it\n",
    "            find_next = driver.find_element_by_xpath(\"//a[@rel='next']\")\n",
    "            find_next.click()\n",
    "            current_page_url = driver.current_url\n",
    "            url_list.append(current_page_url)\n",
    "            time.sleep(10)\n",
    "        except:\n",
    "            #Count the exceptions\n",
    "            count_exceptions += 1\n",
    "            curr_page_num -= 1 #since we are coming back to the same page\n",
    "            #If the there haven't been 3 exceptions yet, sleep for a bit and then continue\n",
    "            if count_exceptions < 3:\n",
    "                time.sleep(10)\n",
    "            else:\n",
    "                #If \"Next\" button isn't there anymore or an error occurs, return the list\n",
    "                #driver.close()\n",
    "                print(f'Last page number was {curr_page_num}.')\n",
    "                return url_list\n",
    "    print(f'Last page number was {curr_page_num}.')\n",
    "    #driver.close()\n",
    "    return url_list\n",
    "\n",
    "#Get all the html files for each property ad and put it into a list\n",
    "def get_htmls(url_list):\n",
    "    \"\"\"Takes an url (of one page) and an existing html list.\n",
    "    Returns updated html list with all the htmls from provided url.\"\"\"\n",
    "    \n",
    "    \n",
    "    #Find all announcement items\n",
    "    elems = driver.find_elements_by_xpath(\"//a[@href]\")\n",
    "    for elem in elems:\n",
    "        # NEED TO STRIP OUT NON-PROPERTY AD HREFs\n",
    "        html = elem.get_attribute(\"href\")\n",
    "        html_list.append(html)\n",
    "        \n",
    "        print(elem.get_attribute(\"href\"))\n",
    "        \n",
    "    return html_list\n",
    "\n",
    "# IT MIGHT BE EASIER TO GO THROUGH URLs AND GET THE hrefs PAGE BY PAGE"
   ]
  },
  {
   "cell_type": "code",
   "execution_count": 75,
   "metadata": {},
   "outputs": [],
   "source": [
    "# At the moment only getting the data from Funda, could have a list of websites in the future\n",
    "website = 'https://www.funda.nl/en/'\n",
    "\n",
    "chromedriver = \"/Applications/chromedriver\"           #  path to the chromedriver executable\n",
    "os.environ[\"webdriver.chrome.driver\"] = chromedriver"
   ]
  },
  {
   "cell_type": "code",
   "execution_count": 82,
   "metadata": {},
   "outputs": [],
   "source": [
    "# Go to the website\n",
    "driver = webdriver.Chrome(chromedriver)\n",
    "driver.get(website)"
   ]
  },
  {
   "cell_type": "code",
   "execution_count": 83,
   "metadata": {
    "scrolled": false
   },
   "outputs": [],
   "source": [
    "\n",
    "\n",
    "# Now apply desired filters (e.g. set location to Amsterdam)\n",
    "# try:\n",
    "filter_loc = driver.find_element_by_name('filter_location')\n",
    "filter_loc.send_keys('Amsterdam')\n",
    "\n",
    "# Wait for the first dropdown option to appear and select the first option\n",
    "WebDriverWait(driver, 5).until(EC.visibility_of_element_located((By.CSS_SELECTOR, \".autocomplete-list\")))\n",
    "filter_loc.send_keys(Keys.ARROW_DOWN)\n",
    "filter_loc.send_keys(Keys.ENTER)\n",
    "\n",
    "filter_radius = Select(driver.find_element_by_id('Straal'))\n",
    "filter_radius.select_by_value('0')\n",
    "\n",
    "filter_price_from = Select(driver.find_element_by_name('filter_KoopprijsVan'))\n",
    "filter_price_from.select_by_value('200000')\n",
    "\n",
    "filter_price_upto = Select(driver.find_element_by_name('filter_KoopprijsTot'))\n",
    "filter_price_upto.select_by_value('400000')\n",
    "\n",
    "find_search = driver.find_element_by_xpath(\"//button[contains(text(), 'Search')]\")\n",
    "find_search.click()\n",
    "\n",
    "# Now that we applied basic filters, let's narrow the search down more\n",
    "\n",
    "# except:\n",
    "#     driver.find_element_by_class_name('recaptcha-checkbox-border').click()\n",
    "# except:\n",
    "#     WebElement iFrame_checkbox = driver.findElement(By.xpath(\"xpath_of_reCaptcha_checkbox\"));\n",
    "#     iFrame_checkbox.click();\n",
    "\n",
    "\n",
    "# car_type_form.send_keys(Keys.RETURN)"
   ]
  },
  {
   "cell_type": "code",
   "execution_count": 91,
   "metadata": {
    "scrolled": false
   },
   "outputs": [],
   "source": [
    "# url_list = get_url_list()\n",
    "# with open('./Cellar/pages_url_list.pkl', 'wb') as url_pickle:\n",
    "#     pickle.dump(url_list, url_pickle)"
   ]
  },
  {
   "cell_type": "code",
   "execution_count": 96,
   "metadata": {},
   "outputs": [
    {
     "name": "stdout",
     "output_type": "stream",
     "text": [
      "Imported 77 URLs.\n"
     ]
    }
   ],
   "source": [
    "with open('./Cellar/pages_url_list.pkl', 'rb') as url_pickle:\n",
    "    url_list = pickle.load(url_pickle)\n",
    "\n",
    "print(f'Imported {len(url_list)} URLs.')"
   ]
  },
  {
   "cell_type": "code",
   "execution_count": 101,
   "metadata": {
    "scrolled": false
   },
   "outputs": [
    {
     "name": "stdout",
     "output_type": "stream",
     "text": [
      "https://www.funda.nl/en/\n",
      "https://www.funda.nl/en/koop/amsterdam/200000-400000/p77/cettzercavddqudtb.html\n",
      "https://www.funda.nl/en/navigation/menu/\n",
      "https://www.funda.nl/en/huis-plaatsen/\n",
      "https://www.funda.nl/en/makelaars/\n",
      "https://www.funda.nl/en/makelaarsmatch/\n",
      "https://www.funda.nl/thuis/verkopen/\n",
      "https://www.funda.nl/en/woningwaarde/\n",
      "https://www.funda.nl/en/hypotheek/maandlasten/de-hypotheker/\n",
      "https://www.funda.nl/thuis/kopen/\n",
      "https://www.funda.nl/en/navigation/account/\n",
      "https://www.funda.nl/en/mijn/login/?ReturnUrl=%2Fen%2Fkoop%2Famsterdam%2F200000-400000%2F\n",
      "https://www.funda.nl/en/mijn/aanmelden/?ReturnUrl=%2Fen%2Fkoop%2Famsterdam%2F200000-400000%2F\n",
      "https://www.funda.nl/en/koop/amsterdam/200000-400000/p77/cettzercavddqudtb.html\n",
      "https://www.funda.nl/en/navigation/language/\n",
      "https://www.funda.nl/language/switch/?returnUrl=%2Fen%2Fkoop%2Famsterdam%2F200000-400000%2Fp77%2F\n",
      "https://www.funda.nl/en/mijn/nieuw/?Context=System.Web.HttpContextWrapper&Request=System.Web.HttpRequestWrapper&Response=System.Web.HttpResponseWrapper&HasContext=True&OnWWWSubDomain=True\n",
      "https://www.funda.nl/koop/amsterdam/\n",
      "https://www.funda.nl/en/koop/amsterdam/200000-400000/p77/cettzercavddqudtb.html\n",
      "https://www.funda.nl/en/koop/amsterdam/200000-400000/p77/#filters\n",
      "https://www.funda.nl/koop/amsterdam/\n",
      "https://www.funda.nl/en/koop/amsterdam/200000-400000/p77/\n",
      "https://www.funda.nl/en/kaart/koop/amsterdam/200000-400000/p77/\n",
      "https://www.funda.nl/en/koop/amsterdam/appartement-41564459-cornelis-van-rijplantsoen-6/?navigateSource=toppositie\n",
      "https://www.funda.nl/en/makelaars/amsterdam/24638-peters-de-jong-makelaardij-in-oz/\n",
      "https://www.funda.nl/en/koop/amsterdam/appartement-41579567-johan-hofmanstraat-246/?navigateSource=toppositie\n",
      "https://www.funda.nl/en/makelaars/amsterdam/24614-nieuw-west-makelaardij-bv/\n",
      "https://www.funda.nl/en/koop/amsterdam/appartement-41511776-wilhelminastraat-140-i/?navigateSource=toppositie\n",
      "https://www.funda.nl/en/makelaars/amsterdam/24728-pim-de-jong-makelaars/\n",
      "https://www.funda.nl/en/mijn/objectactions/saveobject/?internalId=1a868678-cd1e-4370-a3ee-e5e64f088da4&tinyId=86427701\n",
      "https://www.funda.nl/en/mijn/objectactions/removesavedobject/?internalId=1a868678-cd1e-4370-a3ee-e5e64f088da4&tinyId=86427701\n",
      "https://www.funda.nl/en/koop/amsterdam/appartement-86427701-renswoudestraat-16/?navigateSource=resultlist\n",
      "https://www.funda.nl/en/koop/amsterdam/appartement-86427701-renswoudestraat-16/?navigateSource=resultlist\n",
      "https://www.funda.nl/en/koop/amsterdam/appartement-86427701-renswoudestraat-16/?navigateSource=resultlist\n",
      "https://www.funda.nl/en/makelaars/amsterdam-duivendrecht/63003-collectief-makelaars/\n",
      "https://www.funda.nl/en/mijn/objectactions/saveobject/?internalId=2621a2c9-57cd-4314-9bcc-e91af0dafc90&tinyId=86268191\n",
      "https://www.funda.nl/en/mijn/objectactions/removesavedobject/?internalId=2621a2c9-57cd-4314-9bcc-e91af0dafc90&tinyId=86268191\n",
      "https://www.funda.nl/en/koop/amsterdam/appartement-86268191-van-nijenrodeweg-673/?navigateSource=resultlist\n",
      "https://www.funda.nl/en/koop/amsterdam/appartement-86268191-van-nijenrodeweg-673/?navigateSource=resultlist\n",
      "https://www.funda.nl/en/koop/amsterdam/appartement-86268191-van-nijenrodeweg-673/?navigateSource=resultlist\n",
      "https://www.funda.nl/en/makelaars/den-bosch/60282-otter-makelaardij/\n",
      "https://www.funda.nl/en/mijn/objectactions/saveobject/?internalId=55e232cd-1f83-4cac-bb60-8b3cb526eafa&tinyId=87912512\n",
      "https://www.funda.nl/en/mijn/objectactions/removesavedobject/?internalId=55e232cd-1f83-4cac-bb60-8b3cb526eafa&tinyId=87912512\n",
      "https://www.funda.nl/en/koop/amsterdam/appartement-87912512-schipluidenlaan-148/?navigateSource=resultlist\n",
      "https://www.funda.nl/en/koop/amsterdam/appartement-87912512-schipluidenlaan-148/?navigateSource=resultlist\n",
      "https://www.funda.nl/en/koop/amsterdam/appartement-87912512-schipluidenlaan-148/?navigateSource=resultlist\n",
      "https://www.funda.nl/en/makelaars/amsterdam/60586-makelaarfrank/\n",
      "https://www.funda.nl/en/nieuwbouw/amsterdam/\n",
      "https://www.funda.nl/en/koop/amsterdam/200000-400000/p77/#content\n",
      "https://www.funda.nl/en/koop/amsterdam/200000-400000/p76/\n",
      "https://www.funda.nl/en/koop/amsterdam/200000-400000/\n",
      "https://www.funda.nl/en/koop/amsterdam/200000-400000/p71/\n",
      "https://www.funda.nl/en/koop/amsterdam/200000-400000/p72/\n",
      "https://www.funda.nl/en/koop/amsterdam/200000-400000/p73/\n",
      "https://www.funda.nl/en/koop/amsterdam/200000-400000/p74/\n",
      "https://www.funda.nl/en/koop/amsterdam/200000-400000/p75/\n",
      "https://www.funda.nl/en/koop/amsterdam/200000-400000/p76/\n",
      "https://www.funda.nl/en/koop/amsterdam/200000-400000/p77/\n",
      "http://www.puurmakelaars.nl/over-puur-makelaars/vestigingen/amsterdam/?utm_source=funda&utm_medium=cpc&utm_term=v-amsterdam-zuid&utm_content=aankopen&utm_campaign=kantoor-ads\n",
      "https://www.funda.nl/en/koop/amsterdam/\n",
      "https://www.funda.nl/en/koop/amsterdam/appartement/\n",
      "https://www.funda.nl/en/koop/amsterdam/nieuwbouw/\n",
      "https://www.funda.nl/en/koop/amsterdam/verkocht/\n",
      "https://www.funda.nl/voorbereid-bieden/\n",
      "https://www.funda.nl/en/huis-plaatsen/\n",
      "https://www.funda.nl/en/makelaars/\n",
      "https://www.funda.nl/en/makelaarsmatch/\n",
      "https://www.funda.nl/en/koop/bladeren/\n",
      "https://www.funda.nl/en/woningwaarde/\n",
      "https://help.funda.nl/hc/nl/categories/200207038\n",
      "https://www.funda.nl/en/fundahuis/\n",
      "https://www.funda.nl/thuis/kopen/\n",
      "https://www.funda.nl/thuis/kopen/hypotheek/\n",
      "https://www.fundadesk.nl/\n",
      "https://www.funda.nl/voormakelaars/trends-data/\n",
      "https://www.funda.nl/voormakelaars/leads/\n",
      "https://www.funda.nl/voormakelaars/producten/\n",
      "https://www.funda.nl/over/\n",
      "https://www.funda.nl/en/contact/\n",
      "https://www.funda.nl/en/vacatures/\n",
      "https://www.funda.nl/en/adverteren/\n",
      "https://www.facebook.com/funda\n",
      "https://www.twitter.com/funda\n",
      "https://www.instagram.com/funda.nl/\n",
      "https://www.youtube.com/funda\n",
      "https://www.linkedin.com/company/funda\n",
      "https://www.funda.nl/en/privacybeleid/\n",
      "https://www.funda.nl/en/cookiebeleid/\n",
      "https://www.funda.nl/en/gebruiksvoorwaarden/\n"
     ]
    }
   ],
   "source": [
    "elems = driver.find_elements_by_xpath(\"//a[@href]\")\n",
    "for elem in elems:\n",
    "    print(elem.get_attribute(\"href\"))"
   ]
  },
  {
   "cell_type": "code",
   "execution_count": null,
   "metadata": {},
   "outputs": [],
   "source": []
  },
  {
   "cell_type": "code",
   "execution_count": 81,
   "metadata": {
    "scrolled": true
   },
   "outputs": [],
   "source": [
    "driver.close()"
   ]
  },
  {
   "cell_type": "code",
   "execution_count": null,
   "metadata": {},
   "outputs": [],
   "source": []
  },
  {
   "cell_type": "code",
   "execution_count": null,
   "metadata": {},
   "outputs": [],
   "source": []
  }
 ],
 "metadata": {
  "kernelspec": {
   "display_name": "Python 3",
   "language": "python",
   "name": "python3"
  },
  "language_info": {
   "codemirror_mode": {
    "name": "ipython",
    "version": 3
   },
   "file_extension": ".py",
   "mimetype": "text/x-python",
   "name": "python",
   "nbconvert_exporter": "python",
   "pygments_lexer": "ipython3",
   "version": "3.6.5"
  }
 },
 "nbformat": 4,
 "nbformat_minor": 2
}
