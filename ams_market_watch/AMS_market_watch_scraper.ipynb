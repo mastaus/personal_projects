{
 "cells": [
  {
   "cell_type": "code",
   "execution_count": 1,
   "metadata": {},
   "outputs": [
    {
     "data": {
      "text/html": [
       "<style>.container { width:95% !important; }</style>"
      ],
      "text/plain": [
       "<IPython.core.display.HTML object>"
      ]
     },
     "metadata": {},
     "output_type": "display_data"
    }
   ],
   "source": [
    "from IPython.core.display import display, HTML\n",
    "display(HTML(\"<style>.container { width:95% !important; }</style>\"))"
   ]
  },
  {
   "cell_type": "markdown",
   "metadata": {},
   "source": [
    "### Import necessary packages"
   ]
  },
  {
   "cell_type": "code",
   "execution_count": 2,
   "metadata": {},
   "outputs": [],
   "source": [
    "#Essentials\n",
    "import numpy as np\n",
    "import pandas as pd\n",
    "import pickle\n",
    "import re\n",
    "import datetime as dt\n",
    "import time\n",
    "\n",
    "# For scraping\n",
    "import requests\n",
    "import os\n",
    "from dotenv import load_dotenv\n",
    "from selenium import webdriver\n",
    "from selenium.webdriver.support.ui import Select\n",
    "from selenium.webdriver.common.keys import Keys\n",
    "from selenium.webdriver.support.wait import WebDriverWait\n",
    "from selenium.webdriver.common.by import By\n",
    "from selenium.webdriver.support import expected_conditions as EC\n",
    "\n",
    "#SQL related - NEED TO DECIDE WHICH ONE I'LL BE USING AND DELETE THE REST\n",
    "import psycopg2\n",
    "import sqlite3\n",
    "from sqlalchemy import create_engine\n",
    "import pandas.io.sql as pd_sql\n",
    "\n",
    "#Visualization\n",
    "import matplotlib.pyplot as plt\n",
    "import matplotlib\n",
    "import seaborn as sns\n",
    "\n",
    "\n",
    "%matplotlib inline\n",
    "from matplotlib.pylab import rcParams\n",
    "rcParams['figure.figsize'] = 25, 6\n",
    "rcParams.update({'font.size': 14})"
   ]
  },
  {
   "cell_type": "markdown",
   "metadata": {},
   "source": [
    "## Gather data"
   ]
  },
  {
   "cell_type": "markdown",
   "metadata": {},
   "source": [
    "### Helper functions"
   ]
  },
  {
   "cell_type": "code",
   "execution_count": 124,
   "metadata": {},
   "outputs": [],
   "source": [
    "def start_webdriver():\n",
    "    \"\"\"This function simply starts the chrome driver (from a defined location on the machine).\"\"\"\n",
    "    #Load .env file contents\n",
    "    load_dotenv()\n",
    "    \n",
    "    chromedriver = os.environ.get('webdriver_loc')           #  path to the chromedriver executable\n",
    "    os.environ[\"webdriver.chrome.driver\"] = chromedriver\n",
    "    url = os.environ.get('url')\n",
    "    \n",
    "    # Go to the website\n",
    "    driver = webdriver.Chrome(chromedriver)\n",
    "    driver.get(url)\n",
    "    \n",
    "def is_for_sale_active():\n",
    "    \"\"\"Checks if 'For Sale' tab is selected, to make sure we're not looking at rentals\n",
    "    Returns a Boolean (True for For Sale is active, False - if it isn't active)\"\"\"\n",
    "    \n",
    "def apply_basic_filters(filter_dict={'location': 'Amsterdam', 'radius': '0', 'min_price': '0', 'max_price': 'ignore_filter'}):\n",
    "    \"\"\"Takes a dictionary of basic filters, applies them and searches for the properties\"\"\"\n",
    "    # Now apply desired filters (e.g. set location to Amsterdam)\n",
    "    filter_loc = driver.find_element_by_name('filter_location')\n",
    "    filter_loc.send_keys(filter_dict['location'])\n",
    "\n",
    "    # Wait for the first dropdown option to appear and select the first option\n",
    "    WebDriverWait(driver, 5).until(EC.visibility_of_element_located((By.CSS_SELECTOR, \".autocomplete-list\")))\n",
    "    filter_loc.send_keys(Keys.ARROW_DOWN)\n",
    "    filter_loc.send_keys(Keys.ENTER)\n",
    "\n",
    "    filter_radius = Select(driver.find_element_by_id('Straal'))\n",
    "    filter_radius.select_by_value(filter_dict['radius'])\n",
    "\n",
    "    filter_price_from = Select(driver.find_element_by_name('filter_KoopprijsVan'))\n",
    "    filter_price_from.select_by_value(filter_dict['min_price'])\n",
    "\n",
    "    filter_price_upto = Select(driver.find_element_by_name('filter_KoopprijsTot'))\n",
    "    filter_price_upto.select_by_value(filter_dict['max_price'])\n",
    "\n",
    "    time.sleep(5)\n",
    "    find_search = driver.find_element_by_xpath(\"//button[contains(text(), 'Search')]\")\n",
    "    find_search.click()\n",
    "    \n",
    "def get_id(html):\n",
    "    \"\"\"Given an html this function retrieves the property id from the html link.\n",
    "    Returns the id\"\"\"\n",
    "    return int(re.findall(r'-\\d*-', html)[0].strip('-'))\n",
    "\n",
    "\n",
    "def get_feat_dict(feat_list):\n",
    "    \"\"\"Takes a string with all highlighted features and puts them into a dictionary.\n",
    "    Returns the dictionary\"\"\"\n",
    "    \n",
    "#     THIS IS NOT SUSTAINABLE, NEED TO FIND A BETTER WAY TO HANDLE CATEGORIES\n",
    "    \n",
    "    categories = ['Transfer of ownership', 'Construction', 'Surface areas and volume', 'Areas', 'Layout', 'Energy', 'What does this mean?', 'Cadastral map', 'Exterior space', 'Storage space', 'Parking', 'VVE (Owners Association) checklist', 'Garage']\n",
    "    feature_list = feat_list.split('\\n')[1:]\n",
    "    trim_feat_list = [feat for feat in feature_list if feat not in categories]\n",
    "    \n",
    "#     print(trim_feat_list) # USED FOR TESTING\n",
    "    counter = 0\n",
    "    feat_dict = {}\n",
    "    \n",
    "    for feat in trim_feat_list[::2]:\n",
    "        feat_index = trim_feat_list.index(feat)\n",
    "        if feat in feat_dict.keys():\n",
    "            repeat_tag = str(list(feat_dict.keys()).count(feat) + 1)\n",
    "            feat_dict[feat+'_'+repeat_tag] = trim_feat_list[feat_index+1]\n",
    "        else:\n",
    "            print(feat_dict) # USED FOR TESTING\n",
    "            feat_dict[feat] = trim_feat_list[feat_index+1]\n",
    "        del trim_feat_list[feat_index:feat_index+2]\n",
    "    return feat_dict\n",
    "\n",
    "# It could be an idea to log the categories in the dictionary and leave the value empty, that way the table will have separators indicating which feature the next columns are about\n",
    "\n",
    "\n",
    "def get_features(html):\n",
    "    \"\"\"Given an html, it retrieves a list of all the features that is further processed in get_each_feature function.\n",
    "    Returns a list of all feature names and features themselves\"\"\"\n",
    "    \n",
    "    feat_dict = {}\n",
    "    \n",
    "    driver.get(html)\n",
    "    \n",
    "    # Click to see all the features available\n",
    "    WebDriverWait(driver, 7).until(EC.visibility_of_element_located((By.CSS_SELECTOR, \".object-kenmerken-open-button\")))\n",
    "    driver.find_element_by_class_name('object-kenmerken-open-button').click()\n",
    "\n",
    "    # Retrieve all the other features now\n",
    "    time.sleep(5)\n",
    "    feat_list = driver.find_element_by_class_name('object-kenmerken-body').text\n",
    "    feat_dict = get_feat_dict(feat_list)\n",
    "    return feat_dict\n",
    "\n",
    "\n",
    "\n",
    "#Get urls for all the pages and put them into a list\n",
    "def get_url_list():\n",
    "    \"\"\"Records the current url and goes through the website, clicking Next as many times as there are pages.\n",
    "    Returns a list of urls to be used in the get_htmls function.\"\"\"\n",
    "    #Creates a list of urls for all pages\n",
    "    url_list = []\n",
    "    \n",
    "    #Reads the url of the page the driver is currently in and adds it into the list\n",
    "    current_page_url = driver.current_url\n",
    "    url_list.append(current_page_url)\n",
    "    \n",
    "    curr_page_num = 0\n",
    "    count_exceptions = 0\n",
    "    while True:\n",
    "        try:\n",
    "            curr_page_num += 1\n",
    "            #Find \"Next\" button and click it\n",
    "            find_next = driver.find_element_by_xpath(\"//a[@rel='next']\")\n",
    "            find_next.click()\n",
    "            current_page_url = driver.current_url\n",
    "            url_list.append(current_page_url)\n",
    "            time.sleep(10)\n",
    "        except:\n",
    "            #Count the exceptions\n",
    "            count_exceptions += 1\n",
    "            curr_page_num -= 1 #since we are coming back to the same page\n",
    "            #If the there haven't been 3 exceptions yet, sleep for a bit and then continue\n",
    "            if count_exceptions < 3:\n",
    "                time.sleep(10)\n",
    "            else:\n",
    "                #If \"Next\" button isn't there anymore or an error occurs, return the list\n",
    "                #driver.close()\n",
    "                print(f'Last page number was {curr_page_num}.')\n",
    "                return url_list\n",
    "    print(f'Last page number was {curr_page_num}.')\n",
    "    #driver.close()\n",
    "    return url_list   \n",
    "\n",
    "\n",
    "def go_to_next_page():\n",
    "    \"\"\"Finds the 'Next' button and clicks it\"\"\"\n",
    "    count_exceptions = 0\n",
    "    while True:\n",
    "        try:\n",
    "            #Find \"Next\" button and click it\n",
    "            find_next = driver.find_element_by_xpath(\"//a[@rel='next']\")\n",
    "            find_next.click()\n",
    "            time.sleep(7)\n",
    "        except:\n",
    "            #Count the exceptions\n",
    "            count_exceptions += 1\n",
    "            #If the there haven't been 3 exceptions yet, sleep for a bit and then continue\n",
    "            if count_exceptions < 3:\n",
    "                time.sleep(10)\n",
    "            else:\n",
    "                break\n",
    "    \n",
    "    \n",
    "#Get all the html files for each property ad and put it into a list\n",
    "def get_htmls(html_list):\n",
    "    \"\"\"Takes current html list.\n",
    "    Returns updated html list with all the property ad htmls available on the page.\"\"\"\n",
    "    current_url = driver.current_url\n",
    "    \n",
    "    #Find all property ad htmls\n",
    "    elems = driver.find_elements_by_xpath(\"//a[@href]\")\n",
    "    for elem in elems:\n",
    "        html = elem.get_attribute(\"href\")\n",
    "        if (bool(re.search(r'appartement-\\d+', html)) or bool(re.search('huis-\\d+', html))) and html not in html_list: \n",
    "            html_list.append(html)\n",
    "    return html_list\n",
    "\n",
    "\n",
    "def log_in():\n",
    "    \"\"\"Uses the credentials defined in the .env file to log in and saves properties matching desired criteria to the favourites\"\"\"\n",
    "    # This is to load environment variables\n",
    "    load_dotenv()\n",
    "    \n",
    "#     acct_url = 'https://www.funda.nl/en/navigation/account/'\n",
    "    login_url = os.environ.get('login_url')\n",
    "    driver.get(login_url)\n",
    "#     driver.find_element_by_id('appheader-inloggen-link').click()\n",
    "    WebDriverWait(driver, 5).until(EC.visibility_of_element_located((By.ID, \"Username\")))\n",
    "    \n",
    "    username_field = driver.find_element_by_id('Username')\n",
    "    username_field.send_keys(os.environ.get('username'))\n",
    "    password_field = driver.find_element_by_id('Password')\n",
    "    password_field.send_keys(os.environ.get('secret_f'))\n",
    "    driver.find_element_by_xpath(\"//button[contains(text(), 'Log in')]\").click()\n",
    "    \n",
    "def log_out():\n",
    "    \"\"\"Logs out once the actions are done\"\"\"\n",
    "    # This is to load environment variables\n",
    "    load_dotenv()\n",
    "    \n",
    "    logout_url = os.environ.get('logout_url')\n",
    "    driver.get(logout_url)\n",
    "    \n",
    "def save_to_favourites(html):\n",
    "    \"\"\"Saves the given html of the property to favourites\"\"\"\n",
    "    # Goes to the provided html (link)\n",
    "    driver.get(html)\n",
    "    \n",
    "    # Find the \"heart\" icon and clicks it once\n",
    "    driver.find_element_by_class_name('user-save-object').click()\n",
    "    \n",
    "\n",
    "def scrape_data():\n",
    "    \"\"\"Reads in the data about each property from a given html files.\n",
    "    Returns a dictionary (MIGHT HAVE TO CHANGE THIS IN THE FUTURE)\"\"\"\n",
    "\n",
    "    feat_dict_list = []\n",
    "    page_count = 0\n",
    "    \n",
    "    \n",
    "    while True:\n",
    "#     try:\n",
    "        html_list = []\n",
    "        html_list.append(get_htmls(html_list))\n",
    "\n",
    "        for html in html_list:\n",
    "#             print(html) USED FOR TESTING ONLY\n",
    "            property_dict = {}\n",
    "\n",
    "            # To open the property ad\n",
    "            driver.get(html)\n",
    "\n",
    "            property_dict['property_id'] = get_id(html)\n",
    "            property_dict['title'] = driver.find_element_by_class_name('object-header__title').text\n",
    "            property_dict['address'] = driver.find_element_by_class_name('object-header__subtitle').text\n",
    "            property_dict['price'] = driver.find_element_by_class_name('object-header__price').text\n",
    "            property_dict['neighbourhood'] = driver.find_element_by_class_name('object-buurt__name').text\n",
    "\n",
    "            other_features = get_features(html)\n",
    "            for key, value in other_features.items():\n",
    "                if key not in property_dict.keys():\n",
    "                    property_dict[key] = value\n",
    "#             print(property_dict) USED FOR TESTING ONLY\n",
    "            if property_dict not in feat_dict_list:\n",
    "                feat_dict_list.append(property_dict)\n",
    "#             print(feat_dict_list) USED FOR TESTING ONLY\n",
    "            go_to_next_page()\n",
    "            page_count += 1\n",
    "#     except:\n",
    "#         return feat_dict_list\n",
    "    print(f'Number of pages scraped {page_count}.')\n",
    "    return feat_dict_list\n",
    "    \n",
    "\n",
    "def get_todays_ads():\n",
    "    \"\"\"Retrieves only adverts posted today\"\"\"\n",
    "    "
   ]
  },
  {
   "cell_type": "code",
   "execution_count": 107,
   "metadata": {},
   "outputs": [],
   "source": [
    "# THIS CELL STARTS UP THE WEB-DRIVER AND GOES TO THE WEBSITE\n",
    "\n",
    "#Load .env file contents\n",
    "load_dotenv()\n",
    "\n",
    "chromedriver = os.environ.get('webdriver_loc')           #  path to the chromedriver executable\n",
    "os.environ[\"webdriver.chrome.driver\"] = chromedriver\n",
    "url = os.environ.get('url')\n",
    "\n",
    "# Go to the website\n",
    "driver = webdriver.Chrome(chromedriver)\n",
    "driver.get(url)"
   ]
  },
  {
   "cell_type": "code",
   "execution_count": 125,
   "metadata": {
    "scrolled": false
   },
   "outputs": [
    {
     "name": "stdout",
     "output_type": "stream",
     "text": [
      "{}\n",
      "{'Asking price': '€ 1,875,000 k.k.'}\n",
      "{'Asking price': '€ 1,875,000 k.k.', 'Asking price per m²': '€ 4,960'}\n",
      "{'Asking price': '€ 1,875,000 k.k.', 'Asking price per m²': '€ 4,960', 'Listed since': '3 weeks'}\n",
      "{'Asking price': '€ 1,875,000 k.k.', 'Asking price per m²': '€ 4,960', 'Listed since': '3 weeks', 'Status': 'Available'}\n",
      "{'Asking price': '€ 1,875,000 k.k.', 'Asking price per m²': '€ 4,960', 'Listed since': '3 weeks', 'Status': 'Available', 'Acceptance': 'Available in consultation'}\n",
      "{'Asking price': '€ 1,875,000 k.k.', 'Asking price per m²': '€ 4,960', 'Listed since': '3 weeks', 'Status': 'Available', 'Acceptance': 'Available in consultation', 'Kind of house': 'Villa, detached residential property'}\n",
      "{'Asking price': '€ 1,875,000 k.k.', 'Asking price per m²': '€ 4,960', 'Listed since': '3 weeks', 'Status': 'Available', 'Acceptance': 'Available in consultation', 'Kind of house': 'Villa, detached residential property', 'Building type': 'Resale property'}\n",
      "{'Asking price': '€ 1,875,000 k.k.', 'Asking price per m²': '€ 4,960', 'Listed since': '3 weeks', 'Status': 'Available', 'Acceptance': 'Available in consultation', 'Kind of house': 'Villa, detached residential property', 'Building type': 'Resale property', 'Construction period': '1981-1990'}\n",
      "{'Asking price': '€ 1,875,000 k.k.', 'Asking price per m²': '€ 4,960', 'Listed since': '3 weeks', 'Status': 'Available', 'Acceptance': 'Available in consultation', 'Kind of house': 'Villa, detached residential property', 'Building type': 'Resale property', 'Construction period': '1981-1990', 'Specific': 'Partly furnished with carpets and curtains'}\n",
      "{'Asking price': '€ 1,875,000 k.k.', 'Asking price per m²': '€ 4,960', 'Listed since': '3 weeks', 'Status': 'Available', 'Acceptance': 'Available in consultation', 'Kind of house': 'Villa, detached residential property', 'Building type': 'Resale property', 'Construction period': '1981-1990', 'Specific': 'Partly furnished with carpets and curtains', 'Type of roof': 'Gable roof covered with roof tiles'}\n",
      "{'Asking price': '€ 1,875,000 k.k.', 'Asking price per m²': '€ 4,960', 'Listed since': '3 weeks', 'Status': 'Available', 'Acceptance': 'Available in consultation', 'Kind of house': 'Villa, detached residential property', 'Building type': 'Resale property', 'Construction period': '1981-1990', 'Specific': 'Partly furnished with carpets and curtains', 'Type of roof': 'Gable roof covered with roof tiles', 'Living area': '378 m²'}\n",
      "{'Asking price': '€ 1,875,000 k.k.', 'Asking price per m²': '€ 4,960', 'Listed since': '3 weeks', 'Status': 'Available', 'Acceptance': 'Available in consultation', 'Kind of house': 'Villa, detached residential property', 'Building type': 'Resale property', 'Construction period': '1981-1990', 'Specific': 'Partly furnished with carpets and curtains', 'Type of roof': 'Gable roof covered with roof tiles', 'Living area': '378 m²', 'Other space inside the building': '38 m²'}\n",
      "{'Asking price': '€ 1,875,000 k.k.', 'Asking price per m²': '€ 4,960', 'Listed since': '3 weeks', 'Status': 'Available', 'Acceptance': 'Available in consultation', 'Kind of house': 'Villa, detached residential property', 'Building type': 'Resale property', 'Construction period': '1981-1990', 'Specific': 'Partly furnished with carpets and curtains', 'Type of roof': 'Gable roof covered with roof tiles', 'Living area': '378 m²', 'Other space inside the building': '38 m²', 'Exterior space attached to the building': '35 m²'}\n",
      "{'Asking price': '€ 1,875,000 k.k.', 'Asking price per m²': '€ 4,960', 'Listed since': '3 weeks', 'Status': 'Available', 'Acceptance': 'Available in consultation', 'Kind of house': 'Villa, detached residential property', 'Building type': 'Resale property', 'Construction period': '1981-1990', 'Specific': 'Partly furnished with carpets and curtains', 'Type of roof': 'Gable roof covered with roof tiles', 'Living area': '378 m²', 'Other space inside the building': '38 m²', 'Exterior space attached to the building': '35 m²', 'External storage space': '11 m²'}\n",
      "{'Asking price': '€ 1,875,000 k.k.', 'Asking price per m²': '€ 4,960', 'Listed since': '3 weeks', 'Status': 'Available', 'Acceptance': 'Available in consultation', 'Kind of house': 'Villa, detached residential property', 'Building type': 'Resale property', 'Construction period': '1981-1990', 'Specific': 'Partly furnished with carpets and curtains', 'Type of roof': 'Gable roof covered with roof tiles', 'Living area': '378 m²', 'Other space inside the building': '38 m²', 'Exterior space attached to the building': '35 m²', 'External storage space': '11 m²', 'Plot size': '3,785 m²'}\n",
      "{'Asking price': '€ 1,875,000 k.k.', 'Asking price per m²': '€ 4,960', 'Listed since': '3 weeks', 'Status': 'Available', 'Acceptance': 'Available in consultation', 'Kind of house': 'Villa, detached residential property', 'Building type': 'Resale property', 'Construction period': '1981-1990', 'Specific': 'Partly furnished with carpets and curtains', 'Type of roof': 'Gable roof covered with roof tiles', 'Living area': '378 m²', 'Other space inside the building': '38 m²', 'Exterior space attached to the building': '35 m²', 'External storage space': '11 m²', 'Plot size': '3,785 m²', 'Volume in cubic meters': '1,365 m³'}\n",
      "{'Asking price': '€ 1,875,000 k.k.', 'Asking price per m²': '€ 4,960', 'Listed since': '3 weeks', 'Status': 'Available', 'Acceptance': 'Available in consultation', 'Kind of house': 'Villa, detached residential property', 'Building type': 'Resale property', 'Construction period': '1981-1990', 'Specific': 'Partly furnished with carpets and curtains', 'Type of roof': 'Gable roof covered with roof tiles', 'Living area': '378 m²', 'Other space inside the building': '38 m²', 'Exterior space attached to the building': '35 m²', 'External storage space': '11 m²', 'Plot size': '3,785 m²', 'Volume in cubic meters': '1,365 m³', 'Number of rooms': '20 rooms (5 bedrooms)'}\n",
      "{'Asking price': '€ 1,875,000 k.k.', 'Asking price per m²': '€ 4,960', 'Listed since': '3 weeks', 'Status': 'Available', 'Acceptance': 'Available in consultation', 'Kind of house': 'Villa, detached residential property', 'Building type': 'Resale property', 'Construction period': '1981-1990', 'Specific': 'Partly furnished with carpets and curtains', 'Type of roof': 'Gable roof covered with roof tiles', 'Living area': '378 m²', 'Other space inside the building': '38 m²', 'Exterior space attached to the building': '35 m²', 'External storage space': '11 m²', 'Plot size': '3,785 m²', 'Volume in cubic meters': '1,365 m³', 'Number of rooms': '20 rooms (5 bedrooms)', 'Number of bath rooms': '4 bathrooms'}\n",
      "{'Asking price': '€ 1,875,000 k.k.', 'Asking price per m²': '€ 4,960', 'Listed since': '3 weeks', 'Status': 'Available', 'Acceptance': 'Available in consultation', 'Kind of house': 'Villa, detached residential property', 'Building type': 'Resale property', 'Construction period': '1981-1990', 'Specific': 'Partly furnished with carpets and curtains', 'Type of roof': 'Gable roof covered with roof tiles', 'Living area': '378 m²', 'Other space inside the building': '38 m²', 'Exterior space attached to the building': '35 m²', 'External storage space': '11 m²', 'Plot size': '3,785 m²', 'Volume in cubic meters': '1,365 m³', 'Number of rooms': '20 rooms (5 bedrooms)', 'Number of bath rooms': '4 bathrooms', 'Bathroom facilities': 'Bath, hipbath, 4 showers and 3 toilets'}\n",
      "{'Asking price': '€ 1,875,000 k.k.', 'Asking price per m²': '€ 4,960', 'Listed since': '3 weeks', 'Status': 'Available', 'Acceptance': 'Available in consultation', 'Kind of house': 'Villa, detached residential property', 'Building type': 'Resale property', 'Construction period': '1981-1990', 'Specific': 'Partly furnished with carpets and curtains', 'Type of roof': 'Gable roof covered with roof tiles', 'Living area': '378 m²', 'Other space inside the building': '38 m²', 'Exterior space attached to the building': '35 m²', 'External storage space': '11 m²', 'Plot size': '3,785 m²', 'Volume in cubic meters': '1,365 m³', 'Number of rooms': '20 rooms (5 bedrooms)', 'Number of bath rooms': '4 bathrooms', 'Bathroom facilities': 'Bath, hipbath, 4 showers and 3 toilets', 'Number of residential layers (stories)': '2 residential layers (stories) and a basement'}\n",
      "{'Asking price': '€ 1,875,000 k.k.', 'Asking price per m²': '€ 4,960', 'Listed since': '3 weeks', 'Status': 'Available', 'Acceptance': 'Available in consultation', 'Kind of house': 'Villa, detached residential property', 'Building type': 'Resale property', 'Construction period': '1981-1990', 'Specific': 'Partly furnished with carpets and curtains', 'Type of roof': 'Gable roof covered with roof tiles', 'Living area': '378 m²', 'Other space inside the building': '38 m²', 'Exterior space attached to the building': '35 m²', 'External storage space': '11 m²', 'Plot size': '3,785 m²', 'Volume in cubic meters': '1,365 m³', 'Number of rooms': '20 rooms (5 bedrooms)', 'Number of bath rooms': '4 bathrooms', 'Bathroom facilities': 'Bath, hipbath, 4 showers and 3 toilets', 'Number of residential layers (stories)': '2 residential layers (stories) and a basement', 'Facilities': 'Mechanical ventilation, alarm installation, TV via cable and outdoor awning'}\n",
      "{'Asking price': '€ 1,875,000 k.k.', 'Asking price per m²': '€ 4,960', 'Listed since': '3 weeks', 'Status': 'Available', 'Acceptance': 'Available in consultation', 'Kind of house': 'Villa, detached residential property', 'Building type': 'Resale property', 'Construction period': '1981-1990', 'Specific': 'Partly furnished with carpets and curtains', 'Type of roof': 'Gable roof covered with roof tiles', 'Living area': '378 m²', 'Other space inside the building': '38 m²', 'Exterior space attached to the building': '35 m²', 'External storage space': '11 m²', 'Plot size': '3,785 m²', 'Volume in cubic meters': '1,365 m³', 'Number of rooms': '20 rooms (5 bedrooms)', 'Number of bath rooms': '4 bathrooms', 'Bathroom facilities': 'Bath, hipbath, 4 showers and 3 toilets', 'Number of residential layers (stories)': '2 residential layers (stories) and a basement', 'Facilities': 'Mechanical ventilation, alarm installation, TV via cable and outdoor awning', 'Energy label': 'C What does this mean?'}\n",
      "{'Asking price': '€ 1,875,000 k.k.', 'Asking price per m²': '€ 4,960', 'Listed since': '3 weeks', 'Status': 'Available', 'Acceptance': 'Available in consultation', 'Kind of house': 'Villa, detached residential property', 'Building type': 'Resale property', 'Construction period': '1981-1990', 'Specific': 'Partly furnished with carpets and curtains', 'Type of roof': 'Gable roof covered with roof tiles', 'Living area': '378 m²', 'Other space inside the building': '38 m²', 'Exterior space attached to the building': '35 m²', 'External storage space': '11 m²', 'Plot size': '3,785 m²', 'Volume in cubic meters': '1,365 m³', 'Number of rooms': '20 rooms (5 bedrooms)', 'Number of bath rooms': '4 bathrooms', 'Bathroom facilities': 'Bath, hipbath, 4 showers and 3 toilets', 'Number of residential layers (stories)': '2 residential layers (stories) and a basement', 'Facilities': 'Mechanical ventilation, alarm installation, TV via cable and outdoor awning', 'Energy label': 'C What does this mean?', 'Insulation': 'Roof insulation and double glazing'}\n",
      "{'Asking price': '€ 1,875,000 k.k.', 'Asking price per m²': '€ 4,960', 'Listed since': '3 weeks', 'Status': 'Available', 'Acceptance': 'Available in consultation', 'Kind of house': 'Villa, detached residential property', 'Building type': 'Resale property', 'Construction period': '1981-1990', 'Specific': 'Partly furnished with carpets and curtains', 'Type of roof': 'Gable roof covered with roof tiles', 'Living area': '378 m²', 'Other space inside the building': '38 m²', 'Exterior space attached to the building': '35 m²', 'External storage space': '11 m²', 'Plot size': '3,785 m²', 'Volume in cubic meters': '1,365 m³', 'Number of rooms': '20 rooms (5 bedrooms)', 'Number of bath rooms': '4 bathrooms', 'Bathroom facilities': 'Bath, hipbath, 4 showers and 3 toilets', 'Number of residential layers (stories)': '2 residential layers (stories) and a basement', 'Facilities': 'Mechanical ventilation, alarm installation, TV via cable and outdoor awning', 'Energy label': 'C What does this mean?', 'Insulation': 'Roof insulation and double glazing', 'Heating': 'CH boiler'}\n",
      "{'Asking price': '€ 1,875,000 k.k.', 'Asking price per m²': '€ 4,960', 'Listed since': '3 weeks', 'Status': 'Available', 'Acceptance': 'Available in consultation', 'Kind of house': 'Villa, detached residential property', 'Building type': 'Resale property', 'Construction period': '1981-1990', 'Specific': 'Partly furnished with carpets and curtains', 'Type of roof': 'Gable roof covered with roof tiles', 'Living area': '378 m²', 'Other space inside the building': '38 m²', 'Exterior space attached to the building': '35 m²', 'External storage space': '11 m²', 'Plot size': '3,785 m²', 'Volume in cubic meters': '1,365 m³', 'Number of rooms': '20 rooms (5 bedrooms)', 'Number of bath rooms': '4 bathrooms', 'Bathroom facilities': 'Bath, hipbath, 4 showers and 3 toilets', 'Number of residential layers (stories)': '2 residential layers (stories) and a basement', 'Facilities': 'Mechanical ventilation, alarm installation, TV via cable and outdoor awning', 'Energy label': 'C What does this mean?', 'Insulation': 'Roof insulation and double glazing', 'Heating': 'CH boiler', 'Hot water': 'CH boiler'}\n",
      "{'Asking price': '€ 1,875,000 k.k.', 'Asking price per m²': '€ 4,960', 'Listed since': '3 weeks', 'Status': 'Available', 'Acceptance': 'Available in consultation', 'Kind of house': 'Villa, detached residential property', 'Building type': 'Resale property', 'Construction period': '1981-1990', 'Specific': 'Partly furnished with carpets and curtains', 'Type of roof': 'Gable roof covered with roof tiles', 'Living area': '378 m²', 'Other space inside the building': '38 m²', 'Exterior space attached to the building': '35 m²', 'External storage space': '11 m²', 'Plot size': '3,785 m²', 'Volume in cubic meters': '1,365 m³', 'Number of rooms': '20 rooms (5 bedrooms)', 'Number of bath rooms': '4 bathrooms', 'Bathroom facilities': 'Bath, hipbath, 4 showers and 3 toilets', 'Number of residential layers (stories)': '2 residential layers (stories) and a basement', 'Facilities': 'Mechanical ventilation, alarm installation, TV via cable and outdoor awning', 'Energy label': 'C What does this mean?', 'Insulation': 'Roof insulation and double glazing', 'Heating': 'CH boiler', 'Hot water': 'CH boiler', 'CH boiler': 'Nefit (gas-fired combination boiler from 2012, in ownership)'}\n",
      "{'Asking price': '€ 1,875,000 k.k.', 'Asking price per m²': '€ 4,960', 'Listed since': '3 weeks', 'Status': 'Available', 'Acceptance': 'Available in consultation', 'Kind of house': 'Villa, detached residential property', 'Building type': 'Resale property', 'Construction period': '1981-1990', 'Specific': 'Partly furnished with carpets and curtains', 'Type of roof': 'Gable roof covered with roof tiles', 'Living area': '378 m²', 'Other space inside the building': '38 m²', 'Exterior space attached to the building': '35 m²', 'External storage space': '11 m²', 'Plot size': '3,785 m²', 'Volume in cubic meters': '1,365 m³', 'Number of rooms': '20 rooms (5 bedrooms)', 'Number of bath rooms': '4 bathrooms', 'Bathroom facilities': 'Bath, hipbath, 4 showers and 3 toilets', 'Number of residential layers (stories)': '2 residential layers (stories) and a basement', 'Facilities': 'Mechanical ventilation, alarm installation, TV via cable and outdoor awning', 'Energy label': 'C What does this mean?', 'Insulation': 'Roof insulation and double glazing', 'Heating': 'CH boiler', 'Hot water': 'CH boiler', 'CH boiler': 'Nefit (gas-fired combination boiler from 2012, in ownership)', 'Cadastral data': 'LAREN C 1787'}\n",
      "{'Asking price': '€ 1,875,000 k.k.', 'Asking price per m²': '€ 4,960', 'Listed since': '3 weeks', 'Status': 'Available', 'Acceptance': 'Available in consultation', 'Kind of house': 'Villa, detached residential property', 'Building type': 'Resale property', 'Construction period': '1981-1990', 'Specific': 'Partly furnished with carpets and curtains', 'Type of roof': 'Gable roof covered with roof tiles', 'Living area': '378 m²', 'Other space inside the building': '38 m²', 'Exterior space attached to the building': '35 m²', 'External storage space': '11 m²', 'Plot size': '3,785 m²', 'Volume in cubic meters': '1,365 m³', 'Number of rooms': '20 rooms (5 bedrooms)', 'Number of bath rooms': '4 bathrooms', 'Bathroom facilities': 'Bath, hipbath, 4 showers and 3 toilets', 'Number of residential layers (stories)': '2 residential layers (stories) and a basement', 'Facilities': 'Mechanical ventilation, alarm installation, TV via cable and outdoor awning', 'Energy label': 'C What does this mean?', 'Insulation': 'Roof insulation and double glazing', 'Heating': 'CH boiler', 'Hot water': 'CH boiler', 'CH boiler': 'Nefit (gas-fired combination boiler from 2012, in ownership)', 'Cadastral data': 'LAREN C 1787', 'Area': '2.950 m²'}\n",
      "{'Asking price': '€ 1,875,000 k.k.', 'Asking price per m²': '€ 4,960', 'Listed since': '3 weeks', 'Status': 'Available', 'Acceptance': 'Available in consultation', 'Kind of house': 'Villa, detached residential property', 'Building type': 'Resale property', 'Construction period': '1981-1990', 'Specific': 'Partly furnished with carpets and curtains', 'Type of roof': 'Gable roof covered with roof tiles', 'Living area': '378 m²', 'Other space inside the building': '38 m²', 'Exterior space attached to the building': '35 m²', 'External storage space': '11 m²', 'Plot size': '3,785 m²', 'Volume in cubic meters': '1,365 m³', 'Number of rooms': '20 rooms (5 bedrooms)', 'Number of bath rooms': '4 bathrooms', 'Bathroom facilities': 'Bath, hipbath, 4 showers and 3 toilets', 'Number of residential layers (stories)': '2 residential layers (stories) and a basement', 'Facilities': 'Mechanical ventilation, alarm installation, TV via cable and outdoor awning', 'Energy label': 'C What does this mean?', 'Insulation': 'Roof insulation and double glazing', 'Heating': 'CH boiler', 'Hot water': 'CH boiler', 'CH boiler': 'Nefit (gas-fired combination boiler from 2012, in ownership)', 'Cadastral data': 'LAREN C 1787', 'Area': '2.950 m²', 'Ownership situation': 'Full ownership'}\n",
      "{'Asking price': '€ 1,875,000 k.k.', 'Asking price per m²': '€ 4,960', 'Listed since': '3 weeks', 'Status': 'Available', 'Acceptance': 'Available in consultation', 'Kind of house': 'Villa, detached residential property', 'Building type': 'Resale property', 'Construction period': '1981-1990', 'Specific': 'Partly furnished with carpets and curtains', 'Type of roof': 'Gable roof covered with roof tiles', 'Living area': '378 m²', 'Other space inside the building': '38 m²', 'Exterior space attached to the building': '35 m²', 'External storage space': '11 m²', 'Plot size': '3,785 m²', 'Volume in cubic meters': '1,365 m³', 'Number of rooms': '20 rooms (5 bedrooms)', 'Number of bath rooms': '4 bathrooms', 'Bathroom facilities': 'Bath, hipbath, 4 showers and 3 toilets', 'Number of residential layers (stories)': '2 residential layers (stories) and a basement', 'Facilities': 'Mechanical ventilation, alarm installation, TV via cable and outdoor awning', 'Energy label': 'C What does this mean?', 'Insulation': 'Roof insulation and double glazing', 'Heating': 'CH boiler', 'Hot water': 'CH boiler', 'CH boiler': 'Nefit (gas-fired combination boiler from 2012, in ownership)', 'Cadastral data': 'LAREN C 1787', 'Area': '2.950 m²', 'Ownership situation': 'Full ownership', 'LAREN C 1788': 'Area'}\n",
      "{'Asking price': '€ 1,875,000 k.k.', 'Asking price per m²': '€ 4,960', 'Listed since': '3 weeks', 'Status': 'Available', 'Acceptance': 'Available in consultation', 'Kind of house': 'Villa, detached residential property', 'Building type': 'Resale property', 'Construction period': '1981-1990', 'Specific': 'Partly furnished with carpets and curtains', 'Type of roof': 'Gable roof covered with roof tiles', 'Living area': '378 m²', 'Other space inside the building': '38 m²', 'Exterior space attached to the building': '35 m²', 'External storage space': '11 m²', 'Plot size': '3,785 m²', 'Volume in cubic meters': '1,365 m³', 'Number of rooms': '20 rooms (5 bedrooms)', 'Number of bath rooms': '4 bathrooms', 'Bathroom facilities': 'Bath, hipbath, 4 showers and 3 toilets', 'Number of residential layers (stories)': '2 residential layers (stories) and a basement', 'Facilities': 'Mechanical ventilation, alarm installation, TV via cable and outdoor awning', 'Energy label': 'C What does this mean?', 'Insulation': 'Roof insulation and double glazing', 'Heating': 'CH boiler', 'Hot water': 'CH boiler', 'CH boiler': 'Nefit (gas-fired combination boiler from 2012, in ownership)', 'Cadastral data': 'LAREN C 1787', 'Area': '2.950 m²', 'Ownership situation': 'Full ownership', 'LAREN C 1788': 'Area', '835 m²': 'Ownership situation'}\n",
      "{'Asking price': '€ 1,875,000 k.k.', 'Asking price per m²': '€ 4,960', 'Listed since': '3 weeks', 'Status': 'Available', 'Acceptance': 'Available in consultation', 'Kind of house': 'Villa, detached residential property', 'Building type': 'Resale property', 'Construction period': '1981-1990', 'Specific': 'Partly furnished with carpets and curtains', 'Type of roof': 'Gable roof covered with roof tiles', 'Living area': '378 m²', 'Other space inside the building': '38 m²', 'Exterior space attached to the building': '35 m²', 'External storage space': '11 m²', 'Plot size': '3,785 m²', 'Volume in cubic meters': '1,365 m³', 'Number of rooms': '20 rooms (5 bedrooms)', 'Number of bath rooms': '4 bathrooms', 'Bathroom facilities': 'Bath, hipbath, 4 showers and 3 toilets', 'Number of residential layers (stories)': '2 residential layers (stories) and a basement', 'Facilities': 'Mechanical ventilation, alarm installation, TV via cable and outdoor awning', 'Energy label': 'C What does this mean?', 'Insulation': 'Roof insulation and double glazing', 'Heating': 'CH boiler', 'Hot water': 'CH boiler', 'CH boiler': 'Nefit (gas-fired combination boiler from 2012, in ownership)', 'Cadastral data': 'LAREN C 1787', 'Area': '2.950 m²', 'Ownership situation': 'Full ownership', 'LAREN C 1788': 'Area', '835 m²': 'Ownership situation', 'Full ownership': 'Location'}\n",
      "{'Asking price': '€ 1,875,000 k.k.', 'Asking price per m²': '€ 4,960', 'Listed since': '3 weeks', 'Status': 'Available', 'Acceptance': 'Available in consultation', 'Kind of house': 'Villa, detached residential property', 'Building type': 'Resale property', 'Construction period': '1981-1990', 'Specific': 'Partly furnished with carpets and curtains', 'Type of roof': 'Gable roof covered with roof tiles', 'Living area': '378 m²', 'Other space inside the building': '38 m²', 'Exterior space attached to the building': '35 m²', 'External storage space': '11 m²', 'Plot size': '3,785 m²', 'Volume in cubic meters': '1,365 m³', 'Number of rooms': '20 rooms (5 bedrooms)', 'Number of bath rooms': '4 bathrooms', 'Bathroom facilities': 'Bath, hipbath, 4 showers and 3 toilets', 'Number of residential layers (stories)': '2 residential layers (stories) and a basement', 'Facilities': 'Mechanical ventilation, alarm installation, TV via cable and outdoor awning', 'Energy label': 'C What does this mean?', 'Insulation': 'Roof insulation and double glazing', 'Heating': 'CH boiler', 'Hot water': 'CH boiler', 'CH boiler': 'Nefit (gas-fired combination boiler from 2012, in ownership)', 'Cadastral data': 'LAREN C 1787', 'Area': '2.950 m²', 'Ownership situation': 'Full ownership', 'LAREN C 1788': 'Area', '835 m²': 'Ownership situation', 'Full ownership': 'Location', 'On the edge of a forest': 'Garden'}\n",
      "{'Asking price': '€ 1,875,000 k.k.', 'Asking price per m²': '€ 4,960', 'Listed since': '3 weeks', 'Status': 'Available', 'Acceptance': 'Available in consultation', 'Kind of house': 'Villa, detached residential property', 'Building type': 'Resale property', 'Construction period': '1981-1990', 'Specific': 'Partly furnished with carpets and curtains', 'Type of roof': 'Gable roof covered with roof tiles', 'Living area': '378 m²', 'Other space inside the building': '38 m²', 'Exterior space attached to the building': '35 m²', 'External storage space': '11 m²', 'Plot size': '3,785 m²', 'Volume in cubic meters': '1,365 m³', 'Number of rooms': '20 rooms (5 bedrooms)', 'Number of bath rooms': '4 bathrooms', 'Bathroom facilities': 'Bath, hipbath, 4 showers and 3 toilets', 'Number of residential layers (stories)': '2 residential layers (stories) and a basement', 'Facilities': 'Mechanical ventilation, alarm installation, TV via cable and outdoor awning', 'Energy label': 'C What does this mean?', 'Insulation': 'Roof insulation and double glazing', 'Heating': 'CH boiler', 'Hot water': 'CH boiler', 'CH boiler': 'Nefit (gas-fired combination boiler from 2012, in ownership)', 'Cadastral data': 'LAREN C 1787', 'Area': '2.950 m²', 'Ownership situation': 'Full ownership', 'LAREN C 1788': 'Area', '835 m²': 'Ownership situation', 'Full ownership': 'Location', 'On the edge of a forest': 'Garden', 'Surrounded by garden': 'Shed / storage'}\n",
      "{'Asking price': '€ 1,875,000 k.k.', 'Asking price per m²': '€ 4,960', 'Listed since': '3 weeks', 'Status': 'Available', 'Acceptance': 'Available in consultation', 'Kind of house': 'Villa, detached residential property', 'Building type': 'Resale property', 'Construction period': '1981-1990', 'Specific': 'Partly furnished with carpets and curtains', 'Type of roof': 'Gable roof covered with roof tiles', 'Living area': '378 m²', 'Other space inside the building': '38 m²', 'Exterior space attached to the building': '35 m²', 'External storage space': '11 m²', 'Plot size': '3,785 m²', 'Volume in cubic meters': '1,365 m³', 'Number of rooms': '20 rooms (5 bedrooms)', 'Number of bath rooms': '4 bathrooms', 'Bathroom facilities': 'Bath, hipbath, 4 showers and 3 toilets', 'Number of residential layers (stories)': '2 residential layers (stories) and a basement', 'Facilities': 'Mechanical ventilation, alarm installation, TV via cable and outdoor awning', 'Energy label': 'C What does this mean?', 'Insulation': 'Roof insulation and double glazing', 'Heating': 'CH boiler', 'Hot water': 'CH boiler', 'CH boiler': 'Nefit (gas-fired combination boiler from 2012, in ownership)', 'Cadastral data': 'LAREN C 1787', 'Area': '2.950 m²', 'Ownership situation': 'Full ownership', 'LAREN C 1788': 'Area', '835 m²': 'Ownership situation', 'Full ownership': 'Location', 'On the edge of a forest': 'Garden', 'Surrounded by garden': 'Shed / storage', 'Detached wooden storage': 'Facilities'}\n",
      "{'Asking price': '€ 1,875,000 k.k.', 'Asking price per m²': '€ 4,960', 'Listed since': '3 weeks', 'Status': 'Available', 'Acceptance': 'Available in consultation', 'Kind of house': 'Villa, detached residential property', 'Building type': 'Resale property', 'Construction period': '1981-1990', 'Specific': 'Partly furnished with carpets and curtains', 'Type of roof': 'Gable roof covered with roof tiles', 'Living area': '378 m²', 'Other space inside the building': '38 m²', 'Exterior space attached to the building': '35 m²', 'External storage space': '11 m²', 'Plot size': '3,785 m²', 'Volume in cubic meters': '1,365 m³', 'Number of rooms': '20 rooms (5 bedrooms)', 'Number of bath rooms': '4 bathrooms', 'Bathroom facilities': 'Bath, hipbath, 4 showers and 3 toilets', 'Number of residential layers (stories)': '2 residential layers (stories) and a basement', 'Facilities': 'Mechanical ventilation, alarm installation, TV via cable and outdoor awning', 'Energy label': 'C What does this mean?', 'Insulation': 'Roof insulation and double glazing', 'Heating': 'CH boiler', 'Hot water': 'CH boiler', 'CH boiler': 'Nefit (gas-fired combination boiler from 2012, in ownership)', 'Cadastral data': 'LAREN C 1787', 'Area': '2.950 m²', 'Ownership situation': 'Full ownership', 'LAREN C 1788': 'Area', '835 m²': 'Ownership situation', 'Full ownership': 'Location', 'On the edge of a forest': 'Garden', 'Surrounded by garden': 'Shed / storage', 'Detached wooden storage': 'Facilities', 'Electricity and loft': 'Type of garage'}\n",
      "{'Asking price': '€ 1,875,000 k.k.', 'Asking price per m²': '€ 4,960', 'Listed since': '3 weeks', 'Status': 'Available', 'Acceptance': 'Available in consultation', 'Kind of house': 'Villa, detached residential property', 'Building type': 'Resale property', 'Construction period': '1981-1990', 'Specific': 'Partly furnished with carpets and curtains', 'Type of roof': 'Gable roof covered with roof tiles', 'Living area': '378 m²', 'Other space inside the building': '38 m²', 'Exterior space attached to the building': '35 m²', 'External storage space': '11 m²', 'Plot size': '3,785 m²', 'Volume in cubic meters': '1,365 m³', 'Number of rooms': '20 rooms (5 bedrooms)', 'Number of bath rooms': '4 bathrooms', 'Bathroom facilities': 'Bath, hipbath, 4 showers and 3 toilets', 'Number of residential layers (stories)': '2 residential layers (stories) and a basement', 'Facilities': 'Mechanical ventilation, alarm installation, TV via cable and outdoor awning', 'Energy label': 'C What does this mean?', 'Insulation': 'Roof insulation and double glazing', 'Heating': 'CH boiler', 'Hot water': 'CH boiler', 'CH boiler': 'Nefit (gas-fired combination boiler from 2012, in ownership)', 'Cadastral data': 'LAREN C 1787', 'Area': '2.950 m²', 'Ownership situation': 'Full ownership', 'LAREN C 1788': 'Area', '835 m²': 'Ownership situation', 'Full ownership': 'Location', 'On the edge of a forest': 'Garden', 'Surrounded by garden': 'Shed / storage', 'Detached wooden storage': 'Facilities', 'Electricity and loft': 'Type of garage', 'Built-in': 'Capacity'}\n",
      "{'Asking price': '€ 1,875,000 k.k.', 'Asking price per m²': '€ 4,960', 'Listed since': '3 weeks', 'Status': 'Available', 'Acceptance': 'Available in consultation', 'Kind of house': 'Villa, detached residential property', 'Building type': 'Resale property', 'Construction period': '1981-1990', 'Specific': 'Partly furnished with carpets and curtains', 'Type of roof': 'Gable roof covered with roof tiles', 'Living area': '378 m²', 'Other space inside the building': '38 m²', 'Exterior space attached to the building': '35 m²', 'External storage space': '11 m²', 'Plot size': '3,785 m²', 'Volume in cubic meters': '1,365 m³', 'Number of rooms': '20 rooms (5 bedrooms)', 'Number of bath rooms': '4 bathrooms', 'Bathroom facilities': 'Bath, hipbath, 4 showers and 3 toilets', 'Number of residential layers (stories)': '2 residential layers (stories) and a basement', 'Facilities': 'Mechanical ventilation, alarm installation, TV via cable and outdoor awning', 'Energy label': 'C What does this mean?', 'Insulation': 'Roof insulation and double glazing', 'Heating': 'CH boiler', 'Hot water': 'CH boiler', 'CH boiler': 'Nefit (gas-fired combination boiler from 2012, in ownership)', 'Cadastral data': 'LAREN C 1787', 'Area': '2.950 m²', 'Ownership situation': 'Full ownership', 'LAREN C 1788': 'Area', '835 m²': 'Ownership situation', 'Full ownership': 'Location', 'On the edge of a forest': 'Garden', 'Surrounded by garden': 'Shed / storage', 'Detached wooden storage': 'Facilities', 'Electricity and loft': 'Type of garage', 'Built-in': 'Capacity', '2 cars': 'Facilities'}\n",
      "{'Asking price': '€ 1,875,000 k.k.', 'Asking price per m²': '€ 4,960', 'Listed since': '3 weeks', 'Status': 'Available', 'Acceptance': 'Available in consultation', 'Kind of house': 'Villa, detached residential property', 'Building type': 'Resale property', 'Construction period': '1981-1990', 'Specific': 'Partly furnished with carpets and curtains', 'Type of roof': 'Gable roof covered with roof tiles', 'Living area': '378 m²', 'Other space inside the building': '38 m²', 'Exterior space attached to the building': '35 m²', 'External storage space': '11 m²', 'Plot size': '3,785 m²', 'Volume in cubic meters': '1,365 m³', 'Number of rooms': '20 rooms (5 bedrooms)', 'Number of bath rooms': '4 bathrooms', 'Bathroom facilities': 'Bath, hipbath, 4 showers and 3 toilets', 'Number of residential layers (stories)': '2 residential layers (stories) and a basement', 'Facilities': 'Mechanical ventilation, alarm installation, TV via cable and outdoor awning', 'Energy label': 'C What does this mean?', 'Insulation': 'Roof insulation and double glazing', 'Heating': 'CH boiler', 'Hot water': 'CH boiler', 'CH boiler': 'Nefit (gas-fired combination boiler from 2012, in ownership)', 'Cadastral data': 'LAREN C 1787', 'Area': '2.950 m²', 'Ownership situation': 'Full ownership', 'LAREN C 1788': 'Area', '835 m²': 'Ownership situation', 'Full ownership': 'Location', 'On the edge of a forest': 'Garden', 'Surrounded by garden': 'Shed / storage', 'Detached wooden storage': 'Facilities', 'Electricity and loft': 'Type of garage', 'Built-in': 'Capacity', '2 cars': 'Facilities', 'Heating, electricity, running water and electrical door': 'Insulation'}\n"
     ]
    },
    {
     "ename": "IndexError",
     "evalue": "list index out of range",
     "output_type": "error",
     "traceback": [
      "\u001b[0;31m---------------------------------------------------------------------------\u001b[0m",
      "\u001b[0;31mIndexError\u001b[0m                                Traceback (most recent call last)",
      "\u001b[0;32m<ipython-input-125-c83cee56f2d8>\u001b[0m in \u001b[0;36m<module>\u001b[0;34m()\u001b[0m\n\u001b[0;32m----> 1\u001b[0;31m \u001b[0mget_features\u001b[0m\u001b[0;34m(\u001b[0m\u001b[0;34m'https://www.funda.nl/en/koop/laren-nh/huis-87918267-grintbank-8/'\u001b[0m\u001b[0;34m)\u001b[0m\u001b[0;34m\u001b[0m\u001b[0m\n\u001b[0m",
      "\u001b[0;32m<ipython-input-124-aa673a897022>\u001b[0m in \u001b[0;36mget_features\u001b[0;34m(html)\u001b[0m\n\u001b[1;32m     89\u001b[0m     \u001b[0mtime\u001b[0m\u001b[0;34m.\u001b[0m\u001b[0msleep\u001b[0m\u001b[0;34m(\u001b[0m\u001b[0;36m5\u001b[0m\u001b[0;34m)\u001b[0m\u001b[0;34m\u001b[0m\u001b[0m\n\u001b[1;32m     90\u001b[0m     \u001b[0mfeat_list\u001b[0m \u001b[0;34m=\u001b[0m \u001b[0mdriver\u001b[0m\u001b[0;34m.\u001b[0m\u001b[0mfind_element_by_class_name\u001b[0m\u001b[0;34m(\u001b[0m\u001b[0;34m'object-kenmerken-body'\u001b[0m\u001b[0;34m)\u001b[0m\u001b[0;34m.\u001b[0m\u001b[0mtext\u001b[0m\u001b[0;34m\u001b[0m\u001b[0m\n\u001b[0;32m---> 91\u001b[0;31m     \u001b[0mfeat_dict\u001b[0m \u001b[0;34m=\u001b[0m \u001b[0mget_feat_dict\u001b[0m\u001b[0;34m(\u001b[0m\u001b[0mfeat_list\u001b[0m\u001b[0;34m)\u001b[0m\u001b[0;34m\u001b[0m\u001b[0m\n\u001b[0m\u001b[1;32m     92\u001b[0m     \u001b[0;32mreturn\u001b[0m \u001b[0mfeat_dict\u001b[0m\u001b[0;34m\u001b[0m\u001b[0m\n\u001b[1;32m     93\u001b[0m \u001b[0;34m\u001b[0m\u001b[0m\n",
      "\u001b[0;32m<ipython-input-124-aa673a897022>\u001b[0m in \u001b[0;36mget_feat_dict\u001b[0;34m(feat_list)\u001b[0m\n\u001b[1;32m     67\u001b[0m         \u001b[0;32melse\u001b[0m\u001b[0;34m:\u001b[0m\u001b[0;34m\u001b[0m\u001b[0m\n\u001b[1;32m     68\u001b[0m             \u001b[0mprint\u001b[0m\u001b[0;34m(\u001b[0m\u001b[0mfeat_dict\u001b[0m\u001b[0;34m)\u001b[0m \u001b[0;31m# USED FOR TESTING\u001b[0m\u001b[0;34m\u001b[0m\u001b[0m\n\u001b[0;32m---> 69\u001b[0;31m             \u001b[0mfeat_dict\u001b[0m\u001b[0;34m[\u001b[0m\u001b[0mfeat\u001b[0m\u001b[0;34m]\u001b[0m \u001b[0;34m=\u001b[0m \u001b[0mtrim_feat_list\u001b[0m\u001b[0;34m[\u001b[0m\u001b[0mfeat_index\u001b[0m\u001b[0;34m+\u001b[0m\u001b[0;36m1\u001b[0m\u001b[0;34m]\u001b[0m\u001b[0;34m\u001b[0m\u001b[0m\n\u001b[0m\u001b[1;32m     70\u001b[0m         \u001b[0;32mdel\u001b[0m \u001b[0mtrim_feat_list\u001b[0m\u001b[0;34m[\u001b[0m\u001b[0mfeat_index\u001b[0m\u001b[0;34m:\u001b[0m\u001b[0mfeat_index\u001b[0m\u001b[0;34m+\u001b[0m\u001b[0;36m2\u001b[0m\u001b[0;34m]\u001b[0m\u001b[0;34m\u001b[0m\u001b[0m\n\u001b[1;32m     71\u001b[0m     \u001b[0;32mreturn\u001b[0m \u001b[0mfeat_dict\u001b[0m\u001b[0;34m\u001b[0m\u001b[0m\n",
      "\u001b[0;31mIndexError\u001b[0m: list index out of range"
     ]
    }
   ],
   "source": [
    "get_features('https://www.funda.nl/en/koop/laren-nh/huis-87918267-grintbank-8/')"
   ]
  },
  {
   "cell_type": "code",
   "execution_count": 119,
   "metadata": {
    "scrolled": false
   },
   "outputs": [
    {
     "ename": "IndexError",
     "evalue": "list index out of range",
     "output_type": "error",
     "traceback": [
      "\u001b[0;31m---------------------------------------------------------------------------\u001b[0m",
      "\u001b[0;31mIndexError\u001b[0m                                Traceback (most recent call last)",
      "\u001b[0;32m<ipython-input-119-050e45957117>\u001b[0m in \u001b[0;36m<module>\u001b[0;34m()\u001b[0m\n\u001b[1;32m      1\u001b[0m \u001b[0mapply_basic_filters\u001b[0m\u001b[0;34m(\u001b[0m\u001b[0;34m)\u001b[0m\u001b[0;34m\u001b[0m\u001b[0m\n\u001b[0;32m----> 2\u001b[0;31m \u001b[0mscraped_data_list\u001b[0m \u001b[0;34m=\u001b[0m \u001b[0mscrape_data\u001b[0m\u001b[0;34m(\u001b[0m\u001b[0;34m)\u001b[0m\u001b[0;34m\u001b[0m\u001b[0m\n\u001b[0m\u001b[1;32m      3\u001b[0m \u001b[0mscraped_data_list\u001b[0m\u001b[0;34m\u001b[0m\u001b[0m\n",
      "\u001b[0;32m<ipython-input-116-61171eed7f3e>\u001b[0m in \u001b[0;36mscrape_data\u001b[0;34m()\u001b[0m\n\u001b[1;32m    224\u001b[0m             \u001b[0mproperty_dict\u001b[0m\u001b[0;34m[\u001b[0m\u001b[0;34m'neighbourhood'\u001b[0m\u001b[0;34m]\u001b[0m \u001b[0;34m=\u001b[0m \u001b[0mdriver\u001b[0m\u001b[0;34m.\u001b[0m\u001b[0mfind_element_by_class_name\u001b[0m\u001b[0;34m(\u001b[0m\u001b[0;34m'object-buurt__name'\u001b[0m\u001b[0;34m)\u001b[0m\u001b[0;34m.\u001b[0m\u001b[0mtext\u001b[0m\u001b[0;34m\u001b[0m\u001b[0m\n\u001b[1;32m    225\u001b[0m \u001b[0;34m\u001b[0m\u001b[0m\n\u001b[0;32m--> 226\u001b[0;31m             \u001b[0mother_features\u001b[0m \u001b[0;34m=\u001b[0m \u001b[0mget_features\u001b[0m\u001b[0;34m(\u001b[0m\u001b[0mhtml\u001b[0m\u001b[0;34m)\u001b[0m\u001b[0;34m\u001b[0m\u001b[0m\n\u001b[0m\u001b[1;32m    227\u001b[0m             \u001b[0;32mfor\u001b[0m \u001b[0mkey\u001b[0m\u001b[0;34m,\u001b[0m \u001b[0mvalue\u001b[0m \u001b[0;32min\u001b[0m \u001b[0mother_features\u001b[0m\u001b[0;34m.\u001b[0m\u001b[0mitems\u001b[0m\u001b[0;34m(\u001b[0m\u001b[0;34m)\u001b[0m\u001b[0;34m:\u001b[0m\u001b[0;34m\u001b[0m\u001b[0m\n\u001b[1;32m    228\u001b[0m                 \u001b[0;32mif\u001b[0m \u001b[0mkey\u001b[0m \u001b[0;32mnot\u001b[0m \u001b[0;32min\u001b[0m \u001b[0mproperty_dict\u001b[0m\u001b[0;34m.\u001b[0m\u001b[0mkeys\u001b[0m\u001b[0;34m(\u001b[0m\u001b[0;34m)\u001b[0m\u001b[0;34m:\u001b[0m\u001b[0;34m\u001b[0m\u001b[0m\n",
      "\u001b[0;32m<ipython-input-116-61171eed7f3e>\u001b[0m in \u001b[0;36mget_features\u001b[0;34m(html)\u001b[0m\n\u001b[1;32m     86\u001b[0m     \u001b[0mtime\u001b[0m\u001b[0;34m.\u001b[0m\u001b[0msleep\u001b[0m\u001b[0;34m(\u001b[0m\u001b[0;36m5\u001b[0m\u001b[0;34m)\u001b[0m\u001b[0;34m\u001b[0m\u001b[0m\n\u001b[1;32m     87\u001b[0m     \u001b[0mfeat_list\u001b[0m \u001b[0;34m=\u001b[0m \u001b[0mdriver\u001b[0m\u001b[0;34m.\u001b[0m\u001b[0mfind_element_by_class_name\u001b[0m\u001b[0;34m(\u001b[0m\u001b[0;34m'object-kenmerken-body'\u001b[0m\u001b[0;34m)\u001b[0m\u001b[0;34m.\u001b[0m\u001b[0mtext\u001b[0m\u001b[0;34m\u001b[0m\u001b[0m\n\u001b[0;32m---> 88\u001b[0;31m     \u001b[0mfeat_dict\u001b[0m \u001b[0;34m=\u001b[0m \u001b[0mget_feat_dict\u001b[0m\u001b[0;34m(\u001b[0m\u001b[0mfeat_list\u001b[0m\u001b[0;34m)\u001b[0m\u001b[0;34m\u001b[0m\u001b[0m\n\u001b[0m\u001b[1;32m     89\u001b[0m     \u001b[0;32mreturn\u001b[0m \u001b[0mfeat_dict\u001b[0m\u001b[0;34m\u001b[0m\u001b[0m\n\u001b[1;32m     90\u001b[0m \u001b[0;34m\u001b[0m\u001b[0m\n",
      "\u001b[0;32m<ipython-input-116-61171eed7f3e>\u001b[0m in \u001b[0;36mget_feat_dict\u001b[0;34m(feat_list)\u001b[0m\n\u001b[1;32m     64\u001b[0m         \u001b[0;32melse\u001b[0m\u001b[0;34m:\u001b[0m\u001b[0;34m\u001b[0m\u001b[0m\n\u001b[1;32m     65\u001b[0m \u001b[0;31m#             print(feat, feat_index) USED FOR TESTING\u001b[0m\u001b[0;34m\u001b[0m\u001b[0;34m\u001b[0m\u001b[0m\n\u001b[0;32m---> 66\u001b[0;31m             \u001b[0mfeat_dict\u001b[0m\u001b[0;34m[\u001b[0m\u001b[0mfeat\u001b[0m\u001b[0;34m]\u001b[0m \u001b[0;34m=\u001b[0m \u001b[0mtrim_feat_list\u001b[0m\u001b[0;34m[\u001b[0m\u001b[0mfeat_index\u001b[0m\u001b[0;34m+\u001b[0m\u001b[0;36m1\u001b[0m\u001b[0;34m]\u001b[0m\u001b[0;34m\u001b[0m\u001b[0m\n\u001b[0m\u001b[1;32m     67\u001b[0m         \u001b[0;32mdel\u001b[0m \u001b[0mtrim_feat_list\u001b[0m\u001b[0;34m[\u001b[0m\u001b[0mfeat_index\u001b[0m\u001b[0;34m:\u001b[0m\u001b[0mfeat_index\u001b[0m\u001b[0;34m+\u001b[0m\u001b[0;36m2\u001b[0m\u001b[0;34m]\u001b[0m\u001b[0;34m\u001b[0m\u001b[0m\n\u001b[1;32m     68\u001b[0m     \u001b[0;32mreturn\u001b[0m \u001b[0mfeat_dict\u001b[0m\u001b[0;34m\u001b[0m\u001b[0m\n",
      "\u001b[0;31mIndexError\u001b[0m: list index out of range"
     ]
    }
   ],
   "source": [
    "apply_basic_filters()\n",
    "scraped_data_list = scrape_data()\n",
    "scraped_data_list\n"
   ]
  },
  {
   "cell_type": "code",
   "execution_count": 101,
   "metadata": {},
   "outputs": [],
   "source": [
    "# Save the data into a pickle file\n",
    "with open('./Cellar/property_ad_data_list.pkl', 'wb') as scraped_pickle:\n",
    "    pickle.dump(scrape_data, scraped_pickle)"
   ]
  },
  {
   "cell_type": "code",
   "execution_count": 87,
   "metadata": {
    "scrolled": false
   },
   "outputs": [],
   "source": [
    "# get_features()"
   ]
  },
  {
   "cell_type": "code",
   "execution_count": 8,
   "metadata": {
    "scrolled": false
   },
   "outputs": [],
   "source": [
    "\n",
    "\n",
    "# Now that we applied basic filters, let's narrow the search down more\n",
    "\n",
    "# except:\n",
    "#     driver.find_element_by_class_name('recaptcha-checkbox-border').click()\n",
    "# except:\n",
    "#     WebElement iFrame_checkbox = driver.findElement(By.xpath(\"xpath_of_reCaptcha_checkbox\"));\n",
    "#     iFrame_checkbox.click();\n",
    "\n",
    "\n",
    "# car_type_form.send_keys(Keys.RETURN)"
   ]
  },
  {
   "cell_type": "code",
   "execution_count": 91,
   "metadata": {
    "scrolled": false
   },
   "outputs": [],
   "source": [
    "# url_list = get_url_list()\n",
    "# with open('./Cellar/pages_url_list.pkl', 'wb') as url_pickle:\n",
    "#     pickle.dump(url_list, url_pickle)"
   ]
  },
  {
   "cell_type": "code",
   "execution_count": 96,
   "metadata": {},
   "outputs": [
    {
     "name": "stdout",
     "output_type": "stream",
     "text": [
      "Imported 77 URLs.\n"
     ]
    }
   ],
   "source": [
    "with open('./Cellar/pages_url_list.pkl', 'rb') as url_pickle:\n",
    "    url_list = pickle.load(url_pickle)\n",
    "\n",
    "print(f'Imported {len(url_list)} URLs.')"
   ]
  },
  {
   "cell_type": "code",
   "execution_count": 9,
   "metadata": {
    "scrolled": false
   },
   "outputs": [],
   "source": [
    "count = 0\n",
    "\n",
    "html_list = []\n",
    "\n",
    "elems = driver.find_elements_by_xpath(\"//a[@href]\")\n",
    "for elem in elems:\n",
    "    html = elem.get_attribute(\"href\")\n",
    "    if (bool(re.search(r'appartement-\\d+', html)) or bool(re.search('huis-\\d+', html))) and html not in html_list: \n",
    "        html_list.append(html)"
   ]
  },
  {
   "cell_type": "code",
   "execution_count": 21,
   "metadata": {},
   "outputs": [],
   "source": [
    "test_case = html_list[4]\n",
    "\n",
    "# To open the property ad\n",
    "driver.get(test_case)\n",
    "\n",
    "title = driver.find_element_by_class_name('object-header__title').text\n",
    "address = driver.find_element_by_class_name('object-header__subtitle').text\n",
    "price = driver.find_element_by_class_name('object-header__price').text\n",
    "\n",
    "# Click to see all the features available\n",
    "WebDriverWait(driver, 7).until(EC.visibility_of_element_located((By.CSS_SELECTOR, \".object-kenmerken-open-button\")))\n",
    "driver.find_element_by_class_name('object-kenmerken-open-button').click()\n",
    "\n",
    "# Retrieve all the other features now\n",
    "all_features = driver.find_element_by_class_name('object-kenmerken-body').text\n",
    "all_feat_dict = get_each_feature(all_features)\n",
    "\n",
    "neighbourhood = all_features = driver.find_element_by_class_name('object-buurt__name').text\n",
    "\n"
   ]
  },
  {
   "cell_type": "code",
   "execution_count": 11,
   "metadata": {},
   "outputs": [
    {
     "data": {
      "text/plain": [
       "'https://www.funda.nl/en/koop/amsterdam/huis-41537580-spankerenkade-5/'"
      ]
     },
     "execution_count": 11,
     "metadata": {},
     "output_type": "execute_result"
    }
   ],
   "source": [
    "html_list[4]"
   ]
  },
  {
   "cell_type": "code",
   "execution_count": 106,
   "metadata": {
    "scrolled": false
   },
   "outputs": [],
   "source": [
    "driver.close()"
   ]
  },
  {
   "cell_type": "code",
   "execution_count": null,
   "metadata": {},
   "outputs": [],
   "source": []
  }
 ],
 "metadata": {
  "kernelspec": {
   "display_name": "Python 3",
   "language": "python",
   "name": "python3"
  },
  "language_info": {
   "codemirror_mode": {
    "name": "ipython",
    "version": 3
   },
   "file_extension": ".py",
   "mimetype": "text/x-python",
   "name": "python",
   "nbconvert_exporter": "python",
   "pygments_lexer": "ipython3",
   "version": "3.6.5"
  }
 },
 "nbformat": 4,
 "nbformat_minor": 2
}
