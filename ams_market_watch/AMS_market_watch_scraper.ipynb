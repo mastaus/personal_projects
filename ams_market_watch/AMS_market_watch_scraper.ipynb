{
 "cells": [
  {
   "cell_type": "code",
   "execution_count": 9,
   "metadata": {},
   "outputs": [
    {
     "data": {
      "text/html": [
       "<style>.container { width:95% !important; }</style>"
      ],
      "text/plain": [
       "<IPython.core.display.HTML object>"
      ]
     },
     "metadata": {},
     "output_type": "display_data"
    }
   ],
   "source": [
    "from IPython.core.display import display, HTML\n",
    "display(HTML(\"<style>.container { width:95% !important; }</style>\"))"
   ]
  },
  {
   "cell_type": "markdown",
   "metadata": {},
   "source": [
    "### Import necessary packages"
   ]
  },
  {
   "cell_type": "code",
   "execution_count": 10,
   "metadata": {},
   "outputs": [],
   "source": [
    "#Essentials\n",
    "import numpy as np\n",
    "import pandas as pd\n",
    "import pickle\n",
    "import re\n",
    "import datetime as dt\n",
    "import time\n",
    "\n",
    "# For scraping\n",
    "import requests\n",
    "import os\n",
    "from dotenv import load_dotenv\n",
    "from selenium import webdriver\n",
    "from selenium.webdriver import ChromeOptions\n",
    "from selenium.webdriver.chrome.options import Options\n",
    "from selenium.webdriver.support.ui import Select\n",
    "from selenium.webdriver.common.keys import Keys\n",
    "from selenium.webdriver.support.wait import WebDriverWait\n",
    "from selenium.webdriver.common.by import By\n",
    "from selenium.webdriver.support import expected_conditions as EC\n",
    "from selenium.webdriver.common.action_chains import ActionChains\n",
    "\n",
    "#Visualization\n",
    "import matplotlib.pyplot as plt\n",
    "import matplotlib\n",
    "import seaborn as sns\n",
    "\n",
    "\n",
    "%matplotlib inline\n",
    "from matplotlib.pylab import rcParams\n",
    "rcParams['figure.figsize'] = 25, 6\n",
    "rcParams.update({'font.size': 14})"
   ]
  },
  {
   "cell_type": "markdown",
   "metadata": {},
   "source": [
    "## Gather data"
   ]
  },
  {
   "cell_type": "markdown",
   "metadata": {},
   "source": [
    "### Helper functions"
   ]
  },
  {
   "cell_type": "code",
   "execution_count": 67,
   "metadata": {},
   "outputs": [
    {
     "ename": "SyntaxError",
     "evalue": "invalid syntax (<ipython-input-67-516ad860dd14>, line 64)",
     "output_type": "error",
     "traceback": [
      "\u001b[0;36m  File \u001b[0;32m\"<ipython-input-67-516ad860dd14>\"\u001b[0;36m, line \u001b[0;32m64\u001b[0m\n\u001b[0;31m    button submit\u001b[0m\n\u001b[0m                ^\u001b[0m\n\u001b[0;31mSyntaxError\u001b[0m\u001b[0;31m:\u001b[0m invalid syntax\n"
     ]
    }
   ],
   "source": [
    "def get_webdriver():\n",
    "    \"\"\"Simply starts a new Chrome browser instance\"\"\"\n",
    "    #Load .env file contents\n",
    "    load_dotenv()\n",
    "    \n",
    "    chromedriver = os.environ.get('webdriver_loc')           #  path to the chromedriver executable\n",
    "    os.environ[\"webdriver.chrome.driver\"] = chromedriver\n",
    "#   Define optional settings and go to the website\n",
    "    chrome_options = ChromeOptions()\n",
    "    \n",
    "#     options.add_argument(\"--headless\")\n",
    "#     options.add_argument(\"--disable-notifications\")\n",
    "#     driver = webdriver.Chrome(executable_path=chromedriver, chrome_options=chrome_options, options=options)\n",
    "    \n",
    "    driver = webdriver.Chrome(executable_path=chromedriver, chrome_options=chrome_options)\n",
    "    return driver\n",
    "    \n",
    "\n",
    "def login_google(driver):\n",
    "    \"\"\"In order to avoid reCAPTCHA's I need to first log in to my google account.\n",
    "    This function does just that\"\"\"\n",
    "    #Load .env file contents\n",
    "    load_dotenv()\n",
    "    google_url = os.environ.get('google_url')\n",
    "    \n",
    "    driver.get(google_url)\n",
    "    time.sleep(1)\n",
    "    \n",
    "    WebDriverWait(driver, 5).until(EC.visibility_of_element_located((By.ID, \"identifierId\")))\n",
    "    \n",
    "    username_field = driver.find_element_by_id('identifierId')\n",
    "    username_field.send_keys(os.environ.get('username'))\n",
    "    username_field.send_keys(Keys.RETURN)\n",
    "    time.sleep(1)\n",
    "    password_field = driver.find_element_by_name('password')\n",
    "    password_field.send_keys(os.environ.get('secret_g'))\n",
    "    password_field.send_keys(Keys.RETURN)\n",
    "    return driver\n",
    "\n",
    "\n",
    "def solve_recaptcha():\n",
    "    \"\"\"Click reCAPTCHA checkbox. If the test with images comes up, I have no solution.\"\"\"\n",
    "    frame = driver.find_element_by_xpath('//iframe[contains(@src, \"recaptcha\")]')\n",
    "    driver.switch_to.frame(frame)\n",
    "    driver.find_element_by_xpath(\"//*[@id='recaptcha-anchor']\").click()\n",
    "    time.sleep(3)\n",
    "    driver.switch_to.default_content()\n",
    "    try:\n",
    "        frame = driver.find_element_by_xpath('//iframe[contains(@src, \"recaptcha\")]')\n",
    "        driver.switch_to.frame(frame)\n",
    "        print('Human intervention needed')\n",
    "        return 'Human intervention needed'\n",
    "    except:\n",
    "        print('ReCAPTHA solved successfully')\n",
    "        return 'ReCAPTHA solved successfully'\n",
    "    \n",
    "def set_cookies():\n",
    "    \"\"\"This function sets the minimal cookie settings and takes us to the filters page\"\"\"\n",
    "    \n",
    "    \n",
    "def open_funda(driver):\n",
    "    \"\"\"This function simply starts the chrome driver (from a defined location on the machine).\"\"\"\n",
    "#     Load .env file contents\n",
    "    load_dotenv()\n",
    "    funda_url = os.environ.get('funda_url')\n",
    "    \n",
    "    time.sleep(2)\n",
    "    driver.get(funda_url)\n",
    "\n",
    "    try:\n",
    "        current_selection = driver.find_element_by_class_name('is-active').text\n",
    "        # Makes sure that \"For Sale\" category is selected\n",
    "        if current_selection == 'For Sale':\n",
    "            return driver\n",
    "        else:\n",
    "            driver.get(funda_url+'koop/')\n",
    "            return driver\n",
    "    except:\n",
    "        if solve_recaptcha() == 'ReCAPTHA solved successfully':\n",
    "            current_selection = driver.find_element_by_class_name('is-active').text\n",
    "            # Makes sure that \"For Sale\" category is selected\n",
    "            if current_selection == 'For Sale':\n",
    "                return driver\n",
    "            else:\n",
    "                driver.get(funda_url+'koop/')\n",
    "                return driver\n",
    "        else:\n",
    "            print('Could not solve reCAPTCHA :(')\n",
    "            return driver\n",
    "\n",
    "def log_in():\n",
    "    \"\"\"Uses the credentials defined in the .env file to log in and saves properties matching desired criteria to the favourites\"\"\"\n",
    "    # This is to load environment variables\n",
    "    load_dotenv()\n",
    "    \n",
    "#     acct_url = 'https://www.funda.nl/en/navigation/account/'\n",
    "    login_url = os.environ.get('login_url')\n",
    "    url = os.environ.get('funda_url')\n",
    "    \n",
    "    driver.get(login_url)\n",
    "#     driver.find_element_by_id('appheader-inloggen-link').click()\n",
    "    WebDriverWait(driver, 5).until(EC.visibility_of_element_located((By.ID, \"Username\")))\n",
    "    \n",
    "    username_field = driver.find_element_by_id('Username')\n",
    "    username_field.send_keys(os.environ.get('username'))\n",
    "    password_field = driver.find_element_by_id('Password')\n",
    "    password_field.send_keys(os.environ.get('secret_f'))\n",
    "    driver.find_element_by_xpath(\"//button[contains(text(), 'Log in')]\").click()\n",
    "    driver.get(url)\n",
    "    \n",
    "def log_out():\n",
    "    \"\"\"Logs out once the actions are done\"\"\"\n",
    "    # This is to load environment variables\n",
    "    load_dotenv()\n",
    "    \n",
    "    logout_url = os.environ.get('logout_url')\n",
    "    driver.get(logout_url)\n",
    "    \n",
    "def apply_basic_filters(filter_dict={'location': 'Amsterdam', 'radius': '0', 'min_price': '0', 'max_price': 'ignore_filter'}):\n",
    "    \"\"\"Takes a dictionary of basic filters, applies them and searches for the properties\"\"\"\n",
    "    # Now apply desired filters (e.g. set location to Amsterdam)\n",
    "    WebDriverWait(driver, 5).until(EC.visibility_of_element_located((By.NAME, \"filter_location\")))\n",
    "    filter_loc = driver.find_element_by_name('filter_location')\n",
    "    filter_loc.send_keys(filter_dict['location'])\n",
    "\n",
    "    # Wait for the first dropdown option to appear and select the first option\n",
    "    WebDriverWait(driver, 5).until(EC.visibility_of_element_located((By.CSS_SELECTOR, \".autocomplete-list\")))\n",
    "    filter_loc.send_keys(Keys.ARROW_DOWN)\n",
    "    filter_loc.send_keys(Keys.ENTER)\n",
    "\n",
    "    filter_radius = Select(driver.find_element_by_id('Straal'))\n",
    "    filter_radius.select_by_value(filter_dict['radius'])\n",
    "\n",
    "    filter_price_from = Select(driver.find_element_by_name('filter_KoopprijsVan'))\n",
    "    filter_price_from.select_by_value(filter_dict['min_price'])\n",
    "\n",
    "    filter_price_upto = Select(driver.find_element_by_name('filter_KoopprijsTot'))\n",
    "    filter_price_upto.select_by_value(filter_dict['max_price'])\n",
    "\n",
    "    WebDriverWait(driver, 5).until(EC.visibility_of_element_located((By.XPATH, \"//button[@class='button-primary-alternative']\")))\n",
    "    find_search = driver.find_element_by_xpath(\"//button[contains(text(), 'Search')]\")\n",
    "    find_search.click()\n",
    "    \n",
    "def get_id(html):\n",
    "    \"\"\"Given an html this function retrieves the property id from the html link.\n",
    "    Returns the id\"\"\"\n",
    "    return int(re.findall(r'-\\d*-', html)[0].strip('-'))\n",
    "\n",
    "\n",
    "\n",
    "# Get urls for all the pages and put them into a list\n",
    "def get_url_list():\n",
    "    \"\"\"Records the current url and goes through the website, clicking Next as many times as there are pages.\n",
    "    Returns a list of urls to be used in the get_htmls function.\"\"\"\n",
    "    #Creates a list of urls for all pages\n",
    "    url_list = []\n",
    "    \n",
    "    #Reads the url of the page the driver is currently in and adds it into the list\n",
    "    current_page_url = driver.current_url\n",
    "    url_list.append(current_page_url)\n",
    "    \n",
    "    curr_page_num = 1\n",
    "    count_exceptions = 0\n",
    "    while True:\n",
    "        try:\n",
    "            curr_page_num += 1\n",
    "            #Find \"Next\" button and click it\n",
    "            find_next = driver.find_element_by_xpath(\"//a[@rel='next']\")\n",
    "            find_next.click()\n",
    "            current_page_url = driver.current_url\n",
    "            url_list.append(current_page_url)\n",
    "            time.sleep(10)\n",
    "        except:\n",
    "            #Count the exceptions\n",
    "            count_exceptions += 1\n",
    "            curr_page_num -= 1 #since we are coming back to the same page\n",
    "            #If the there haven't been 3 exceptions yet, sleep for a bit and then continue\n",
    "            if count_exceptions < 3:\n",
    "                time.sleep(10)\n",
    "            else:\n",
    "                #If \"Next\" button isn't there anymore or an error occurs, return the list\n",
    "                #driver.close()\n",
    "                print(f'Url list collection - complete. Last page number was {curr_page_num}.')\n",
    "                return url_list    \n",
    "    \n",
    "    print(f'Url list collection - complete. Last page number was {curr_page_num}.')\n",
    "    return url_list   \n",
    "\n",
    "\n",
    "#Get all the html files for each property ad and put it into a list\n",
    "def get_htmls():\n",
    "    \"\"\"Takes current html list.\n",
    "    Returns updated html list with all the property ad htmls available on the page.\"\"\"    \n",
    "    #Find all property ad htmls\n",
    "    html_list = []\n",
    "    elems = driver.find_elements_by_xpath(\"//a[@href]\")\n",
    "    for elem in elems:\n",
    "        html = elem.get_attribute(\"href\")\n",
    "        if (bool(re.search(r'appartement-\\d+', html)) or bool(re.search('huis-\\d+', html))) and html not in html_list: \n",
    "            html_list.append(html)\n",
    "    return html_list\n",
    "\n",
    "\n",
    "def get_feat_dict(html):\n",
    "    \"\"\"Takes a string with all highlighted features and puts them into a dictionary.\n",
    "    Returns the dictionary\"\"\"\n",
    "    \n",
    "    # Open the html\n",
    "    driver.get(html)\n",
    "\n",
    "    # Click to see all the features available (if button doesn't appear, continue)\n",
    "    try:\n",
    "        WebDriverWait(driver, 7).until(EC.visibility_of_element_located((By.CSS_SELECTOR, \".object-kenmerken-open-button\")))\n",
    "        driver.find_element_by_class_name('object-kenmerken-open-button').click()\n",
    "    except:\n",
    "        pass\n",
    "    \n",
    "    # Retrieve all the other features now\n",
    "    time.sleep(5)\n",
    "    feature_elems = driver.find_elements_by_class_name('object-kenmerken-body')\n",
    "    feature_string = ''\n",
    "    for elem in feature_elems:\n",
    "        if feature_string == '':\n",
    "            feature_string = elem.text\n",
    "        else:\n",
    "            feature_string += '\\n' + str(elem.text)\n",
    "\n",
    "    categories = ['Auction', 'Transfer of ownership', 'Construction', 'Surface areas and volume', 'Areas', 'Layout', 'Energy', 'What does this mean?', 'Cadastral data', 'Exterior space', 'Storage space', 'Parking', 'VVE (Owners Association) checklist', 'Garage', 'Commercial property']\n",
    "    special_categories = ['Cadastral data', 'Commercial property']\n",
    "    to_delete = ['Cadastral map']\n",
    "    features = feature_string.split('\\n')\n",
    "    feat_list = [feat for feat in features if feat not in to_delete]\n",
    "\n",
    "    feat_dict = {}   \n",
    "    current_index = 0\n",
    "    current_category = ''\n",
    "\n",
    "    for feat in feat_list: \n",
    "        feat = feat_list[current_index]\n",
    "    #     print(feat, current_index)\n",
    "        if feat in categories:\n",
    "            feat_dict[feat] = ''\n",
    "            current_category = feat\n",
    "            current_index += 1        \n",
    "        else:\n",
    "            if current_category in special_categories:\n",
    "                feat_dict[current_category] += str(feat) + '; '\n",
    "                if current_index+2 < len(feat_list):\n",
    "                    current_index += 1\n",
    "                else:\n",
    "                    break\n",
    "            elif feat in feat_dict.keys():\n",
    "                feat_dict[feat+'_'+current_category] = feat_list[current_index+1]\n",
    "                if current_index+2 < len(feat_list):\n",
    "                    current_index += 2\n",
    "                else:\n",
    "                    break\n",
    "            else:\n",
    "                feat_dict[feat] = feat_list[current_index+1]\n",
    "                if current_index+2 < len(feat_list):\n",
    "                    current_index += 2\n",
    "                else:\n",
    "                    break\n",
    "    return feat_dict    \n",
    "    \n",
    "\n",
    "def scrape_data(ads_list=[], url_list_name='', url_index=0):\n",
    "    \"\"\"Reads in the data about each property from a given html files.\n",
    "    Returns a list of dictionaries of all scraped ads (one dictionary per add).\"\"\"\n",
    "\n",
    "    today_timestamp = str(dt.date.today().year) + str(dt.date.today().month) + str(dt.date.today().day)\n",
    "    \n",
    "    if ads_list != []:\n",
    "        feat_dict_list = ads_list\n",
    "    else:\n",
    "        feat_dict_list = []\n",
    "        \n",
    "    new_ad_count = 0\n",
    "    \n",
    "    if url_list_name != '':\n",
    "        with open(f'./Cellar/{url_list_name}.pkl', 'rb') as url_pickle:\n",
    "            url_list = pickle.load(url_pickle)\n",
    "    else:\n",
    "        url_list = get_url_list()\n",
    "        page_count = len(url_list)\n",
    "        with open(f'./Cellar/url_list_{today_timestamp}.pkl', 'wb') as url_pickle:\n",
    "            pickle.dump(url_list, url_pickle)\n",
    "\n",
    "    if url_index != 0:\n",
    "        original_url_list = url_list\n",
    "        url_list = url_list[url_index:]\n",
    "    \n",
    "    for url in url_list:\n",
    "        try:\n",
    "            driver.get(url)\n",
    "            html_list = get_htmls()\n",
    "\n",
    "            for html in html_list:\n",
    "                new_ad_count += 1\n",
    "    #             print(html) USED FOR TESTING ONLY\n",
    "                property_dict = {}\n",
    "\n",
    "                # To open the property ad\n",
    "                driver.get(html)\n",
    "\n",
    "                # To scrape initial data points\n",
    "                property_dict['property_link'] = html\n",
    "                property_dict['property_id'] = get_id(html)\n",
    "                property_dict['title'] = driver.find_element_by_class_name('object-header__title').text\n",
    "                property_dict['address'] = driver.find_element_by_class_name('object-header__subtitle').text\n",
    "                property_dict['price'] = driver.find_element_by_class_name('object-header__price').text\n",
    "                property_dict['neighbourhood'] = driver.find_element_by_class_name('object-buurt__name').text\n",
    "                property_dict['scraped_date'] = dt.date.today()\n",
    "\n",
    "                other_features = get_feat_dict(html)\n",
    "                for key, value in other_features.items():\n",
    "                    if key not in property_dict.keys():\n",
    "                        property_dict[key] = value\n",
    "#                 print(property_dict) USED FOR TESTING ONLY\n",
    "                if property_dict not in feat_dict_list:\n",
    "                    feat_dict_list.append(property_dict)\n",
    "#                 print(feat_dict_list) USED FOR TESTING ONLY\n",
    "                last_url = url\n",
    "        except:\n",
    "            total_ad_count = len(feat_dict_list)\n",
    "            if url_index != 0:\n",
    "                print(last_url, f'This URL is number {original_url_list.index(last_url)} in the original url_list.')\n",
    "            else:\n",
    "                print(last_url, f'This URL is number {url_list.index(last_url)} in the supplied url_list.')\n",
    "            print(f'Finished with an error. Number of ads scraped {new_ad_count}, total number of ads in the list is {total_ad_count}.')\n",
    "            return feat_dict_list\n",
    "    total_ad_count = len(feat_dict_list)\n",
    "    print(f'Finished without errors. Number of ads scraped {new_ad_count}, total number of ads in the list is {total_ad_count}.')\n",
    "    return feat_dict_list\n",
    "\n",
    "\n",
    "\n",
    "def get_recent_ads(days='1', ads_list=[], url_list_name='', url_index=0):\n",
    "    \"\"\"Retrieves only property adverts posted passed in number of days from today (one being today).\n",
    "    The only options for days are 1, 3, 5, 10 and 30.\n",
    "    The default is today (1).\"\"\"\n",
    "    apply_ad_filters({'filter_type': 'days', 'filter': days})\n",
    "    return scrape_data(ads_list=ads_list, url_list_name=url_list_name, url_index=url_index)\n",
    "     \n",
    "\n",
    "def apply_ad_filters(filters_dict={'filter_type': 'days', 'filter': '10'}):\n",
    "    \"\"\"Applies specific filters like the size of the property, facilities, etc.\n",
    "    Available filter types: days, status\"\"\"\n",
    "    type_css_dict = {'days': 'PublicatieDatum-'}\n",
    "    \n",
    "    filters_button_css = \".search-content-header-button-filters.button-tertiary\"\n",
    "    days_on_funda_css = f\"label[class='radio-group-item-label label-text'][for='{type_css_dict[filter]}{days}']\"\n",
    "    remove_filter_css = \"button[class='mobile-filter-reset-button button-tertiary is-enhanced']\"\n",
    "    \n",
    "    filters_button = driver.find_element_by_css_selector(filters_button_css)\n",
    "    filter_dof = driver.find_element_by_css_selector(days_on_funda_css)\n",
    "    remove_dof_filter = driver.find_element_by_css_selector(remove_filter_css)\n",
    "    close_filters_pane = driver.find_element_by_css_selector('.button-tertiary.close-search-sidebar')    \n",
    "    \n",
    "    # Click on filters button\n",
    "    try:\n",
    "        time.sleep(3)\n",
    "        filters_button.click()\n",
    "        print('Filters button clicked successfully')\n",
    "    except:\n",
    "        print('No filters button available, trying to filter directly.')\n",
    "        pass\n",
    "        \n",
    "    try:\n",
    "        time.sleep(4)\n",
    "        filter_dof.click()\n",
    "        print('Days on funda set to \"days\" successfully')\n",
    "    except:\n",
    "        print('No \"Days on funda\" section available, trying to remove existing filter.')\n",
    "        pass\n",
    "        \n",
    "    try:\n",
    "        WebDriverWait(driver, 3).until(EC.visibility_of_element_located((By.CSS_SELECTOR, remove_filter_css)))\n",
    "        remove_dof_filter.click()\n",
    "        print('Original filter removed')\n",
    "    except:\n",
    "        print('Not able to remove filters.')\n",
    "        pass\n",
    "\n",
    "    try:\n",
    "        WebDriverWait(driver, 3).until(EC.visibility_of_element_located((By.CSS_SELECTOR, days_on_funda_css)))\n",
    "        next_section = driver.find_element_by_xpath(\"//legend[contains(text(), 'Number of rooms')]\")\n",
    "        ActionChains(driver).move_to_element(next_section).perform()\n",
    "        filter_dof.click()\n",
    "        print('New filter applied successfully')\n",
    "        # This is to close the filters pane\n",
    "        time.sleep(2)\n",
    "        close_filters_pane.click()\n",
    "        print('Filters pane closed successfully')\n",
    "    except:\n",
    "        print('Could not set the filter.')\n",
    "    \n",
    "    \n",
    "def save_to_favourites(html):\n",
    "    \"\"\"Saves the given html of the property to favourites\"\"\"\n",
    "    # Goes to the provided html (link)\n",
    "    driver.get(html)\n",
    "    \n",
    "    # Find the \"heart\" icon and clicks it once\n",
    "    driver.find_element_by_class_name('user-save-object').click()"
   ]
  },
  {
   "cell_type": "code",
   "execution_count": 183,
   "metadata": {
    "scrolled": true
   },
   "outputs": [
    {
     "data": {
      "text/plain": [
       "8306"
      ]
     },
     "execution_count": 183,
     "metadata": {},
     "output_type": "execute_result"
    }
   ],
   "source": [
    "with open('./Cellar/ads_so_far_2020328.pkl', 'rb') as ads_list_pickle:\n",
    "            current_ads_list = pickle.load(ads_list_pickle)\n",
    "\n",
    "len(current_ads_list)"
   ]
  },
  {
   "cell_type": "code",
   "execution_count": 175,
   "metadata": {
    "scrolled": true
   },
   "outputs": [
    {
     "ename": "NoSuchElementException",
     "evalue": "Message: no such element: Unable to locate element: {\"method\":\"xpath\",\"selector\":\"//iframe[contains(@src, \"recaptcha\")]\"}\n  (Session info: chrome=80.0.3987.149)\n  (Driver info: chromedriver=2.40.565386 (45a059dc425e08165f9a10324bd1380cc13ca363),platform=Mac OS X 10.13.6 x86_64)\n",
     "output_type": "error",
     "traceback": [
      "\u001b[0;31m---------------------------------------------------------------------------\u001b[0m",
      "\u001b[0;31mNoSuchElementException\u001b[0m                    Traceback (most recent call last)",
      "\u001b[0;32m<ipython-input-42-e13274669fb5>\u001b[0m in \u001b[0;36mopen_funda\u001b[0;34m(driver)\u001b[0m\n\u001b[1;32m     67\u001b[0m     \u001b[0;32mtry\u001b[0m\u001b[0;34m:\u001b[0m\u001b[0;34m\u001b[0m\u001b[0m\n\u001b[0;32m---> 68\u001b[0;31m         \u001b[0mcurrent_selection\u001b[0m \u001b[0;34m=\u001b[0m \u001b[0mdriver\u001b[0m\u001b[0;34m.\u001b[0m\u001b[0mfind_element_by_class_name\u001b[0m\u001b[0;34m(\u001b[0m\u001b[0;34m'is-active'\u001b[0m\u001b[0;34m)\u001b[0m\u001b[0;34m.\u001b[0m\u001b[0mtext\u001b[0m\u001b[0;34m\u001b[0m\u001b[0m\n\u001b[0m\u001b[1;32m     69\u001b[0m         \u001b[0;31m# Makes sure that \"For Sale\" category is selected\u001b[0m\u001b[0;34m\u001b[0m\u001b[0;34m\u001b[0m\u001b[0m\n",
      "\u001b[0;32m/anaconda3/lib/python3.6/site-packages/selenium/webdriver/remote/webdriver.py\u001b[0m in \u001b[0;36mfind_element_by_class_name\u001b[0;34m(self, name)\u001b[0m\n\u001b[1;32m    562\u001b[0m         \"\"\"\n\u001b[0;32m--> 563\u001b[0;31m         \u001b[0;32mreturn\u001b[0m \u001b[0mself\u001b[0m\u001b[0;34m.\u001b[0m\u001b[0mfind_element\u001b[0m\u001b[0;34m(\u001b[0m\u001b[0mby\u001b[0m\u001b[0;34m=\u001b[0m\u001b[0mBy\u001b[0m\u001b[0;34m.\u001b[0m\u001b[0mCLASS_NAME\u001b[0m\u001b[0;34m,\u001b[0m \u001b[0mvalue\u001b[0m\u001b[0;34m=\u001b[0m\u001b[0mname\u001b[0m\u001b[0;34m)\u001b[0m\u001b[0;34m\u001b[0m\u001b[0m\n\u001b[0m\u001b[1;32m    564\u001b[0m \u001b[0;34m\u001b[0m\u001b[0m\n",
      "\u001b[0;32m/anaconda3/lib/python3.6/site-packages/selenium/webdriver/remote/webdriver.py\u001b[0m in \u001b[0;36mfind_element\u001b[0;34m(self, by, value)\u001b[0m\n\u001b[1;32m    965\u001b[0m             \u001b[0;34m'using'\u001b[0m\u001b[0;34m:\u001b[0m \u001b[0mby\u001b[0m\u001b[0;34m,\u001b[0m\u001b[0;34m\u001b[0m\u001b[0m\n\u001b[0;32m--> 966\u001b[0;31m             'value': value})['value']\n\u001b[0m\u001b[1;32m    967\u001b[0m \u001b[0;34m\u001b[0m\u001b[0m\n",
      "\u001b[0;32m/anaconda3/lib/python3.6/site-packages/selenium/webdriver/remote/webdriver.py\u001b[0m in \u001b[0;36mexecute\u001b[0;34m(self, driver_command, params)\u001b[0m\n\u001b[1;32m    319\u001b[0m         \u001b[0;32mif\u001b[0m \u001b[0mresponse\u001b[0m\u001b[0;34m:\u001b[0m\u001b[0;34m\u001b[0m\u001b[0m\n\u001b[0;32m--> 320\u001b[0;31m             \u001b[0mself\u001b[0m\u001b[0;34m.\u001b[0m\u001b[0merror_handler\u001b[0m\u001b[0;34m.\u001b[0m\u001b[0mcheck_response\u001b[0m\u001b[0;34m(\u001b[0m\u001b[0mresponse\u001b[0m\u001b[0;34m)\u001b[0m\u001b[0;34m\u001b[0m\u001b[0m\n\u001b[0m\u001b[1;32m    321\u001b[0m             response['value'] = self._unwrap_value(\n",
      "\u001b[0;32m/anaconda3/lib/python3.6/site-packages/selenium/webdriver/remote/errorhandler.py\u001b[0m in \u001b[0;36mcheck_response\u001b[0;34m(self, response)\u001b[0m\n\u001b[1;32m    241\u001b[0m             \u001b[0;32mraise\u001b[0m \u001b[0mexception_class\u001b[0m\u001b[0;34m(\u001b[0m\u001b[0mmessage\u001b[0m\u001b[0;34m,\u001b[0m \u001b[0mscreen\u001b[0m\u001b[0;34m,\u001b[0m \u001b[0mstacktrace\u001b[0m\u001b[0;34m,\u001b[0m \u001b[0malert_text\u001b[0m\u001b[0;34m)\u001b[0m\u001b[0;34m\u001b[0m\u001b[0m\n\u001b[0;32m--> 242\u001b[0;31m         \u001b[0;32mraise\u001b[0m \u001b[0mexception_class\u001b[0m\u001b[0;34m(\u001b[0m\u001b[0mmessage\u001b[0m\u001b[0;34m,\u001b[0m \u001b[0mscreen\u001b[0m\u001b[0;34m,\u001b[0m \u001b[0mstacktrace\u001b[0m\u001b[0;34m)\u001b[0m\u001b[0;34m\u001b[0m\u001b[0m\n\u001b[0m\u001b[1;32m    243\u001b[0m \u001b[0;34m\u001b[0m\u001b[0m\n",
      "\u001b[0;31mNoSuchElementException\u001b[0m: Message: no such element: Unable to locate element: {\"method\":\"class name\",\"selector\":\"is-active\"}\n  (Session info: chrome=80.0.3987.149)\n  (Driver info: chromedriver=2.40.565386 (45a059dc425e08165f9a10324bd1380cc13ca363),platform=Mac OS X 10.13.6 x86_64)\n",
      "\nDuring handling of the above exception, another exception occurred:\n",
      "\u001b[0;31mNoSuchElementException\u001b[0m                    Traceback (most recent call last)",
      "\u001b[0;32m<ipython-input-175-9d93c23fb6a5>\u001b[0m in \u001b[0;36m<module>\u001b[0;34m()\u001b[0m\n\u001b[1;32m      3\u001b[0m \u001b[0mdriver\u001b[0m \u001b[0;34m=\u001b[0m \u001b[0mget_webdriver\u001b[0m\u001b[0;34m(\u001b[0m\u001b[0;34m)\u001b[0m\u001b[0;34m\u001b[0m\u001b[0m\n\u001b[1;32m      4\u001b[0m \u001b[0mlogin_google\u001b[0m\u001b[0;34m(\u001b[0m\u001b[0mdriver\u001b[0m\u001b[0;34m)\u001b[0m\u001b[0;34m\u001b[0m\u001b[0m\n\u001b[0;32m----> 5\u001b[0;31m \u001b[0mopen_funda\u001b[0m\u001b[0;34m(\u001b[0m\u001b[0mdriver\u001b[0m\u001b[0;34m)\u001b[0m\u001b[0;34m;\u001b[0m\u001b[0;34m\u001b[0m\u001b[0m\n\u001b[0m",
      "\u001b[0;32m<ipython-input-42-e13274669fb5>\u001b[0m in \u001b[0;36mopen_funda\u001b[0;34m(driver)\u001b[0m\n\u001b[1;32m     74\u001b[0m             \u001b[0;32mreturn\u001b[0m \u001b[0mdriver\u001b[0m\u001b[0;34m\u001b[0m\u001b[0m\n\u001b[1;32m     75\u001b[0m     \u001b[0;32mexcept\u001b[0m\u001b[0;34m:\u001b[0m\u001b[0;34m\u001b[0m\u001b[0m\n\u001b[0;32m---> 76\u001b[0;31m         \u001b[0;32mif\u001b[0m \u001b[0msolve_recaptcha\u001b[0m\u001b[0;34m(\u001b[0m\u001b[0;34m)\u001b[0m \u001b[0;34m==\u001b[0m \u001b[0;34m'ReCAPTHA solved successfully'\u001b[0m\u001b[0;34m:\u001b[0m\u001b[0;34m\u001b[0m\u001b[0m\n\u001b[0m\u001b[1;32m     77\u001b[0m             \u001b[0mcurrent_selection\u001b[0m \u001b[0;34m=\u001b[0m \u001b[0mdriver\u001b[0m\u001b[0;34m.\u001b[0m\u001b[0mfind_element_by_class_name\u001b[0m\u001b[0;34m(\u001b[0m\u001b[0;34m'is-active'\u001b[0m\u001b[0;34m)\u001b[0m\u001b[0;34m.\u001b[0m\u001b[0mtext\u001b[0m\u001b[0;34m\u001b[0m\u001b[0m\n\u001b[1;32m     78\u001b[0m             \u001b[0;31m# Makes sure that \"For Sale\" category is selected\u001b[0m\u001b[0;34m\u001b[0m\u001b[0;34m\u001b[0m\u001b[0m\n",
      "\u001b[0;32m<ipython-input-42-e13274669fb5>\u001b[0m in \u001b[0;36msolve_recaptcha\u001b[0;34m()\u001b[0m\n\u001b[1;32m     41\u001b[0m \u001b[0;32mdef\u001b[0m \u001b[0msolve_recaptcha\u001b[0m\u001b[0;34m(\u001b[0m\u001b[0;34m)\u001b[0m\u001b[0;34m:\u001b[0m\u001b[0;34m\u001b[0m\u001b[0m\n\u001b[1;32m     42\u001b[0m     \u001b[0;34m\"\"\"Click reCAPTCHA checkbox. If the test with images comes up, I have no solution.\"\"\"\u001b[0m\u001b[0;34m\u001b[0m\u001b[0m\n\u001b[0;32m---> 43\u001b[0;31m     \u001b[0mframe\u001b[0m \u001b[0;34m=\u001b[0m \u001b[0mdriver\u001b[0m\u001b[0;34m.\u001b[0m\u001b[0mfind_element_by_xpath\u001b[0m\u001b[0;34m(\u001b[0m\u001b[0;34m'//iframe[contains(@src, \"recaptcha\")]'\u001b[0m\u001b[0;34m)\u001b[0m\u001b[0;34m\u001b[0m\u001b[0m\n\u001b[0m\u001b[1;32m     44\u001b[0m     \u001b[0mdriver\u001b[0m\u001b[0;34m.\u001b[0m\u001b[0mswitch_to\u001b[0m\u001b[0;34m.\u001b[0m\u001b[0mframe\u001b[0m\u001b[0;34m(\u001b[0m\u001b[0mframe\u001b[0m\u001b[0;34m)\u001b[0m\u001b[0;34m\u001b[0m\u001b[0m\n\u001b[1;32m     45\u001b[0m     \u001b[0mdriver\u001b[0m\u001b[0;34m.\u001b[0m\u001b[0mfind_element_by_xpath\u001b[0m\u001b[0;34m(\u001b[0m\u001b[0;34m\"//*[@id='recaptcha-anchor']\"\u001b[0m\u001b[0;34m)\u001b[0m\u001b[0;34m.\u001b[0m\u001b[0mclick\u001b[0m\u001b[0;34m(\u001b[0m\u001b[0;34m)\u001b[0m\u001b[0;34m\u001b[0m\u001b[0m\n",
      "\u001b[0;32m/anaconda3/lib/python3.6/site-packages/selenium/webdriver/remote/webdriver.py\u001b[0m in \u001b[0;36mfind_element_by_xpath\u001b[0;34m(self, xpath)\u001b[0m\n\u001b[1;32m    391\u001b[0m             \u001b[0melement\u001b[0m \u001b[0;34m=\u001b[0m \u001b[0mdriver\u001b[0m\u001b[0;34m.\u001b[0m\u001b[0mfind_element_by_xpath\u001b[0m\u001b[0;34m(\u001b[0m\u001b[0;34m'//div/td[1]'\u001b[0m\u001b[0;34m)\u001b[0m\u001b[0;34m\u001b[0m\u001b[0m\n\u001b[1;32m    392\u001b[0m         \"\"\"\n\u001b[0;32m--> 393\u001b[0;31m         \u001b[0;32mreturn\u001b[0m \u001b[0mself\u001b[0m\u001b[0;34m.\u001b[0m\u001b[0mfind_element\u001b[0m\u001b[0;34m(\u001b[0m\u001b[0mby\u001b[0m\u001b[0;34m=\u001b[0m\u001b[0mBy\u001b[0m\u001b[0;34m.\u001b[0m\u001b[0mXPATH\u001b[0m\u001b[0;34m,\u001b[0m \u001b[0mvalue\u001b[0m\u001b[0;34m=\u001b[0m\u001b[0mxpath\u001b[0m\u001b[0;34m)\u001b[0m\u001b[0;34m\u001b[0m\u001b[0m\n\u001b[0m\u001b[1;32m    394\u001b[0m \u001b[0;34m\u001b[0m\u001b[0m\n\u001b[1;32m    395\u001b[0m     \u001b[0;32mdef\u001b[0m \u001b[0mfind_elements_by_xpath\u001b[0m\u001b[0;34m(\u001b[0m\u001b[0mself\u001b[0m\u001b[0;34m,\u001b[0m \u001b[0mxpath\u001b[0m\u001b[0;34m)\u001b[0m\u001b[0;34m:\u001b[0m\u001b[0;34m\u001b[0m\u001b[0m\n",
      "\u001b[0;32m/anaconda3/lib/python3.6/site-packages/selenium/webdriver/remote/webdriver.py\u001b[0m in \u001b[0;36mfind_element\u001b[0;34m(self, by, value)\u001b[0m\n\u001b[1;32m    964\u001b[0m         return self.execute(Command.FIND_ELEMENT, {\n\u001b[1;32m    965\u001b[0m             \u001b[0;34m'using'\u001b[0m\u001b[0;34m:\u001b[0m \u001b[0mby\u001b[0m\u001b[0;34m,\u001b[0m\u001b[0;34m\u001b[0m\u001b[0m\n\u001b[0;32m--> 966\u001b[0;31m             'value': value})['value']\n\u001b[0m\u001b[1;32m    967\u001b[0m \u001b[0;34m\u001b[0m\u001b[0m\n\u001b[1;32m    968\u001b[0m     \u001b[0;32mdef\u001b[0m \u001b[0mfind_elements\u001b[0m\u001b[0;34m(\u001b[0m\u001b[0mself\u001b[0m\u001b[0;34m,\u001b[0m \u001b[0mby\u001b[0m\u001b[0;34m=\u001b[0m\u001b[0mBy\u001b[0m\u001b[0;34m.\u001b[0m\u001b[0mID\u001b[0m\u001b[0;34m,\u001b[0m \u001b[0mvalue\u001b[0m\u001b[0;34m=\u001b[0m\u001b[0;32mNone\u001b[0m\u001b[0;34m)\u001b[0m\u001b[0;34m:\u001b[0m\u001b[0;34m\u001b[0m\u001b[0m\n",
      "\u001b[0;32m/anaconda3/lib/python3.6/site-packages/selenium/webdriver/remote/webdriver.py\u001b[0m in \u001b[0;36mexecute\u001b[0;34m(self, driver_command, params)\u001b[0m\n\u001b[1;32m    318\u001b[0m         \u001b[0mresponse\u001b[0m \u001b[0;34m=\u001b[0m \u001b[0mself\u001b[0m\u001b[0;34m.\u001b[0m\u001b[0mcommand_executor\u001b[0m\u001b[0;34m.\u001b[0m\u001b[0mexecute\u001b[0m\u001b[0;34m(\u001b[0m\u001b[0mdriver_command\u001b[0m\u001b[0;34m,\u001b[0m \u001b[0mparams\u001b[0m\u001b[0;34m)\u001b[0m\u001b[0;34m\u001b[0m\u001b[0m\n\u001b[1;32m    319\u001b[0m         \u001b[0;32mif\u001b[0m \u001b[0mresponse\u001b[0m\u001b[0;34m:\u001b[0m\u001b[0;34m\u001b[0m\u001b[0m\n\u001b[0;32m--> 320\u001b[0;31m             \u001b[0mself\u001b[0m\u001b[0;34m.\u001b[0m\u001b[0merror_handler\u001b[0m\u001b[0;34m.\u001b[0m\u001b[0mcheck_response\u001b[0m\u001b[0;34m(\u001b[0m\u001b[0mresponse\u001b[0m\u001b[0;34m)\u001b[0m\u001b[0;34m\u001b[0m\u001b[0m\n\u001b[0m\u001b[1;32m    321\u001b[0m             response['value'] = self._unwrap_value(\n\u001b[1;32m    322\u001b[0m                 response.get('value', None))\n",
      "\u001b[0;32m/anaconda3/lib/python3.6/site-packages/selenium/webdriver/remote/errorhandler.py\u001b[0m in \u001b[0;36mcheck_response\u001b[0;34m(self, response)\u001b[0m\n\u001b[1;32m    240\u001b[0m                 \u001b[0malert_text\u001b[0m \u001b[0;34m=\u001b[0m \u001b[0mvalue\u001b[0m\u001b[0;34m[\u001b[0m\u001b[0;34m'alert'\u001b[0m\u001b[0;34m]\u001b[0m\u001b[0;34m.\u001b[0m\u001b[0mget\u001b[0m\u001b[0;34m(\u001b[0m\u001b[0;34m'text'\u001b[0m\u001b[0;34m)\u001b[0m\u001b[0;34m\u001b[0m\u001b[0m\n\u001b[1;32m    241\u001b[0m             \u001b[0;32mraise\u001b[0m \u001b[0mexception_class\u001b[0m\u001b[0;34m(\u001b[0m\u001b[0mmessage\u001b[0m\u001b[0;34m,\u001b[0m \u001b[0mscreen\u001b[0m\u001b[0;34m,\u001b[0m \u001b[0mstacktrace\u001b[0m\u001b[0;34m,\u001b[0m \u001b[0malert_text\u001b[0m\u001b[0;34m)\u001b[0m\u001b[0;34m\u001b[0m\u001b[0m\n\u001b[0;32m--> 242\u001b[0;31m         \u001b[0;32mraise\u001b[0m \u001b[0mexception_class\u001b[0m\u001b[0;34m(\u001b[0m\u001b[0mmessage\u001b[0m\u001b[0;34m,\u001b[0m \u001b[0mscreen\u001b[0m\u001b[0;34m,\u001b[0m \u001b[0mstacktrace\u001b[0m\u001b[0;34m)\u001b[0m\u001b[0;34m\u001b[0m\u001b[0m\n\u001b[0m\u001b[1;32m    243\u001b[0m \u001b[0;34m\u001b[0m\u001b[0m\n\u001b[1;32m    244\u001b[0m     \u001b[0;32mdef\u001b[0m \u001b[0m_value_or_default\u001b[0m\u001b[0;34m(\u001b[0m\u001b[0mself\u001b[0m\u001b[0;34m,\u001b[0m \u001b[0mobj\u001b[0m\u001b[0;34m,\u001b[0m \u001b[0mkey\u001b[0m\u001b[0;34m,\u001b[0m \u001b[0mdefault\u001b[0m\u001b[0;34m)\u001b[0m\u001b[0;34m:\u001b[0m\u001b[0;34m\u001b[0m\u001b[0m\n",
      "\u001b[0;31mNoSuchElementException\u001b[0m: Message: no such element: Unable to locate element: {\"method\":\"xpath\",\"selector\":\"//iframe[contains(@src, \"recaptcha\")]\"}\n  (Session info: chrome=80.0.3987.149)\n  (Driver info: chromedriver=2.40.565386 (45a059dc425e08165f9a10324bd1380cc13ca363),platform=Mac OS X 10.13.6 x86_64)\n"
     ]
    }
   ],
   "source": [
    "# First start the web driver, log into google and open funda\n",
    "# If reCAPTCHA appears, solve it manually\n",
    "driver = get_webdriver()\n",
    "login_google(driver)\n",
    "open_funda(driver);"
   ]
  },
  {
   "cell_type": "code",
   "execution_count": 160,
   "metadata": {},
   "outputs": [],
   "source": [
    "# load_dotenv()\n",
    "# funda_url = os.environ.get('funda_url')\n",
    "\n",
    "# time.sleep(2)\n",
    "# driver.get(funda_url)"
   ]
  },
  {
   "cell_type": "code",
   "execution_count": 161,
   "metadata": {},
   "outputs": [],
   "source": [
    "\n",
    "# cookie_url = funda_url + '/cookiebeleid/?ReturnUrl=%2f'\n",
    "# driver.get(cookie_url)\n",
    "\n",
    "# current_tab = driver.find_element_by_class_name('active').text\n",
    "\n",
    "# if current_tab == 'Standaard':\n",
    "#     element = WebDriverWait(driver, 5).until(EC.visibility_of_element_located((By.XPATH, \"//a[contains(text(), 'Aangepast')]\")))\n",
    "#     element.click()\n",
    "#     find_save_cookies_button = WebDriverWait(driver, 5).until(EC.visibility_of_element_located((By.XPATH, \"//div[@class='cookie-preference-aangepast]'//button[@type='submit')]\")))\n",
    "#     find_save_cookies_button.click()\n"
   ]
  },
  {
   "cell_type": "code",
   "execution_count": 176,
   "metadata": {
    "scrolled": false
   },
   "outputs": [],
   "source": [
    "# Now that funda is not angry at us anymore\n",
    "log_in()\n",
    "filters = {'location': 'Amsterdam', 'radius': '0', 'min_price': '0', 'max_price': 'ignore_filter'}\n",
    "apply_basic_filters(filters)"
   ]
  },
  {
   "cell_type": "code",
   "execution_count": 179,
   "metadata": {},
   "outputs": [
    {
     "name": "stdout",
     "output_type": "stream",
     "text": [
      "Finished without errors. Number of ads scraped 104, total number of ads in the list is 8306.\n"
     ]
    }
   ],
   "source": [
    "all_data_df = scrape_data(ads_list=current_ads_list, url_list_name='url_list_2020328', url_index=172)"
   ]
  },
  {
   "cell_type": "code",
   "execution_count": 34,
   "metadata": {},
   "outputs": [],
   "source": [
    "# days = '3'\n",
    "# apply_ad_filters({'filter_type': 'days', 'filter': days})"
   ]
  },
  {
   "cell_type": "code",
   "execution_count": null,
   "metadata": {
    "scrolled": false
   },
   "outputs": [],
   "source": [
    "# updated_data_df = get_recent_ads(days='10', ads_list=ads_list)"
   ]
  },
  {
   "cell_type": "code",
   "execution_count": 181,
   "metadata": {
    "scrolled": true
   },
   "outputs": [],
   "source": [
    "driver.close()"
   ]
  },
  {
   "cell_type": "code",
   "execution_count": 182,
   "metadata": {},
   "outputs": [],
   "source": [
    "with open('./Cellar/ads_so_far_2020328.pkl', 'wb') as ads_so_far_pickle:\n",
    "             pickle.dump(all_data_df, ads_so_far_pickle)"
   ]
  },
  {
   "cell_type": "code",
   "execution_count": 47,
   "metadata": {},
   "outputs": [],
   "source": [
    "# with open('./Cellar/ads_so_far_2020223.pkl', 'wb') as ads_so_far_pickle:\n",
    "#              pickle.dump(all_data_df, ads_so_far_pickle)"
   ]
  },
  {
   "cell_type": "code",
   "execution_count": 138,
   "metadata": {},
   "outputs": [],
   "source": [
    "# with open('./Cellar/full_url_list.pkl', 'rb') as full_url_list:\n",
    "#             full_url_list = pickle.load(full_url_list)\n",
    "\n",
    "# full_url_list"
   ]
  },
  {
   "cell_type": "code",
   "execution_count": 6,
   "metadata": {
    "scrolled": true
   },
   "outputs": [],
   "source": [
    "# driver = start_webdriver()\n",
    "# log_in()"
   ]
  },
  {
   "cell_type": "code",
   "execution_count": 54,
   "metadata": {},
   "outputs": [
    {
     "ename": "NameError",
     "evalue": "name 'scraped_data_list' is not defined",
     "output_type": "error",
     "traceback": [
      "\u001b[0;31m---------------------------------------------------------------------------\u001b[0m",
      "\u001b[0;31mNameError\u001b[0m                                 Traceback (most recent call last)",
      "\u001b[0;32m<ipython-input-54-bc0d76cf65df>\u001b[0m in \u001b[0;36m<module>\u001b[0;34m()\u001b[0m\n\u001b[0;32m----> 1\u001b[0;31m \u001b[0mlast_html\u001b[0m \u001b[0;34m=\u001b[0m \u001b[0mscraped_data_list\u001b[0m\u001b[0;34m[\u001b[0m\u001b[0;34m-\u001b[0m\u001b[0;36m1\u001b[0m\u001b[0;34m]\u001b[0m\u001b[0;34m[\u001b[0m\u001b[0;34m'property_link'\u001b[0m\u001b[0;34m]\u001b[0m\u001b[0;34m\u001b[0m\u001b[0m\n\u001b[0m\u001b[1;32m      2\u001b[0m \u001b[0mlast_html\u001b[0m\u001b[0;34m\u001b[0m\u001b[0m\n",
      "\u001b[0;31mNameError\u001b[0m: name 'scraped_data_list' is not defined"
     ]
    }
   ],
   "source": [
    "last_html = scraped_data_list[-1]['property_link']\n",
    "last_html"
   ]
  },
  {
   "cell_type": "code",
   "execution_count": 153,
   "metadata": {
    "scrolled": false
   },
   "outputs": [],
   "source": [
    "# with open('./Cellar/full_url_list.pkl', 'rb') as full_url_pickle:\n",
    "#             url_list = pickle.load(full_url_pickle)\n",
    "# len(url_list)"
   ]
  },
  {
   "cell_type": "code",
   "execution_count": 175,
   "metadata": {},
   "outputs": [],
   "source": [
    "# THIS CELL STARTS UP THE WEB-DRIVER AND GOES TO THE WEBSITE\n",
    "\n",
    "#Load .env file contents\n",
    "# load_dotenv()\n",
    "\n",
    "# chromedriver = os.environ.get('webdriver_loc')           #  path to the chromedriver executable\n",
    "# os.environ[\"webdriver.chrome.driver\"] = chromedriver\n",
    "# url = os.environ.get('url')\n",
    "\n",
    "# # Go to the website\n",
    "# driver = webdriver.Chrome(chromedriver)\n",
    "# driver.get(url)"
   ]
  },
  {
   "cell_type": "code",
   "execution_count": 8,
   "metadata": {
    "scrolled": false
   },
   "outputs": [],
   "source": [
    "\n",
    "# except:\n",
    "#     driver.find_element_by_class_name('recaptcha-checkbox-border').click()\n",
    "# except:\n",
    "#     WebElement iFrame_checkbox = driver.findElement(By.xpath(\"xpath_of_reCaptcha_checkbox\"));\n",
    "#     iFrame_checkbox.click();\n",
    "\n"
   ]
  },
  {
   "cell_type": "code",
   "execution_count": 91,
   "metadata": {
    "scrolled": false
   },
   "outputs": [],
   "source": [
    "# url_list = get_url_list()\n",
    "# with open('./Cellar/pages_url_list.pkl', 'wb') as url_pickle:\n",
    "#     pickle.dump(url_list, url_pickle)"
   ]
  },
  {
   "cell_type": "code",
   "execution_count": 101,
   "metadata": {},
   "outputs": [],
   "source": [
    "# Save the data into a pickle file\n",
    "# with open('./Cellar/property_ad_data_list.pkl', 'wb') as scraped_pickle:\n",
    "#     pickle.dump(scrape_data, scraped_pickle)"
   ]
  },
  {
   "cell_type": "code",
   "execution_count": 130,
   "metadata": {},
   "outputs": [],
   "source": [
    "# with open('./Cellar/pages_url_list.pkl', 'rb') as url_pickle:\n",
    "#     url_list = pickle.load(url_pickle)\n",
    "\n",
    "# print(f'Imported {len(url_list)} URLs.')"
   ]
  },
  {
   "cell_type": "code",
   "execution_count": 150,
   "metadata": {
    "scrolled": false
   },
   "outputs": [
    {
     "name": "stdout",
     "output_type": "stream",
     "text": [
      "https://www.funda.nl/en/koop/amsterdam/p148/\n",
      "https://www.funda.nl/en/koop/amsterdam/p148/\n",
      "https://www.funda.nl/en/koop/amsterdam/p148/\n"
     ]
    }
   ],
   "source": [
    "# count = 0\n",
    "\n",
    "# html_list = []\n",
    "# url_list_limited = url_list[126:160]\n",
    "\n",
    "# for url in url_list_limited:\n",
    "#     driver.get(url)\n",
    "#     elems = driver.find_elements_by_xpath(\"//a[@href]\")\n",
    "#     for elem in elems:\n",
    "#         html = elem.get_attribute(\"href\")\n",
    "#         if html == last_html:\n",
    "#             print(url)\n",
    "        \n",
    "        \n",
    "        \n",
    "#         if (bool(re.search(r'appartement-\\d+', html)) or bool(re.search('huis-\\d+', html))) and html not in html_list: \n",
    "#             html_list.append(html)"
   ]
  },
  {
   "cell_type": "code",
   "execution_count": 21,
   "metadata": {},
   "outputs": [],
   "source": [
    "# test_case = 'https://www.funda.nl/en/koop/amsterdam/huis-41401267-lijnbaansgracht-92/'\n",
    "\n",
    "# # To open the property ad\n",
    "# driver.get(test_case)\n",
    "\n",
    "# title = driver.find_element_by_class_name('object-header__title').text\n",
    "# address = driver.find_element_by_class_name('object-header__subtitle').text\n",
    "# price = driver.find_element_by_class_name('object-header__price').text\n",
    "\n",
    "# # Click to see all the features available\n",
    "# WebDriverWait(driver, 7).until(EC.visibility_of_element_located((By.CSS_SELECTOR, \".object-kenmerken-open-button\")))\n",
    "# driver.find_element_by_class_name('object-kenmerken-open-button').click()\n",
    "\n",
    "# # Retrieve all the other features now\n",
    "# all_features = driver.find_element_by_class_name('object-kenmerken-body').text\n",
    "# all_feat_dict = get_each_feature(all_features)\n",
    "\n",
    "# neighbourhood = all_features = driver.find_element_by_class_name('object-buurt__name').text\n",
    "\n"
   ]
  },
  {
   "cell_type": "code",
   "execution_count": 176,
   "metadata": {
    "scrolled": false
   },
   "outputs": [],
   "source": [
    "test_case_html = 'https://www.funda.nl/en/koop/amsterdam/appartement-87991120-vleutenstraat-44/'"
   ]
  },
  {
   "cell_type": "code",
   "execution_count": 200,
   "metadata": {
    "scrolled": false
   },
   "outputs": [],
   "source": [
    "# # Open the html\n",
    "# driver.get(test_case_html)\n",
    "\n",
    "# # Click to see all the features available\n",
    "# try:\n",
    "#     WebDriverWait(driver, 7).until(EC.visibility_of_element_located((By.CSS_SELECTOR, \".object-kenmerken-open-button\")))\n",
    "#     driver.find_element_by_class_name('object-kenmerken-open-button').click()\n",
    "# except:\n",
    "#     pass\n",
    "    \n",
    "# # Retrieve all the other features now\n",
    "# time.sleep(5)\n",
    "# feature_elems = driver.find_elements_by_class_name('object-kenmerken-body')\n",
    "# feature_string = ''\n",
    "# for elem in feature_elems:\n",
    "#     if feature_string == '':\n",
    "#         feature_string = elem.text\n",
    "#     else:\n",
    "#         feature_string += '\\n' + str(elem.text)\n",
    "\n",
    "# categories = ['Auction', 'Transfer of ownership', 'Construction', 'Surface areas and volume', 'Areas', 'Layout', 'Energy', 'What does this mean?', 'Cadastral data', 'Exterior space', 'Storage space', 'Parking', 'VVE (Owners Association) checklist', 'Garage', 'Commercial property']\n",
    "# special_categories = ['Cadastral data', 'Commercial property']\n",
    "# to_delete = ['Cadastral map']\n",
    "# features = feature_string.split('\\n')\n",
    "# feat_list = [feat for feat in features if feat not in to_delete]\n",
    "\n",
    "# feat_dict = {}   \n",
    "# current_index = 0\n",
    "\n",
    "# for feat in feat_list: \n",
    "# #     print(feat)\n",
    "#     feat = feat_list[current_index]\n",
    "#     if feat in categories:\n",
    "#         feat_dict[feat] = ''\n",
    "\n",
    "#         current_category = feat\n",
    "#         current_index += 1        \n",
    "#     else:\n",
    "#         if current_category in special_categories:\n",
    "#             feat_dict[current_category] += str(feat) + '; '\n",
    "#             if current_index+2 < len(feat_list):\n",
    "#                 current_index += 1\n",
    "#             else:\n",
    "#                 break\n",
    "#         elif feat in feat_dict.keys():\n",
    "#             feat_dict[feat+'_'+current_category] = feat_list[current_index+1]\n",
    "#             if current_index+2 < len(feat_list):\n",
    "#                 current_index += 2\n",
    "#             else:\n",
    "#                 break\n",
    "#         else:\n",
    "#             feat_dict[feat] = feat_list[current_index+1]\n",
    "#             if current_index+2 < len(feat_list):\n",
    "#                 current_index += 2\n",
    "#             else:\n",
    "#                 break\n",
    "                \n",
    "# feat_dict['property_link'] = test_case_html\n",
    "# feat_dict['property_id'] = get_id(test_case_html)\n",
    "# feat_dict['title'] = driver.find_element_by_class_name('object-header__title').text\n",
    "# feat_dict['address'] = driver.find_element_by_class_name('object-header__subtitle').text\n",
    "# feat_dict['price'] = driver.find_element_by_class_name('object-header__price').text\n",
    "# feat_dict['neighbourhood'] = driver.find_element_by_class_name('object-buurt__name').text\n",
    "# # ads_list.append()\n",
    "# feat_dict"
   ]
  },
  {
   "cell_type": "code",
   "execution_count": null,
   "metadata": {},
   "outputs": [],
   "source": []
  }
 ],
 "metadata": {
  "kernelspec": {
   "display_name": "Python 3",
   "language": "python",
   "name": "python3"
  },
  "language_info": {
   "codemirror_mode": {
    "name": "ipython",
    "version": 3
   },
   "file_extension": ".py",
   "mimetype": "text/x-python",
   "name": "python",
   "nbconvert_exporter": "python",
   "pygments_lexer": "ipython3",
   "version": "3.6.5"
  }
 },
 "nbformat": 4,
 "nbformat_minor": 2
}
