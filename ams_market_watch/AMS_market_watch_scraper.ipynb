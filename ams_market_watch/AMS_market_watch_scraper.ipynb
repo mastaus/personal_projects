{
 "cells": [
  {
   "cell_type": "code",
   "execution_count": 1,
   "metadata": {},
   "outputs": [
    {
     "data": {
      "text/html": [
       "<style>.container { width:95% !important; }</style>"
      ],
      "text/plain": [
       "<IPython.core.display.HTML object>"
      ]
     },
     "metadata": {},
     "output_type": "display_data"
    }
   ],
   "source": [
    "from IPython.core.display import display, HTML\n",
    "display(HTML(\"<style>.container { width:95% !important; }</style>\"))"
   ]
  },
  {
   "cell_type": "markdown",
   "metadata": {},
   "source": [
    "### Import necessary packages"
   ]
  },
  {
   "cell_type": "code",
   "execution_count": 116,
   "metadata": {},
   "outputs": [],
   "source": [
    "#Essentials\n",
    "import numpy as np\n",
    "import pandas as pd\n",
    "import pickle\n",
    "import re\n",
    "import datetime as dt\n",
    "import time as t\n",
    "\n",
    "# For scraping\n",
    "import requests\n",
    "from bs4 import BeautifulSoup\n",
    "from selenium import webdriver\n",
    "from selenium.webdriver.common.keys import Keys\n",
    "import os\n",
    "\n",
    "#SQL related - NEED TO DECIDE WHICH ONE I'LL BE USING AND DELETE THE REST\n",
    "import psycopg2\n",
    "import sqlite3\n",
    "from sqlalchemy import create_engine\n",
    "import pandas.io.sql as pd_sql\n",
    "\n",
    "#Visualization\n",
    "import matplotlib.pyplot as plt\n",
    "import matplotlib\n",
    "import seaborn as sns\n",
    "\n",
    "\n",
    "%matplotlib inline\n",
    "from matplotlib.pylab import rcParams\n",
    "rcParams['figure.figsize'] = 25, 6\n",
    "rcParams.update({'font.size': 14})"
   ]
  },
  {
   "cell_type": "markdown",
   "metadata": {},
   "source": [
    "## Gather data"
   ]
  },
  {
   "cell_type": "markdown",
   "metadata": {},
   "source": [
    "### Helper functions"
   ]
  },
  {
   "cell_type": "code",
   "execution_count": 117,
   "metadata": {},
   "outputs": [],
   "source": [
    "def is_for_sale_active(url):\n",
    "    \"\"\"Checks if 'For Sale' tab is selected, to make sure we're not looking at rentals\n",
    "    Returns a Boolean (True for For Sale is active, False - if it isn't active)\"\"\"\n",
    "    "
   ]
  },
  {
   "cell_type": "code",
   "execution_count": 118,
   "metadata": {},
   "outputs": [],
   "source": [
    "# At the moment only getting the data from Funda, could have a list of websites in the future\n",
    "website = 'https://www.funda.nl/en/'\n",
    "\n",
    "chromedriver = \"/Applications/chromedriver\"           #  path to the chromedriver executable\n",
    "os.environ[\"webdriver.chrome.driver\"] = chromedriver"
   ]
  },
  {
   "cell_type": "code",
   "execution_count": 119,
   "metadata": {
    "scrolled": false
   },
   "outputs": [],
   "source": [
    "# Go to the website\n",
    "driver = webdriver.Chrome(chromedriver)\n",
    "driver.get(website)\n",
    "\n",
    "# Now apply desired filters (e.g. set location to Amsterdam)\n",
    "# try:\n",
    "# filter_loc = driver.find_element_by_name('filter_location')\n",
    "# filter_loc.send_keys('Amsterdam')\n",
    "# filter_radius = Select(driver.find_element_by_id('Straal'))\n",
    "# filter_radius.select_by_value('0')\n",
    "# filter_price_from = Select(driver.find_element_by_name('filter_KoopprijsVan'))\n",
    "# filter_price_from.select_by_value('200000')\n",
    "# filter_price_upto = Select(driver.find_element_by_name('filter_KoopprijsTot'))\n",
    "# filter_price_upto.select_by_value('400000')\n",
    "# except:\n",
    "#     driver.find_element_by_class_name('recaptcha-checkbox-border').click()\n",
    "# except:\n",
    "#     WebElement iFrame_checkbox = driver.findElement(By.xpath(\"xpath_of_reCaptcha_checkbox\"));\n",
    "#     iFrame_checkbox.click();\n",
    "\n",
    "\n",
    "# car_type_form.send_keys(Keys.RETURN)"
   ]
  },
  {
   "cell_type": "code",
   "execution_count": 120,
   "metadata": {
    "scrolled": true
   },
   "outputs": [],
   "source": [
    "driver.close()"
   ]
  },
  {
   "cell_type": "code",
   "execution_count": null,
   "metadata": {},
   "outputs": [],
   "source": []
  },
  {
   "cell_type": "code",
   "execution_count": null,
   "metadata": {},
   "outputs": [],
   "source": []
  }
 ],
 "metadata": {
  "kernelspec": {
   "display_name": "Python 3",
   "language": "python",
   "name": "python3"
  },
  "language_info": {
   "codemirror_mode": {
    "name": "ipython",
    "version": 3
   },
   "file_extension": ".py",
   "mimetype": "text/x-python",
   "name": "python",
   "nbconvert_exporter": "python",
   "pygments_lexer": "ipython3",
   "version": "3.6.5"
  }
 },
 "nbformat": 4,
 "nbformat_minor": 2
}
