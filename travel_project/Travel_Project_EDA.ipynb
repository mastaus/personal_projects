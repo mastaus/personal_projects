{
 "cells": [
  {
   "cell_type": "markdown",
   "metadata": {},
   "source": [
    "## Exploratory Data Analysis"
   ]
  },
  {
   "cell_type": "markdown",
   "metadata": {},
   "source": [
    "**Import essential packages**"
   ]
  },
  {
   "cell_type": "code",
   "execution_count": 22,
   "metadata": {
    "ExecuteTime": {
     "end_time": "2019-04-02T19:53:15.168865Z",
     "start_time": "2019-04-02T19:53:14.367434Z"
    }
   },
   "outputs": [],
   "source": [
    "import numpy as np\n",
    "import pandas as pd\n",
    "import geopandas as gpd\n",
    "import matplotlib as plt\n",
    "import math\n",
    "import folium"
   ]
  },
  {
   "cell_type": "markdown",
   "metadata": {},
   "source": [
    "**Import the main dataset**"
   ]
  },
  {
   "cell_type": "code",
   "execution_count": 5,
   "metadata": {
    "ExecuteTime": {
     "end_time": "2019-04-02T19:21:51.427331Z",
     "start_time": "2019-04-02T19:21:48.367539Z"
    },
    "scrolled": false
   },
   "outputs": [
    {
     "data": {
      "text/html": [
       "<div>\n",
       "<style scoped>\n",
       "    .dataframe tbody tr th:only-of-type {\n",
       "        vertical-align: middle;\n",
       "    }\n",
       "\n",
       "    .dataframe tbody tr th {\n",
       "        vertical-align: top;\n",
       "    }\n",
       "\n",
       "    .dataframe thead th {\n",
       "        text-align: right;\n",
       "    }\n",
       "</style>\n",
       "<table border=\"1\" class=\"dataframe\">\n",
       "  <thead>\n",
       "    <tr style=\"text-align: right;\">\n",
       "      <th></th>\n",
       "      <th>name</th>\n",
       "      <th>latitude_radian</th>\n",
       "      <th>longitude_radian</th>\n",
       "      <th>num_links</th>\n",
       "      <th>links</th>\n",
       "      <th>num_categories</th>\n",
       "      <th>categories</th>\n",
       "    </tr>\n",
       "  </thead>\n",
       "  <tbody>\n",
       "    <tr>\n",
       "      <th>0</th>\n",
       "      <td>YAYCHI, WEST AZERBAIJAN</td>\n",
       "      <td>0.683175</td>\n",
       "      <td>0.778053</td>\n",
       "      <td>13</td>\n",
       "      <td>Baba Jik Rural District; West Azerbaijan Provi...</td>\n",
       "      <td>1</td>\n",
       "      <td>POPULATED PLACES IN CHALDORAN COUNTY</td>\n",
       "    </tr>\n",
       "  </tbody>\n",
       "</table>\n",
       "</div>"
      ],
      "text/plain": [
       "                      name  latitude_radian  longitude_radian  num_links  \\\n",
       "0  YAYCHI, WEST AZERBAIJAN         0.683175          0.778053         13   \n",
       "\n",
       "                                               links  num_categories  \\\n",
       "0  Baba Jik Rural District; West Azerbaijan Provi...               1   \n",
       "\n",
       "                             categories  \n",
       "0  POPULATED PLACES IN CHALDORAN COUNTY  "
      ]
     },
     "execution_count": 5,
     "metadata": {},
     "output_type": "execute_result"
    }
   ],
   "source": [
    "poi_df = pd.read_csv('./datasets/poi.csv')"
   ]
  },
  {
   "cell_type": "code",
   "execution_count": 8,
   "metadata": {
    "ExecuteTime": {
     "end_time": "2019-04-02T19:23:02.047673Z",
     "start_time": "2019-04-02T19:23:02.037211Z"
    }
   },
   "outputs": [
    {
     "data": {
      "text/html": [
       "<div>\n",
       "<style scoped>\n",
       "    .dataframe tbody tr th:only-of-type {\n",
       "        vertical-align: middle;\n",
       "    }\n",
       "\n",
       "    .dataframe tbody tr th {\n",
       "        vertical-align: top;\n",
       "    }\n",
       "\n",
       "    .dataframe thead th {\n",
       "        text-align: right;\n",
       "    }\n",
       "</style>\n",
       "<table border=\"1\" class=\"dataframe\">\n",
       "  <thead>\n",
       "    <tr style=\"text-align: right;\">\n",
       "      <th></th>\n",
       "      <th>name</th>\n",
       "      <th>latitude_radian</th>\n",
       "      <th>longitude_radian</th>\n",
       "      <th>num_links</th>\n",
       "      <th>links</th>\n",
       "      <th>num_categories</th>\n",
       "      <th>categories</th>\n",
       "    </tr>\n",
       "  </thead>\n",
       "  <tbody>\n",
       "    <tr>\n",
       "      <th>0</th>\n",
       "      <td>YAYCHI, WEST AZERBAIJAN</td>\n",
       "      <td>0.683175</td>\n",
       "      <td>0.778053</td>\n",
       "      <td>13</td>\n",
       "      <td>Baba Jik Rural District; West Azerbaijan Provi...</td>\n",
       "      <td>1</td>\n",
       "      <td>POPULATED PLACES IN CHALDORAN COUNTY</td>\n",
       "    </tr>\n",
       "    <tr>\n",
       "      <th>1</th>\n",
       "      <td>MOUNT FISKE GLACIER</td>\n",
       "      <td>0.648196</td>\n",
       "      <td>-2.071114</td>\n",
       "      <td>9</td>\n",
       "      <td>Mount Fiske; Mount Warlow Glacier; U.S. state;...</td>\n",
       "      <td>3</td>\n",
       "      <td>GLACIERS OF THE SIERRA NEVADA (U.S.); GLACIERS...</td>\n",
       "    </tr>\n",
       "    <tr>\n",
       "      <th>2</th>\n",
       "      <td>ALATONA</td>\n",
       "      <td>0.258356</td>\n",
       "      <td>-0.103606</td>\n",
       "      <td>10</td>\n",
       "      <td>Diabaly; Alatona Irrigation Project; Mali; Nio...</td>\n",
       "      <td>2</td>\n",
       "      <td>POPULATED PLACES IN SÉGOU REGION; IRRIGATION P...</td>\n",
       "    </tr>\n",
       "  </tbody>\n",
       "</table>\n",
       "</div>"
      ],
      "text/plain": [
       "                      name  latitude_radian  longitude_radian  num_links  \\\n",
       "0  YAYCHI, WEST AZERBAIJAN         0.683175          0.778053         13   \n",
       "1      MOUNT FISKE GLACIER         0.648196         -2.071114          9   \n",
       "2                  ALATONA         0.258356         -0.103606         10   \n",
       "\n",
       "                                               links  num_categories  \\\n",
       "0  Baba Jik Rural District; West Azerbaijan Provi...               1   \n",
       "1  Mount Fiske; Mount Warlow Glacier; U.S. state;...               3   \n",
       "2  Diabaly; Alatona Irrigation Project; Mali; Nio...               2   \n",
       "\n",
       "                                          categories  \n",
       "0               POPULATED PLACES IN CHALDORAN COUNTY  \n",
       "1  GLACIERS OF THE SIERRA NEVADA (U.S.); GLACIERS...  \n",
       "2  POPULATED PLACES IN SÉGOU REGION; IRRIGATION P...  "
      ]
     },
     "execution_count": 8,
     "metadata": {},
     "output_type": "execute_result"
    }
   ],
   "source": [
    "poi_df.head(3)"
   ]
  },
  {
   "cell_type": "code",
   "execution_count": 17,
   "metadata": {
    "ExecuteTime": {
     "end_time": "2019-04-02T19:47:53.902777Z",
     "start_time": "2019-04-02T19:47:53.897174Z"
    }
   },
   "outputs": [
    {
     "data": {
      "text/plain": [
       "0                 POPULATED PLACES IN CHALDORAN COUNTY\n",
       "1    GLACIERS OF THE SIERRA NEVADA (U.S.); GLACIERS...\n",
       "2    POPULATED PLACES IN SÉGOU REGION; IRRIGATION P...\n",
       "Name: categories, dtype: object"
      ]
     },
     "execution_count": 17,
     "metadata": {},
     "output_type": "execute_result"
    }
   ],
   "source": [
    "poi_df['categories'].head(3)"
   ]
  },
  {
   "cell_type": "markdown",
   "metadata": {},
   "source": [
    "**Convert radians to degrees and add two extra columns**"
   ]
  },
  {
   "cell_type": "code",
   "execution_count": 20,
   "metadata": {
    "ExecuteTime": {
     "end_time": "2019-04-02T19:52:22.835688Z",
     "start_time": "2019-04-02T19:52:22.673047Z"
    }
   },
   "outputs": [],
   "source": [
    "poi_df['latitude_degrees'] = poi_df['latitude_radian'].apply(math.degrees)\n",
    "poi_df['longitude_degrees'] = poi_df['longitude_radian'].apply(math.degrees)"
   ]
  },
  {
   "cell_type": "code",
   "execution_count": 21,
   "metadata": {
    "ExecuteTime": {
     "end_time": "2019-04-02T19:52:29.373997Z",
     "start_time": "2019-04-02T19:52:29.360924Z"
    }
   },
   "outputs": [
    {
     "data": {
      "text/html": [
       "<div>\n",
       "<style scoped>\n",
       "    .dataframe tbody tr th:only-of-type {\n",
       "        vertical-align: middle;\n",
       "    }\n",
       "\n",
       "    .dataframe tbody tr th {\n",
       "        vertical-align: top;\n",
       "    }\n",
       "\n",
       "    .dataframe thead th {\n",
       "        text-align: right;\n",
       "    }\n",
       "</style>\n",
       "<table border=\"1\" class=\"dataframe\">\n",
       "  <thead>\n",
       "    <tr style=\"text-align: right;\">\n",
       "      <th></th>\n",
       "      <th>name</th>\n",
       "      <th>latitude_radian</th>\n",
       "      <th>longitude_radian</th>\n",
       "      <th>num_links</th>\n",
       "      <th>links</th>\n",
       "      <th>num_categories</th>\n",
       "      <th>categories</th>\n",
       "      <th>latitude_degrees</th>\n",
       "      <th>longitude_degrees</th>\n",
       "    </tr>\n",
       "  </thead>\n",
       "  <tbody>\n",
       "    <tr>\n",
       "      <th>0</th>\n",
       "      <td>YAYCHI, WEST AZERBAIJAN</td>\n",
       "      <td>0.683175</td>\n",
       "      <td>0.778053</td>\n",
       "      <td>13</td>\n",
       "      <td>Baba Jik Rural District; West Azerbaijan Provi...</td>\n",
       "      <td>1</td>\n",
       "      <td>POPULATED PLACES IN CHALDORAN COUNTY</td>\n",
       "      <td>39.143056</td>\n",
       "      <td>44.579167</td>\n",
       "    </tr>\n",
       "    <tr>\n",
       "      <th>1</th>\n",
       "      <td>MOUNT FISKE GLACIER</td>\n",
       "      <td>0.648196</td>\n",
       "      <td>-2.071114</td>\n",
       "      <td>9</td>\n",
       "      <td>Mount Fiske; Mount Warlow Glacier; U.S. state;...</td>\n",
       "      <td>3</td>\n",
       "      <td>GLACIERS OF THE SIERRA NEVADA (U.S.); GLACIERS...</td>\n",
       "      <td>37.138889</td>\n",
       "      <td>-118.666111</td>\n",
       "    </tr>\n",
       "    <tr>\n",
       "      <th>2</th>\n",
       "      <td>ALATONA</td>\n",
       "      <td>0.258356</td>\n",
       "      <td>-0.103606</td>\n",
       "      <td>10</td>\n",
       "      <td>Diabaly; Alatona Irrigation Project; Mali; Nio...</td>\n",
       "      <td>2</td>\n",
       "      <td>POPULATED PLACES IN SÉGOU REGION; IRRIGATION P...</td>\n",
       "      <td>14.802700</td>\n",
       "      <td>-5.936200</td>\n",
       "    </tr>\n",
       "    <tr>\n",
       "      <th>3</th>\n",
       "      <td>PEMBA ISLAND</td>\n",
       "      <td>-0.090175</td>\n",
       "      <td>0.694350</td>\n",
       "      <td>43</td>\n",
       "      <td>Malaysia Airlines Flight 370; Arusha; Chake Ch...</td>\n",
       "      <td>5</td>\n",
       "      <td>PEMBA ISLAND; ISLANDS OF TANZANIA; ISLANDS OF ...</td>\n",
       "      <td>-5.166667</td>\n",
       "      <td>39.783333</td>\n",
       "    </tr>\n",
       "    <tr>\n",
       "      <th>4</th>\n",
       "      <td>MBOLO</td>\n",
       "      <td>0.149517</td>\n",
       "      <td>0.359829</td>\n",
       "      <td>6</td>\n",
       "      <td>UTC; Sub-prefectures of the Central African Re...</td>\n",
       "      <td>2</td>\n",
       "      <td>N'DÉLÉ; POPULATED PLACES IN BAMINGUI-BANGORAN</td>\n",
       "      <td>8.566667</td>\n",
       "      <td>20.616667</td>\n",
       "    </tr>\n",
       "  </tbody>\n",
       "</table>\n",
       "</div>"
      ],
      "text/plain": [
       "                      name  latitude_radian  longitude_radian  num_links  \\\n",
       "0  YAYCHI, WEST AZERBAIJAN         0.683175          0.778053         13   \n",
       "1      MOUNT FISKE GLACIER         0.648196         -2.071114          9   \n",
       "2                  ALATONA         0.258356         -0.103606         10   \n",
       "3             PEMBA ISLAND        -0.090175          0.694350         43   \n",
       "4                    MBOLO         0.149517          0.359829          6   \n",
       "\n",
       "                                               links  num_categories  \\\n",
       "0  Baba Jik Rural District; West Azerbaijan Provi...               1   \n",
       "1  Mount Fiske; Mount Warlow Glacier; U.S. state;...               3   \n",
       "2  Diabaly; Alatona Irrigation Project; Mali; Nio...               2   \n",
       "3  Malaysia Airlines Flight 370; Arusha; Chake Ch...               5   \n",
       "4  UTC; Sub-prefectures of the Central African Re...               2   \n",
       "\n",
       "                                          categories  latitude_degrees  \\\n",
       "0               POPULATED PLACES IN CHALDORAN COUNTY         39.143056   \n",
       "1  GLACIERS OF THE SIERRA NEVADA (U.S.); GLACIERS...         37.138889   \n",
       "2  POPULATED PLACES IN SÉGOU REGION; IRRIGATION P...         14.802700   \n",
       "3  PEMBA ISLAND; ISLANDS OF TANZANIA; ISLANDS OF ...         -5.166667   \n",
       "4      N'DÉLÉ; POPULATED PLACES IN BAMINGUI-BANGORAN          8.566667   \n",
       "\n",
       "   longitude_degrees  \n",
       "0          44.579167  \n",
       "1        -118.666111  \n",
       "2          -5.936200  \n",
       "3          39.783333  \n",
       "4          20.616667  "
      ]
     },
     "execution_count": 21,
     "metadata": {},
     "output_type": "execute_result"
    }
   ],
   "source": [
    "poi_df.head()"
   ]
  },
  {
   "cell_type": "code",
   "execution_count": 34,
   "metadata": {
    "ExecuteTime": {
     "end_time": "2019-04-02T20:01:50.481614Z",
     "start_time": "2019-04-02T20:01:50.468796Z"
    }
   },
   "outputs": [
    {
     "data": {
      "text/html": [
       "<div style=\"width:100%;\"><div style=\"position:relative;width:100%;height:0;padding-bottom:60%;\"><iframe src=\"data:text/html;charset=utf-8;base64,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\" style=\"position:absolute;width:100%;height:100%;left:0;top:0;border:none !important;\" allowfullscreen webkitallowfullscreen mozallowfullscreen></iframe></div></div>"
      ],
      "text/plain": [
       "<folium.folium.Map at 0x10c4ceb00>"
      ]
     },
     "execution_count": 34,
     "metadata": {},
     "output_type": "execute_result"
    }
   ],
   "source": [
    "poi_map = folium.Map(location=([37.138889, -118.666111]), tiles=\"OpenStreetMap\")\n",
    "\n",
    "tooltip = 'Click Me!'\n",
    "\n",
    "folium.Marker([37.138889, -118.666111], popup='<i>Mt. Fiske Glacier</i>', tooltip=tooltip).add_to(poi_map)\n",
    "\n",
    "poi_map"
   ]
  },
  {
   "cell_type": "code",
   "execution_count": null,
   "metadata": {},
   "outputs": [],
   "source": []
  }
 ],
 "metadata": {
  "kernelspec": {
   "display_name": "Python 3",
   "language": "python",
   "name": "python3"
  },
  "language_info": {
   "codemirror_mode": {
    "name": "ipython",
    "version": 3
   },
   "file_extension": ".py",
   "mimetype": "text/x-python",
   "name": "python",
   "nbconvert_exporter": "python",
   "pygments_lexer": "ipython3",
   "version": "3.6.5"
  },
  "varInspector": {
   "cols": {
    "lenName": 16,
    "lenType": 16,
    "lenVar": 40
   },
   "kernels_config": {
    "python": {
     "delete_cmd_postfix": "",
     "delete_cmd_prefix": "del ",
     "library": "var_list.py",
     "varRefreshCmd": "print(var_dic_list())"
    },
    "r": {
     "delete_cmd_postfix": ") ",
     "delete_cmd_prefix": "rm(",
     "library": "var_list.r",
     "varRefreshCmd": "cat(var_dic_list()) "
    }
   },
   "types_to_exclude": [
    "module",
    "function",
    "builtin_function_or_method",
    "instance",
    "_Feature"
   ],
   "window_display": false
  }
 },
 "nbformat": 4,
 "nbformat_minor": 2
}
