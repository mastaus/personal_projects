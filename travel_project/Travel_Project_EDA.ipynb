{
 "cells": [
  {
   "cell_type": "markdown",
   "metadata": {},
   "source": [
    "## Exploratory Data Analysis"
   ]
  },
  {
   "cell_type": "markdown",
   "metadata": {},
   "source": [
    "**Import essential packages**"
   ]
  },
  {
   "cell_type": "code",
   "execution_count": 1,
   "metadata": {
    "ExecuteTime": {
     "end_time": "2019-04-04T18:42:26.535217Z",
     "start_time": "2019-04-04T18:42:25.327940Z"
    }
   },
   "outputs": [],
   "source": [
    "import numpy as np\n",
    "import pandas as pd\n",
    "import geopandas as gpd\n",
    "import matplotlib as plt\n",
    "import math\n",
    "import folium\n",
    "\n",
    "# https://pypi.org/project/geopy/\n",
    "from geopy.geocoders import Nominatim\n",
    "# https://pypi.org/project/reverse_geocode/1.0/\n",
    "# https://github.com/thampiman/reverse-geocoder\n",
    "import reverse_geocode\n",
    "\n",
    "#Defining common variables\n",
    "random_state = 42"
   ]
  },
  {
   "cell_type": "markdown",
   "metadata": {},
   "source": [
    "**Import the main dataset**"
   ]
  },
  {
   "cell_type": "code",
   "execution_count": 2,
   "metadata": {
    "ExecuteTime": {
     "end_time": "2019-04-04T18:43:02.991706Z",
     "start_time": "2019-04-04T18:42:59.923332Z"
    }
   },
   "outputs": [],
   "source": [
    "#When working locally\n",
    "poi_df = pd.read_csv('./datasets/poi.csv')"
   ]
  },
  {
   "cell_type": "code",
   "execution_count": 4,
   "metadata": {
    "ExecuteTime": {
     "end_time": "2019-04-04T12:09:12.854867Z",
     "start_time": "2019-04-04T12:09:12.849882Z"
    }
   },
   "outputs": [],
   "source": [
    "# poi_df_sample_3000 = poi_df.sample(n=3000, random_state=random_state)\n",
    "# poi_df_sample_3000.to_csv('./datasets/poi_sample_3k.csv')"
   ]
  },
  {
   "cell_type": "code",
   "execution_count": 9,
   "metadata": {
    "ExecuteTime": {
     "end_time": "2019-04-04T13:30:17.175449Z",
     "start_time": "2019-04-04T13:30:17.006368Z"
    },
    "scrolled": false
   },
   "outputs": [],
   "source": [
    "#When working remotely\n",
    "# poi_df = pd.read_csv('./datasets/poi_sample_3k.csv')"
   ]
  },
  {
   "cell_type": "code",
   "execution_count": 3,
   "metadata": {
    "ExecuteTime": {
     "end_time": "2019-04-04T18:43:03.047824Z",
     "start_time": "2019-04-04T18:43:03.031052Z"
    }
   },
   "outputs": [
    {
     "data": {
      "text/html": [
       "<div>\n",
       "<style scoped>\n",
       "    .dataframe tbody tr th:only-of-type {\n",
       "        vertical-align: middle;\n",
       "    }\n",
       "\n",
       "    .dataframe tbody tr th {\n",
       "        vertical-align: top;\n",
       "    }\n",
       "\n",
       "    .dataframe thead th {\n",
       "        text-align: right;\n",
       "    }\n",
       "</style>\n",
       "<table border=\"1\" class=\"dataframe\">\n",
       "  <thead>\n",
       "    <tr style=\"text-align: right;\">\n",
       "      <th></th>\n",
       "      <th>name</th>\n",
       "      <th>latitude_radian</th>\n",
       "      <th>longitude_radian</th>\n",
       "      <th>num_links</th>\n",
       "      <th>links</th>\n",
       "      <th>num_categories</th>\n",
       "      <th>categories</th>\n",
       "    </tr>\n",
       "  </thead>\n",
       "  <tbody>\n",
       "    <tr>\n",
       "      <th>0</th>\n",
       "      <td>YAYCHI, WEST AZERBAIJAN</td>\n",
       "      <td>0.683175</td>\n",
       "      <td>0.778053</td>\n",
       "      <td>13</td>\n",
       "      <td>Baba Jik Rural District; West Azerbaijan Provi...</td>\n",
       "      <td>1</td>\n",
       "      <td>POPULATED PLACES IN CHALDORAN COUNTY</td>\n",
       "    </tr>\n",
       "    <tr>\n",
       "      <th>1</th>\n",
       "      <td>MOUNT FISKE GLACIER</td>\n",
       "      <td>0.648196</td>\n",
       "      <td>-2.071114</td>\n",
       "      <td>9</td>\n",
       "      <td>Mount Fiske; Mount Warlow Glacier; U.S. state;...</td>\n",
       "      <td>3</td>\n",
       "      <td>GLACIERS OF THE SIERRA NEVADA (U.S.); GLACIERS...</td>\n",
       "    </tr>\n",
       "    <tr>\n",
       "      <th>2</th>\n",
       "      <td>ALATONA</td>\n",
       "      <td>0.258356</td>\n",
       "      <td>-0.103606</td>\n",
       "      <td>10</td>\n",
       "      <td>Diabaly; Alatona Irrigation Project; Mali; Nio...</td>\n",
       "      <td>2</td>\n",
       "      <td>POPULATED PLACES IN SÉGOU REGION; IRRIGATION P...</td>\n",
       "    </tr>\n",
       "  </tbody>\n",
       "</table>\n",
       "</div>"
      ],
      "text/plain": [
       "                      name  latitude_radian  longitude_radian  num_links  \\\n",
       "0  YAYCHI, WEST AZERBAIJAN         0.683175          0.778053         13   \n",
       "1      MOUNT FISKE GLACIER         0.648196         -2.071114          9   \n",
       "2                  ALATONA         0.258356         -0.103606         10   \n",
       "\n",
       "                                               links  num_categories  \\\n",
       "0  Baba Jik Rural District; West Azerbaijan Provi...               1   \n",
       "1  Mount Fiske; Mount Warlow Glacier; U.S. state;...               3   \n",
       "2  Diabaly; Alatona Irrigation Project; Mali; Nio...               2   \n",
       "\n",
       "                                          categories  \n",
       "0               POPULATED PLACES IN CHALDORAN COUNTY  \n",
       "1  GLACIERS OF THE SIERRA NEVADA (U.S.); GLACIERS...  \n",
       "2  POPULATED PLACES IN SÉGOU REGION; IRRIGATION P...  "
      ]
     },
     "execution_count": 3,
     "metadata": {},
     "output_type": "execute_result"
    }
   ],
   "source": [
    "poi_df.head(3)"
   ]
  },
  {
   "cell_type": "code",
   "execution_count": 4,
   "metadata": {
    "ExecuteTime": {
     "end_time": "2019-04-04T18:43:03.088736Z",
     "start_time": "2019-04-04T18:43:03.084605Z"
    }
   },
   "outputs": [
    {
     "data": {
      "text/plain": [
       "0                 POPULATED PLACES IN CHALDORAN COUNTY\n",
       "1    GLACIERS OF THE SIERRA NEVADA (U.S.); GLACIERS...\n",
       "2    POPULATED PLACES IN SÉGOU REGION; IRRIGATION P...\n",
       "Name: categories, dtype: object"
      ]
     },
     "execution_count": 4,
     "metadata": {},
     "output_type": "execute_result"
    }
   ],
   "source": [
    "poi_df['categories'].head(3)"
   ]
  },
  {
   "cell_type": "markdown",
   "metadata": {},
   "source": [
    "**Convert radians to degrees and add two extra columns**"
   ]
  },
  {
   "cell_type": "code",
   "execution_count": 5,
   "metadata": {
    "ExecuteTime": {
     "end_time": "2019-04-04T18:43:05.388621Z",
     "start_time": "2019-04-04T18:43:05.226055Z"
    }
   },
   "outputs": [],
   "source": [
    "poi_df['latitude_degrees'] = poi_df['latitude_radian'].apply(math.degrees)\n",
    "poi_df['longitude_degrees'] = poi_df['longitude_radian'].apply(math.degrees)"
   ]
  },
  {
   "cell_type": "code",
   "execution_count": 6,
   "metadata": {
    "ExecuteTime": {
     "end_time": "2019-04-04T18:43:05.574686Z",
     "start_time": "2019-04-04T18:43:05.562892Z"
    }
   },
   "outputs": [
    {
     "data": {
      "text/html": [
       "<div>\n",
       "<style scoped>\n",
       "    .dataframe tbody tr th:only-of-type {\n",
       "        vertical-align: middle;\n",
       "    }\n",
       "\n",
       "    .dataframe tbody tr th {\n",
       "        vertical-align: top;\n",
       "    }\n",
       "\n",
       "    .dataframe thead th {\n",
       "        text-align: right;\n",
       "    }\n",
       "</style>\n",
       "<table border=\"1\" class=\"dataframe\">\n",
       "  <thead>\n",
       "    <tr style=\"text-align: right;\">\n",
       "      <th></th>\n",
       "      <th>name</th>\n",
       "      <th>latitude_radian</th>\n",
       "      <th>longitude_radian</th>\n",
       "      <th>num_links</th>\n",
       "      <th>links</th>\n",
       "      <th>num_categories</th>\n",
       "      <th>categories</th>\n",
       "      <th>latitude_degrees</th>\n",
       "      <th>longitude_degrees</th>\n",
       "    </tr>\n",
       "  </thead>\n",
       "  <tbody>\n",
       "    <tr>\n",
       "      <th>0</th>\n",
       "      <td>YAYCHI, WEST AZERBAIJAN</td>\n",
       "      <td>0.683175</td>\n",
       "      <td>0.778053</td>\n",
       "      <td>13</td>\n",
       "      <td>Baba Jik Rural District; West Azerbaijan Provi...</td>\n",
       "      <td>1</td>\n",
       "      <td>POPULATED PLACES IN CHALDORAN COUNTY</td>\n",
       "      <td>39.143056</td>\n",
       "      <td>44.579167</td>\n",
       "    </tr>\n",
       "  </tbody>\n",
       "</table>\n",
       "</div>"
      ],
      "text/plain": [
       "                      name  latitude_radian  longitude_radian  num_links  \\\n",
       "0  YAYCHI, WEST AZERBAIJAN         0.683175          0.778053         13   \n",
       "\n",
       "                                               links  num_categories  \\\n",
       "0  Baba Jik Rural District; West Azerbaijan Provi...               1   \n",
       "\n",
       "                             categories  latitude_degrees  longitude_degrees  \n",
       "0  POPULATED PLACES IN CHALDORAN COUNTY         39.143056          44.579167  "
      ]
     },
     "execution_count": 6,
     "metadata": {},
     "output_type": "execute_result"
    }
   ],
   "source": [
    "poi_df.head(1)"
   ]
  },
  {
   "cell_type": "markdown",
   "metadata": {},
   "source": [
    "**Add a column with comma separated lat/longs**"
   ]
  },
  {
   "cell_type": "code",
   "execution_count": 7,
   "metadata": {
    "ExecuteTime": {
     "end_time": "2019-04-04T18:43:08.173983Z",
     "start_time": "2019-04-04T18:43:08.017645Z"
    }
   },
   "outputs": [],
   "source": [
    "poi_df['latlong'] = list(zip(poi_df['latitude_degrees'], poi_df['longitude_degrees']))"
   ]
  },
  {
   "cell_type": "code",
   "execution_count": 8,
   "metadata": {
    "ExecuteTime": {
     "end_time": "2019-04-04T18:43:09.791024Z",
     "start_time": "2019-04-04T18:43:09.778236Z"
    }
   },
   "outputs": [
    {
     "data": {
      "text/html": [
       "<div>\n",
       "<style scoped>\n",
       "    .dataframe tbody tr th:only-of-type {\n",
       "        vertical-align: middle;\n",
       "    }\n",
       "\n",
       "    .dataframe tbody tr th {\n",
       "        vertical-align: top;\n",
       "    }\n",
       "\n",
       "    .dataframe thead th {\n",
       "        text-align: right;\n",
       "    }\n",
       "</style>\n",
       "<table border=\"1\" class=\"dataframe\">\n",
       "  <thead>\n",
       "    <tr style=\"text-align: right;\">\n",
       "      <th></th>\n",
       "      <th>name</th>\n",
       "      <th>latitude_radian</th>\n",
       "      <th>longitude_radian</th>\n",
       "      <th>num_links</th>\n",
       "      <th>links</th>\n",
       "      <th>num_categories</th>\n",
       "      <th>categories</th>\n",
       "      <th>latitude_degrees</th>\n",
       "      <th>longitude_degrees</th>\n",
       "      <th>latlong</th>\n",
       "    </tr>\n",
       "  </thead>\n",
       "  <tbody>\n",
       "    <tr>\n",
       "      <th>0</th>\n",
       "      <td>YAYCHI, WEST AZERBAIJAN</td>\n",
       "      <td>0.683175</td>\n",
       "      <td>0.778053</td>\n",
       "      <td>13</td>\n",
       "      <td>Baba Jik Rural District; West Azerbaijan Provi...</td>\n",
       "      <td>1</td>\n",
       "      <td>POPULATED PLACES IN CHALDORAN COUNTY</td>\n",
       "      <td>39.143056</td>\n",
       "      <td>44.579167</td>\n",
       "      <td>(39.143055555555556, 44.57916666666667)</td>\n",
       "    </tr>\n",
       "  </tbody>\n",
       "</table>\n",
       "</div>"
      ],
      "text/plain": [
       "                      name  latitude_radian  longitude_radian  num_links  \\\n",
       "0  YAYCHI, WEST AZERBAIJAN         0.683175          0.778053         13   \n",
       "\n",
       "                                               links  num_categories  \\\n",
       "0  Baba Jik Rural District; West Azerbaijan Provi...               1   \n",
       "\n",
       "                             categories  latitude_degrees  longitude_degrees  \\\n",
       "0  POPULATED PLACES IN CHALDORAN COUNTY         39.143056          44.579167   \n",
       "\n",
       "                                   latlong  \n",
       "0  (39.143055555555556, 44.57916666666667)  "
      ]
     },
     "execution_count": 8,
     "metadata": {},
     "output_type": "execute_result"
    }
   ],
   "source": [
    "poi_df.head(1)"
   ]
  },
  {
   "cell_type": "markdown",
   "metadata": {},
   "source": [
    "**Reverse geocoding**"
   ]
  },
  {
   "cell_type": "code",
   "execution_count": 10,
   "metadata": {
    "ExecuteTime": {
     "end_time": "2019-04-04T18:43:33.131052Z",
     "start_time": "2019-04-04T18:43:33.121138Z"
    }
   },
   "outputs": [],
   "source": [
    "geolocator = Nominatim(user_agent='world_travel')"
   ]
  },
  {
   "cell_type": "code",
   "execution_count": 11,
   "metadata": {
    "ExecuteTime": {
     "end_time": "2019-04-04T18:43:33.729471Z",
     "start_time": "2019-04-04T18:43:33.657059Z"
    }
   },
   "outputs": [
    {
     "name": "stdout",
     "output_type": "stream",
     "text": [
      "Mount Fiske Glacier, John Muir Trail, Fresno County, California, USA\n"
     ]
    }
   ],
   "source": [
    "location = geolocator.reverse(\"37.138889, -118.666111\")\n",
    "print(location.address)"
   ]
  },
  {
   "cell_type": "code",
   "execution_count": 15,
   "metadata": {
    "ExecuteTime": {
     "end_time": "2019-04-04T18:44:01.225560Z",
     "start_time": "2019-04-04T18:44:01.162838Z"
    }
   },
   "outputs": [],
   "source": [
    "location = geolocator.reverse(poi_df['latlong'][3])"
   ]
  },
  {
   "cell_type": "code",
   "execution_count": 16,
   "metadata": {
    "ExecuteTime": {
     "end_time": "2019-04-04T18:44:01.434830Z",
     "start_time": "2019-04-04T18:44:01.431537Z"
    }
   },
   "outputs": [
    {
     "name": "stdout",
     "output_type": "stream",
     "text": [
      "Ziwani, Wete District, Kaskazini Pemba, Zanzibar, Tanzania\n"
     ]
    }
   ],
   "source": [
    "print(location.address)"
   ]
  },
  {
   "cell_type": "markdown",
   "metadata": {},
   "source": [
    "**Plotting points of interest on the map**"
   ]
  },
  {
   "cell_type": "code",
   "execution_count": 18,
   "metadata": {
    "ExecuteTime": {
     "end_time": "2019-04-04T18:44:30.385498Z",
     "start_time": "2019-04-04T18:44:30.377730Z"
    }
   },
   "outputs": [
    {
     "data": {
      "text/plain": [
       "<folium.map.Marker at 0x11e4e38d0>"
      ]
     },
     "execution_count": 18,
     "metadata": {},
     "output_type": "execute_result"
    }
   ],
   "source": [
    "poi_map = folium.Map(location=([37.138889, -118.666111]), tiles=\"OpenStreetMap\")\n",
    "\n",
    "tooltip = 'Click Me!'\n",
    "\n",
    "folium.Marker([37.138889, -118.666111], popup='<i>Mt. Fiske Glacier</i>', tooltip=tooltip).add_to(poi_map)\n",
    "\n",
    "# poi_map"
   ]
  },
  {
   "cell_type": "code",
   "execution_count": null,
   "metadata": {},
   "outputs": [],
   "source": []
  }
 ],
 "metadata": {
  "kernelspec": {
   "display_name": "Python 3",
   "language": "python",
   "name": "python3"
  },
  "language_info": {
   "codemirror_mode": {
    "name": "ipython",
    "version": 3
   },
   "file_extension": ".py",
   "mimetype": "text/x-python",
   "name": "python",
   "nbconvert_exporter": "python",
   "pygments_lexer": "ipython3",
   "version": "3.6.5"
  },
  "varInspector": {
   "cols": {
    "lenName": 16,
    "lenType": 16,
    "lenVar": 40
   },
   "kernels_config": {
    "python": {
     "delete_cmd_postfix": "",
     "delete_cmd_prefix": "del ",
     "library": "var_list.py",
     "varRefreshCmd": "print(var_dic_list())"
    },
    "r": {
     "delete_cmd_postfix": ") ",
     "delete_cmd_prefix": "rm(",
     "library": "var_list.r",
     "varRefreshCmd": "cat(var_dic_list()) "
    }
   },
   "types_to_exclude": [
    "module",
    "function",
    "builtin_function_or_method",
    "instance",
    "_Feature"
   ],
   "window_display": false
  }
 },
 "nbformat": 4,
 "nbformat_minor": 2
}
