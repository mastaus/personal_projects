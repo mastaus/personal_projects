{
 "cells": [
  {
   "cell_type": "markdown",
   "metadata": {},
   "source": [
    "## Exploratory Data Analysis"
   ]
  },
  {
   "cell_type": "markdown",
   "metadata": {},
   "source": [
    "**Import essential packages**"
   ]
  },
  {
   "cell_type": "code",
   "execution_count": 31,
   "metadata": {
    "ExecuteTime": {
     "end_time": "2019-04-04T15:00:57.890450Z",
     "start_time": "2019-04-04T15:00:57.843605Z"
    }
   },
   "outputs": [
    {
     "ename": "ModuleNotFoundError",
     "evalue": "No module named 'reverse_geocode'",
     "output_type": "error",
     "traceback": [
      "\u001b[1;31m---------------------------------------------------------------------------\u001b[0m",
      "\u001b[1;31mModuleNotFoundError\u001b[0m                       Traceback (most recent call last)",
      "\u001b[1;32m<ipython-input-31-009bb16c01c4>\u001b[0m in \u001b[0;36m<module>\u001b[1;34m()\u001b[0m\n\u001b[0;32m      6\u001b[0m \u001b[1;32mimport\u001b[0m \u001b[0mfolium\u001b[0m\u001b[1;33m\u001b[0m\u001b[0m\n\u001b[0;32m      7\u001b[0m \u001b[1;32mfrom\u001b[0m \u001b[0mgeopy\u001b[0m\u001b[1;33m.\u001b[0m\u001b[0mgeocoders\u001b[0m \u001b[1;32mimport\u001b[0m \u001b[0mNominatim\u001b[0m\u001b[1;33m\u001b[0m\u001b[0m\n\u001b[1;32m----> 8\u001b[1;33m \u001b[1;32mimport\u001b[0m \u001b[0mreverse_geocode\u001b[0m\u001b[1;33m\u001b[0m\u001b[0m\n\u001b[0m\u001b[0;32m      9\u001b[0m \u001b[1;33m\u001b[0m\u001b[0m\n\u001b[0;32m     10\u001b[0m \u001b[1;31m#Defining common variables\u001b[0m\u001b[1;33m\u001b[0m\u001b[1;33m\u001b[0m\u001b[0m\n",
      "\u001b[1;31mModuleNotFoundError\u001b[0m: No module named 'reverse_geocode'"
     ]
    }
   ],
   "source": [
    "import numpy as np\n",
    "import pandas as pd\n",
    "import geopandas as gpd\n",
    "import matplotlib as plt\n",
    "import math\n",
    "import folium\n",
    "#https://python-visualization.github.io/folium/quickstart.html#Getting-Started\n",
    "\n",
    "# https://pypi.org/project/geopy/\n",
    "from geopy.geocoders import Nominatim\n",
    "# pip install reverse_geocode==1.0\n",
    "# https://pypi.org/project/reverse_geocode/1.0/\n",
    "# https://github.com/thampiman/reverse-geocoder\n",
    "# import reverse_geocode\n",
    "\n",
    "#Defining common variables\n",
    "random_state = 42"
   ]
  },
  {
   "cell_type": "markdown",
   "metadata": {},
   "source": [
    "**Import the main dataset**"
   ]
  },
  {
   "cell_type": "markdown",
   "metadata": {},
   "source": [
    "Source of the data: https://www.kaggle.com/ehallmar/points-of-interest-poi-database"
   ]
  },
  {
   "cell_type": "code",
<<<<<<< HEAD
   "execution_count": 40,
   "metadata": {
    "ExecuteTime": {
     "end_time": "2019-04-03T18:40:22.414261Z",
     "start_time": "2019-04-03T18:40:19.319050Z"
=======
   "execution_count": 9,
   "metadata": {
    "ExecuteTime": {
     "end_time": "2019-04-04T13:30:17.175449Z",
     "start_time": "2019-04-04T13:30:17.006368Z"
>>>>>>> 6ed1345f3fcb24573406a79e55b4fdef2b0ca4d6
    },
    "scrolled": false
   },
   "outputs": [],
<<<<<<< HEAD
=======
   "source": [
    "poi_df = pd.read_csv('./datasets/poi_sample_3k.csv')"
   ]
  },
  {
   "cell_type": "code",
   "execution_count": 10,
   "metadata": {
    "ExecuteTime": {
     "end_time": "2019-04-04T13:30:19.309708Z",
     "start_time": "2019-04-04T13:30:19.252863Z"
    }
   },
   "outputs": [
    {
     "data": {
      "text/html": [
       "<div>\n",
       "<style scoped>\n",
       "    .dataframe tbody tr th:only-of-type {\n",
       "        vertical-align: middle;\n",
       "    }\n",
       "\n",
       "    .dataframe tbody tr th {\n",
       "        vertical-align: top;\n",
       "    }\n",
       "\n",
       "    .dataframe thead th {\n",
       "        text-align: right;\n",
       "    }\n",
       "</style>\n",
       "<table border=\"1\" class=\"dataframe\">\n",
       "  <thead>\n",
       "    <tr style=\"text-align: right;\">\n",
       "      <th></th>\n",
       "      <th>Unnamed: 0</th>\n",
       "      <th>name</th>\n",
       "      <th>latitude_radian</th>\n",
       "      <th>longitude_radian</th>\n",
       "      <th>num_links</th>\n",
       "      <th>links</th>\n",
       "      <th>num_categories</th>\n",
       "      <th>categories</th>\n",
       "      <th>latitude_degrees</th>\n",
       "      <th>longitude_degrees</th>\n",
       "    </tr>\n",
       "  </thead>\n",
       "  <tbody>\n",
       "    <tr>\n",
       "      <th>0</th>\n",
       "      <td>223685</td>\n",
       "      <td>GRUMENTO NOVA</td>\n",
       "      <td>0.703077</td>\n",
       "      <td>0.277216</td>\n",
       "      <td>6</td>\n",
       "      <td>Province of Potenza; National Institute of Sta...</td>\n",
       "      <td>1</td>\n",
       "      <td>CITIES AND TOWNS IN BASILICATA</td>\n",
       "      <td>40.283333</td>\n",
       "      <td>15.883333</td>\n",
       "    </tr>\n",
       "    <tr>\n",
       "      <th>1</th>\n",
       "      <td>141065</td>\n",
       "      <td>CENTRAL RESERVE</td>\n",
       "      <td>-0.661340</td>\n",
       "      <td>2.533557</td>\n",
       "      <td>35</td>\n",
       "      <td>Victorian Amateur Football Association; Waverl...</td>\n",
       "      <td>3</td>\n",
       "      <td>SPORTS VENUES IN MELBOURNE; AUSTRALIAN RULES F...</td>\n",
       "      <td>-37.891967</td>\n",
       "      <td>145.162139</td>\n",
       "    </tr>\n",
       "    <tr>\n",
       "      <th>2</th>\n",
       "      <td>217720</td>\n",
       "      <td>ANGUILLARA SABAZIA</td>\n",
       "      <td>0.734493</td>\n",
       "      <td>0.214094</td>\n",
       "      <td>13</td>\n",
       "      <td>Rome-Capranica-Viterbo; central Italy; Roma Os...</td>\n",
       "      <td>1</td>\n",
       "      <td>CITIES AND TOWNS IN LAZIO</td>\n",
       "      <td>42.083333</td>\n",
       "      <td>12.266667</td>\n",
       "    </tr>\n",
       "  </tbody>\n",
       "</table>\n",
       "</div>"
      ],
      "text/plain": [
       "   Unnamed: 0                name  latitude_radian  longitude_radian  \\\n",
       "0      223685       GRUMENTO NOVA         0.703077          0.277216   \n",
       "1      141065     CENTRAL RESERVE        -0.661340          2.533557   \n",
       "2      217720  ANGUILLARA SABAZIA         0.734493          0.214094   \n",
       "\n",
       "   num_links                                              links  \\\n",
       "0          6  Province of Potenza; National Institute of Sta...   \n",
       "1         35  Victorian Amateur Football Association; Waverl...   \n",
       "2         13  Rome-Capranica-Viterbo; central Italy; Roma Os...   \n",
       "\n",
       "   num_categories                                         categories  \\\n",
       "0               1                     CITIES AND TOWNS IN BASILICATA   \n",
       "1               3  SPORTS VENUES IN MELBOURNE; AUSTRALIAN RULES F...   \n",
       "2               1                          CITIES AND TOWNS IN LAZIO   \n",
       "\n",
       "   latitude_degrees  longitude_degrees  \n",
       "0         40.283333          15.883333  \n",
       "1        -37.891967         145.162139  \n",
       "2         42.083333          12.266667  "
      ]
     },
     "execution_count": 10,
     "metadata": {},
     "output_type": "execute_result"
    }
   ],
   "source": [
    "poi_df.head(3)"
   ]
  },
  {
   "cell_type": "code",
   "execution_count": 11,
   "metadata": {
    "ExecuteTime": {
     "end_time": "2019-04-04T13:30:32.030946Z",
     "start_time": "2019-04-04T13:30:32.020975Z"
    }
   },
   "outputs": [
    {
     "data": {
      "text/plain": [
       "0                       CITIES AND TOWNS IN BASILICATA\n",
       "1    SPORTS VENUES IN MELBOURNE; AUSTRALIAN RULES F...\n",
       "2                            CITIES AND TOWNS IN LAZIO\n",
       "Name: categories, dtype: object"
      ]
     },
     "execution_count": 11,
     "metadata": {},
     "output_type": "execute_result"
    }
   ],
>>>>>>> 6ed1345f3fcb24573406a79e55b4fdef2b0ca4d6
   "source": [
    "poi_df['categories'].head(3)"
   ]
  },
  {
   "cell_type": "markdown",
   "metadata": {},
   "source": [
    "**Convert radians to degrees and add two extra columns**"
   ]
  },
  {
   "cell_type": "code",
<<<<<<< HEAD
   "execution_count": 41,
   "metadata": {
    "ExecuteTime": {
     "end_time": "2019-04-03T18:40:22.488123Z",
     "start_time": "2019-04-03T18:40:22.478510Z"
=======
   "execution_count": 12,
   "metadata": {
    "ExecuteTime": {
     "end_time": "2019-04-04T13:30:37.966881Z",
     "start_time": "2019-04-04T13:30:37.956873Z"
    }
   },
   "outputs": [],
   "source": [
    "poi_df['latitude_degrees'] = poi_df['latitude_radian'].apply(math.degrees)\n",
    "poi_df['longitude_degrees'] = poi_df['longitude_radian'].apply(math.degrees)"
   ]
  },
  {
   "cell_type": "code",
   "execution_count": 13,
   "metadata": {
    "ExecuteTime": {
     "end_time": "2019-04-04T13:30:38.354993Z",
     "start_time": "2019-04-04T13:30:38.336073Z"
>>>>>>> 6ed1345f3fcb24573406a79e55b4fdef2b0ca4d6
    }
   },
   "outputs": [
    {
     "data": {
      "text/html": [
       "<div>\n",
       "<style scoped>\n",
       "    .dataframe tbody tr th:only-of-type {\n",
       "        vertical-align: middle;\n",
       "    }\n",
       "\n",
       "    .dataframe tbody tr th {\n",
       "        vertical-align: top;\n",
       "    }\n",
       "\n",
       "    .dataframe thead th {\n",
       "        text-align: right;\n",
       "    }\n",
       "</style>\n",
       "<table border=\"1\" class=\"dataframe\">\n",
       "  <thead>\n",
       "    <tr style=\"text-align: right;\">\n",
       "      <th></th>\n",
       "      <th>Unnamed: 0</th>\n",
       "      <th>name</th>\n",
       "      <th>latitude_radian</th>\n",
       "      <th>longitude_radian</th>\n",
       "      <th>num_links</th>\n",
       "      <th>links</th>\n",
       "      <th>num_categories</th>\n",
       "      <th>categories</th>\n",
       "      <th>latitude_degrees</th>\n",
       "      <th>longitude_degrees</th>\n",
       "    </tr>\n",
       "  </thead>\n",
       "  <tbody>\n",
       "    <tr>\n",
       "      <th>0</th>\n",
       "      <td>223685</td>\n",
       "      <td>GRUMENTO NOVA</td>\n",
       "      <td>0.703077</td>\n",
       "      <td>0.277216</td>\n",
       "      <td>6</td>\n",
       "      <td>Province of Potenza; National Institute of Sta...</td>\n",
       "      <td>1</td>\n",
       "      <td>CITIES AND TOWNS IN BASILICATA</td>\n",
       "      <td>40.283333</td>\n",
       "      <td>15.883333</td>\n",
       "    </tr>\n",
       "  </tbody>\n",
       "</table>\n",
       "</div>"
      ],
      "text/plain": [
       "   Unnamed: 0           name  latitude_radian  longitude_radian  num_links  \\\n",
       "0      223685  GRUMENTO NOVA         0.703077          0.277216          6   \n",
       "\n",
       "                                               links  num_categories  \\\n",
       "0  Province of Potenza; National Institute of Sta...               1   \n",
       "\n",
       "                       categories  latitude_degrees  longitude_degrees  \n",
       "0  CITIES AND TOWNS IN BASILICATA         40.283333          15.883333  "
      ]
     },
<<<<<<< HEAD
     "execution_count": 41,
=======
     "execution_count": 13,
>>>>>>> 6ed1345f3fcb24573406a79e55b4fdef2b0ca4d6
     "metadata": {},
     "output_type": "execute_result"
    }
   ],
   "source": [
<<<<<<< HEAD
    "poi_df.head(3)"
   ]
  },
  {
   "cell_type": "code",
   "execution_count": 45,
   "metadata": {
    "ExecuteTime": {
     "end_time": "2019-04-03T18:41:10.197441Z",
     "start_time": "2019-04-03T18:41:10.192288Z"
    }
   },
   "outputs": [
    {
     "data": {
      "text/plain": [
       "424202    CENSUS-DESIGNATED PLACES IN FAIRFAX COUNTY, VI...\n",
       "424203    HISTORIC DISTRICTS ON THE NATIONAL REGISTER OF...\n",
       "424204               PROVINCES OF CAMBODIA; PURSAT PROVINCE\n",
       "Name: categories, dtype: object"
      ]
     },
     "execution_count": 45,
     "metadata": {},
     "output_type": "execute_result"
    }
   ],
   "source": [
    "poi_df['categories'].tail(3)"
   ]
  },
  {
   "cell_type": "code",
   "execution_count": 54,
   "metadata": {
    "ExecuteTime": {
     "end_time": "2019-04-03T18:57:41.758066Z",
     "start_time": "2019-04-03T18:57:41.749697Z"
    }
   },
   "outputs": [
    {
     "data": {
      "text/plain": [
       "424205"
      ]
     },
     "execution_count": 54,
     "metadata": {},
     "output_type": "execute_result"
    }
   ],
   "source": [
    "poi_df['latitude_radian'].isnull().count()"
=======
    "poi_df.head(1)"
>>>>>>> 6ed1345f3fcb24573406a79e55b4fdef2b0ca4d6
   ]
  },
  {
   "cell_type": "markdown",
   "metadata": {},
   "source": [
    "**Add a column with comma separated lat/longs**"
   ]
  },
  {
   "cell_type": "code",
   "execution_count": 25,
   "metadata": {
    "ExecuteTime": {
     "end_time": "2019-04-04T14:58:12.267676Z",
     "start_time": "2019-04-04T14:58:12.253704Z"
    }
   },
   "outputs": [],
   "source": [
    "poi_df['latlong'] = list(zip(poi_df['latitude_degrees'], poi_df['longitude_degrees']))"
   ]
  },
  {
   "cell_type": "code",
   "execution_count": 26,
   "metadata": {
    "ExecuteTime": {
     "end_time": "2019-04-04T14:58:18.617940Z",
     "start_time": "2019-04-04T14:58:18.588021Z"
    }
   },
   "outputs": [
    {
     "data": {
      "text/html": [
       "<div>\n",
       "<style scoped>\n",
       "    .dataframe tbody tr th:only-of-type {\n",
       "        vertical-align: middle;\n",
       "    }\n",
       "\n",
       "    .dataframe tbody tr th {\n",
       "        vertical-align: top;\n",
       "    }\n",
       "\n",
       "    .dataframe thead th {\n",
       "        text-align: right;\n",
       "    }\n",
       "</style>\n",
       "<table border=\"1\" class=\"dataframe\">\n",
       "  <thead>\n",
       "    <tr style=\"text-align: right;\">\n",
       "      <th></th>\n",
       "      <th>Unnamed: 0</th>\n",
       "      <th>name</th>\n",
       "      <th>latitude_radian</th>\n",
       "      <th>longitude_radian</th>\n",
       "      <th>num_links</th>\n",
       "      <th>links</th>\n",
       "      <th>num_categories</th>\n",
       "      <th>categories</th>\n",
       "      <th>latitude_degrees</th>\n",
       "      <th>longitude_degrees</th>\n",
       "      <th>latlong</th>\n",
       "    </tr>\n",
       "  </thead>\n",
       "  <tbody>\n",
       "    <tr>\n",
       "      <th>0</th>\n",
       "      <td>223685</td>\n",
       "      <td>GRUMENTO NOVA</td>\n",
       "      <td>0.703077</td>\n",
       "      <td>0.277216</td>\n",
       "      <td>6</td>\n",
       "      <td>Province of Potenza; National Institute of Sta...</td>\n",
       "      <td>1</td>\n",
       "      <td>CITIES AND TOWNS IN BASILICATA</td>\n",
       "      <td>40.283333</td>\n",
       "      <td>15.883333</td>\n",
       "      <td>(40.283333333333324, 15.883333333333333)</td>\n",
       "    </tr>\n",
       "  </tbody>\n",
       "</table>\n",
       "</div>"
      ],
      "text/plain": [
       "   Unnamed: 0           name  latitude_radian  longitude_radian  num_links  \\\n",
       "0      223685  GRUMENTO NOVA         0.703077          0.277216          6   \n",
       "\n",
       "                                               links  num_categories  \\\n",
       "0  Province of Potenza; National Institute of Sta...               1   \n",
       "\n",
       "                       categories  latitude_degrees  longitude_degrees  \\\n",
       "0  CITIES AND TOWNS IN BASILICATA         40.283333          15.883333   \n",
       "\n",
       "                                    latlong  \n",
       "0  (40.283333333333324, 15.883333333333333)  "
      ]
     },
     "execution_count": 26,
     "metadata": {},
     "output_type": "execute_result"
    }
   ],
   "source": [
    "poi_df.head(1)"
   ]
  },
  {
   "cell_type": "code",
   "execution_count": 28,
   "metadata": {
    "ExecuteTime": {
     "end_time": "2019-04-04T14:59:18.713274Z",
     "start_time": "2019-04-04T14:59:18.508249Z"
    }
   },
   "outputs": [],
   "source": [
    "location = geolocator.reverse(poi_df['latlong'][0])"
   ]
  },
  {
   "cell_type": "markdown",
   "metadata": {},
   "source": [
    "**Displaying points of interest on the map**"
   ]
  },
  {
   "cell_type": "code",
   "execution_count": 30,
   "metadata": {
    "ExecuteTime": {
     "end_time": "2019-04-04T14:59:49.571569Z",
     "start_time": "2019-04-04T14:59:49.554616Z"
    }
   },
   "outputs": [
    {
     "ename": "AttributeError",
     "evalue": "'Location' object has no attribute 'country'",
     "output_type": "error",
     "traceback": [
      "\u001b[1;31m---------------------------------------------------------------------------\u001b[0m",
      "\u001b[1;31mAttributeError\u001b[0m                            Traceback (most recent call last)",
      "\u001b[1;32m<ipython-input-30-736aa5aa2c9d>\u001b[0m in \u001b[0;36m<module>\u001b[1;34m()\u001b[0m\n\u001b[1;32m----> 1\u001b[1;33m \u001b[0mprint\u001b[0m\u001b[1;33m(\u001b[0m\u001b[0mlocation\u001b[0m\u001b[1;33m.\u001b[0m\u001b[0mcountry\u001b[0m\u001b[1;33m)\u001b[0m\u001b[1;33m\u001b[0m\u001b[0m\n\u001b[0m",
      "\u001b[1;31mAttributeError\u001b[0m: 'Location' object has no attribute 'country'"
     ]
    }
   ],
   "source": [
    "location."
   ]
  },
  {
   "cell_type": "code",
   "execution_count": 3,
   "metadata": {
    "ExecuteTime": {
     "end_time": "2019-04-04T12:09:03.445400Z",
     "start_time": "2019-04-04T12:09:03.379596Z"
    }
   },
   "outputs": [
    {
     "data": {
      "text/html": [
       "<div style=\"width:100%;\"><div style=\"position:relative;width:100%;height:0;padding-bottom:60%;\"><iframe src=\"data:text/html;charset=utf-8;base64,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\" style=\"position:absolute;width:100%;height:100%;left:0;top:0;border:none !important;\" allowfullscreen webkitallowfullscreen mozallowfullscreen></iframe></div></div>"
      ],
      "text/plain": [
       "<folium.folium.Map at 0x143808056d8>"
      ]
     },
     "execution_count": 3,
     "metadata": {},
     "output_type": "execute_result"
    }
   ],
   "source": [
    "poi_map = folium.Map(location=([37.138889, -118.666111]), tiles=\"OpenStreetMap\")\n",
    "\n",
    "tooltip = 'Click Me!'\n",
    "\n",
    "folium.Marker([37.138889, -118.666111], popup='<i>Mt. Fiske Glacier</i>', tooltip=tooltip).add_to(poi_map)\n",
    "\n",
    "poi_map"
   ]
  },
  {
   "cell_type": "markdown",
   "metadata": {},
   "source": [
    "**Taking a sample of the data to put on GitHub**"
   ]
  },
  {
   "cell_type": "code",
   "execution_count": 4,
   "metadata": {
    "ExecuteTime": {
     "end_time": "2019-04-04T12:09:12.854867Z",
     "start_time": "2019-04-04T12:09:12.849882Z"
    }
   },
   "outputs": [],
   "source": [
    "# poi_df_sample_3000 = poi_df.sample(n=3000, random_state=random_state)\n",
    "# poi_df_sample_3000.to_csv('./datasets/poi_sample_3k.csv')"
   ]
  },
  {
   "cell_type": "markdown",
   "metadata": {},
   "source": [
    "**Reverse geocoding**"
   ]
  },
  {
   "cell_type": "code",
   "execution_count": 6,
   "metadata": {
    "ExecuteTime": {
     "end_time": "2019-04-04T13:27:48.691099Z",
     "start_time": "2019-04-04T13:27:48.685115Z"
    }
   },
   "outputs": [],
   "source": [
<<<<<<< HEAD
    "# poi_df_sample_3000 = poi_df.sample(n=3000, random_state=random_state)\n",
    "# poi_df_sample_3000.to_csv('./datasets/poi_sample_3k.csv')"
=======
    "geolocator = Nominatim(user_agent='world_travel')"
   ]
  },
  {
   "cell_type": "code",
   "execution_count": 7,
   "metadata": {
    "ExecuteTime": {
     "end_time": "2019-04-04T13:29:34.747205Z",
     "start_time": "2019-04-04T13:29:33.517795Z"
    }
   },
   "outputs": [
    {
     "name": "stdout",
     "output_type": "stream",
     "text": [
      "Mount Fiske Glacier, John Muir Trail, Fresno County, California, USA\n"
     ]
    }
   ],
   "source": [
    "location = geolocator.reverse(\"37.138889, -118.666111\")\n",
    "print(location.address)"
>>>>>>> 6ed1345f3fcb24573406a79e55b4fdef2b0ca4d6
   ]
  },
  {
   "cell_type": "code",
   "execution_count": null,
   "metadata": {},
   "outputs": [],
   "source": []
  }
 ],
 "metadata": {
  "kernelspec": {
   "display_name": "Python 3",
   "language": "python",
   "name": "python3"
  },
  "language_info": {
   "codemirror_mode": {
    "name": "ipython",
    "version": 3
   },
   "file_extension": ".py",
   "mimetype": "text/x-python",
   "name": "python",
   "nbconvert_exporter": "python",
   "pygments_lexer": "ipython3",
   "version": "3.6.4"
  },
  "varInspector": {
   "cols": {
    "lenName": 16,
    "lenType": 16,
    "lenVar": 40
   },
   "kernels_config": {
    "python": {
     "delete_cmd_postfix": "",
     "delete_cmd_prefix": "del ",
     "library": "var_list.py",
     "varRefreshCmd": "print(var_dic_list())"
    },
    "r": {
     "delete_cmd_postfix": ") ",
     "delete_cmd_prefix": "rm(",
     "library": "var_list.r",
     "varRefreshCmd": "cat(var_dic_list()) "
    }
   },
   "types_to_exclude": [
    "module",
    "function",
    "builtin_function_or_method",
    "instance",
    "_Feature"
   ],
   "window_display": false
  }
 },
 "nbformat": 4,
 "nbformat_minor": 2
}
